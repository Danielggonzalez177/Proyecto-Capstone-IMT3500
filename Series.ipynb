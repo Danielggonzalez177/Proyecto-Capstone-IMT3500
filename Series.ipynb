{
 "cells": [
  {
   "cell_type": "code",
   "execution_count": 1,
   "metadata": {},
   "outputs": [],
   "source": [
    "import numpy as np\n",
    "import pandas as pd\n",
    "import matplotlib.pyplot as plt\n",
    "#Cambiar el path *Importante\n",
    "PATH_2210 = \"E01_T_DEU_CONS_2210_REV.csv\"\n",
    "PATH_2211 = \"E01_T_DEU_CONS_2211_REV.csv\"\n",
    "PATH_2212 = \"E01_T_DEU_CONS_2212_REV.csv\"\n",
    "PATH_2301 = \"E01_T_DEU_CONS_2301_REV.csv\"\n",
    "PATH_2302 = \"E01_T_DEU_CONS_2302_REV.csv\"\n",
    "PATH_2303 = \"E01_T_DEU_CONS_2303_REV.csv\""
   ]
  },
  {
   "attachments": {},
   "cell_type": "markdown",
   "metadata": {},
   "source": [
    "Cargar las bases"
   ]
  },
  {
   "cell_type": "code",
   "execution_count": null,
   "metadata": {},
   "outputs": [],
   "source": [
    "#df2210 = pd.read_csv(PATH_2210, delimiter=\";\")\n",
    "#df2211 = pd.read_csv(PATH_2211,delimiter=\";\")\n",
    "#df2212 = pd.read_csv(PATH_2212,delimiter=\";\")\n",
    "#df2301 = pd.read_csv(PATH_2301,delimiter=\";\")\n",
    "#df2302 = pd.read_csv(PATH_2302,delimiter=\";\")\n",
    "#df2303 = pd.read_csv(PATH_2303,delimiter=\";\")"
   ]
  },
  {
   "attachments": {},
   "cell_type": "markdown",
   "metadata": {},
   "source": [
    "Cargar las bases (Solo las personas)"
   ]
  },
  {
   "cell_type": "code",
   "execution_count": 2,
   "metadata": {},
   "outputs": [],
   "source": [
    "df2210 = pd.read_csv(PATH_2210, delimiter=\";\", usecols = ['RUT'])\n",
    "df2211 = pd.read_csv(PATH_2211, delimiter=\";\", usecols = ['RUT'])\n",
    "df2212 = pd.read_csv(PATH_2212, delimiter=\";\", usecols = ['RUT'])\n",
    "df2301 = pd.read_csv(PATH_2301, delimiter=\";\", usecols = ['RUT'])\n",
    "df2302 = pd.read_csv(PATH_2302, delimiter=\";\", usecols = ['RUT'])\n",
    "df2303 = pd.read_csv(PATH_2303, delimiter=\";\", usecols = ['RUT'])"
   ]
  },
  {
   "attachments": {},
   "cell_type": "markdown",
   "metadata": {},
   "source": [
    "Buscamos a las personas que estan presentes en todos los dataframes"
   ]
  },
  {
   "cell_type": "code",
   "execution_count": 3,
   "metadata": {},
   "outputs": [],
   "source": [
    "RutComunes = np.intersect1d(np.intersect1d(np.intersect1d(df2210, df2211), df2212), np.intersect1d(df2301, np.intersect1d(df2302, df2303)))"
   ]
  },
  {
   "attachments": {},
   "cell_type": "markdown",
   "metadata": {},
   "source": [
    "Cantidad de Ruts comunes entre las bases:"
   ]
  },
  {
   "cell_type": "code",
   "execution_count": 4,
   "metadata": {},
   "outputs": [
    {
     "name": "stdout",
     "output_type": "stream",
     "text": [
      "1028027\n"
     ]
    }
   ],
   "source": [
    "print(RutComunes.size) #Podriamos eliminar la primera fila?"
   ]
  },
  {
   "cell_type": "code",
   "execution_count": 4,
   "metadata": {},
   "outputs": [
    {
     "data": {
      "text/html": [
       "<div>\n",
       "<style scoped>\n",
       "    .dataframe tbody tr th:only-of-type {\n",
       "        vertical-align: middle;\n",
       "    }\n",
       "\n",
       "    .dataframe tbody tr th {\n",
       "        vertical-align: top;\n",
       "    }\n",
       "\n",
       "    .dataframe thead th {\n",
       "        text-align: right;\n",
       "    }\n",
       "</style>\n",
       "<table border=\"1\" class=\"dataframe\">\n",
       "  <thead>\n",
       "    <tr style=\"text-align: right;\">\n",
       "      <th></th>\n",
       "      <th>RUT</th>\n",
       "    </tr>\n",
       "  </thead>\n",
       "  <tbody>\n",
       "    <tr>\n",
       "      <th>1028018</th>\n",
       "      <td>1083117</td>\n",
       "    </tr>\n",
       "    <tr>\n",
       "      <th>1028019</th>\n",
       "      <td>1083118</td>\n",
       "    </tr>\n",
       "    <tr>\n",
       "      <th>1028020</th>\n",
       "      <td>1083119</td>\n",
       "    </tr>\n",
       "    <tr>\n",
       "      <th>1028021</th>\n",
       "      <td>1083120</td>\n",
       "    </tr>\n",
       "    <tr>\n",
       "      <th>1028022</th>\n",
       "      <td>1083121</td>\n",
       "    </tr>\n",
       "    <tr>\n",
       "      <th>1028023</th>\n",
       "      <td>1083122</td>\n",
       "    </tr>\n",
       "    <tr>\n",
       "      <th>1028024</th>\n",
       "      <td>1083123</td>\n",
       "    </tr>\n",
       "    <tr>\n",
       "      <th>1028025</th>\n",
       "      <td>1083124</td>\n",
       "    </tr>\n",
       "    <tr>\n",
       "      <th>1028026</th>\n",
       "      <td>1083125</td>\n",
       "    </tr>\n",
       "  </tbody>\n",
       "</table>\n",
       "</div>"
      ],
      "text/plain": [
       "             RUT\n",
       "1028018  1083117\n",
       "1028019  1083118\n",
       "1028020  1083119\n",
       "1028021  1083120\n",
       "1028022  1083121\n",
       "1028023  1083122\n",
       "1028024  1083123\n",
       "1028025  1083124\n",
       "1028026  1083125"
      ]
     },
     "execution_count": 4,
     "metadata": {},
     "output_type": "execute_result"
    }
   ],
   "source": [
    "dfRutComunes = pd.DataFrame({'RUT': RutComunes})\n",
    "lista_rut = dfRutComunes[\"RUT\"]\n",
    "#print(lista_rut[8])\n",
    "#print(len(lista_rut))\n",
    "dfRutComunes.tail(9)"
   ]
  },
  {
   "attachments": {},
   "cell_type": "markdown",
   "metadata": {},
   "source": [
    "Lo que hacemos ahora es para cierta variable, crear un dataframe en el tiempo siempre y cuando el rut se encuentre en todos los periodos (Crear Funcion al final)"
   ]
  },
  {
   "cell_type": "code",
   "execution_count": 16,
   "metadata": {},
   "outputs": [],
   "source": [
    "def dataframevariable(Variable):\n",
    "    df2210 = pd.read_csv(PATH_2210, delimiter=\";\", usecols = ['RUT',Variable])\n",
    "    df2211 = pd.read_csv(PATH_2211, delimiter=\";\", usecols = ['RUT',Variable])\n",
    "    df2212 = pd.read_csv(PATH_2212, delimiter=\";\", usecols = ['RUT',Variable])\n",
    "    df2301 = pd.read_csv(PATH_2301, delimiter=\";\", usecols = ['RUT',Variable])\n",
    "    df2302 = pd.read_csv(PATH_2302, delimiter=\";\", usecols = ['RUT',Variable])\n",
    "    df2303 = pd.read_csv(PATH_2303, delimiter=\";\", usecols = ['RUT',Variable])\n",
    "\n",
    "    dftemporal = pd.DataFrame({'2210': df2210[Variable]})\n",
    "    dftemporal = pd.DataFrame({'2211': df2210[Variable]})\n",
    "    dftemporal = pd.DataFrame({'2212': df2210[Variable]})\n",
    "    dftemporal = pd.DataFrame({'2301': df2210[Variable]})\n",
    "    dftemporal = pd.DataFrame({'2302': df2210[Variable]})\n",
    "    dftemporal = pd.DataFrame({'2313': df2210[Variable]})\n"
   ]
  },
  {
   "cell_type": "code",
   "execution_count": 5,
   "metadata": {},
   "outputs": [],
   "source": [
    "#Ejemplo MTOINT:\n",
    "#Primero cargamos todos los df con respecto a la variable\n",
    "df22101 = pd.read_csv(PATH_2210, delimiter=\";\", usecols = ['RUT',\"SPROM\"])\n",
    "df22111 = pd.read_csv(PATH_2211, delimiter=\";\", usecols = ['RUT',\"SPROM\"])\n",
    "df22121 = pd.read_csv(PATH_2212, delimiter=\";\", usecols = ['RUT',\"SPROM\"])\n",
    "df23011 = pd.read_csv(PATH_2301, delimiter=\";\", usecols = ['RUT',\"SPROM\"])\n",
    "df23021 = pd.read_csv(PATH_2302, delimiter=\";\", usecols = ['RUT',\"SPROM\"])\n",
    "df23031 = pd.read_csv(PATH_2303, delimiter=\";\", usecols = ['RUT',\"SPROM\"])\n",
    "\n"
   ]
  },
  {
   "cell_type": "code",
   "execution_count": 27,
   "metadata": {},
   "outputs": [
    {
     "data": {
      "text/html": [
       "<div>\n",
       "<style scoped>\n",
       "    .dataframe tbody tr th:only-of-type {\n",
       "        vertical-align: middle;\n",
       "    }\n",
       "\n",
       "    .dataframe tbody tr th {\n",
       "        vertical-align: top;\n",
       "    }\n",
       "\n",
       "    .dataframe thead th {\n",
       "        text-align: right;\n",
       "    }\n",
       "</style>\n",
       "<table border=\"1\" class=\"dataframe\">\n",
       "  <thead>\n",
       "    <tr style=\"text-align: right;\">\n",
       "      <th></th>\n",
       "      <th>RUT</th>\n",
       "      <th>SPROM</th>\n",
       "    </tr>\n",
       "  </thead>\n",
       "  <tbody>\n",
       "    <tr>\n",
       "      <th>0</th>\n",
       "      <td>760881</td>\n",
       "      <td>0.0</td>\n",
       "    </tr>\n",
       "    <tr>\n",
       "      <th>1</th>\n",
       "      <td>760880</td>\n",
       "      <td>0.0</td>\n",
       "    </tr>\n",
       "    <tr>\n",
       "      <th>2</th>\n",
       "      <td>760880</td>\n",
       "      <td>0.0</td>\n",
       "    </tr>\n",
       "    <tr>\n",
       "      <th>3</th>\n",
       "      <td>760878</td>\n",
       "      <td>0.0</td>\n",
       "    </tr>\n",
       "    <tr>\n",
       "      <th>4</th>\n",
       "      <td>760878</td>\n",
       "      <td>0.0</td>\n",
       "    </tr>\n",
       "  </tbody>\n",
       "</table>\n",
       "</div>"
      ],
      "text/plain": [
       "      RUT  SPROM\n",
       "0  760881    0.0\n",
       "1  760880    0.0\n",
       "2  760880    0.0\n",
       "3  760878    0.0\n",
       "4  760878    0.0"
      ]
     },
     "execution_count": 27,
     "metadata": {},
     "output_type": "execute_result"
    }
   ],
   "source": [
    "dfvarible22101 = df22101.loc[df22101['RUT'].isin(lista_rut)].dropna()\n",
    "dfvarible22111 = df22111.loc[df22111['RUT'].isin(lista_rut)].dropna()\n",
    "dfvarible22121 = df22121.loc[df22121['RUT'].isin(lista_rut)].dropna()\n",
    "dfvarible23011 = df23011.loc[df23011['RUT'].isin(lista_rut)].dropna()\n",
    "dfvarible23021 = df22101.loc[df23021['RUT'].isin(lista_rut)].dropna()\n",
    "dfvarible23031 = df23031.loc[df23031['RUT'].isin(lista_rut)].dropna()\n",
    "\n",
    "dfvarible23031.head()"
   ]
  },
  {
   "cell_type": "code",
   "execution_count": 31,
   "metadata": {},
   "outputs": [
    {
     "data": {
      "text/plain": [
       "16351230"
      ]
     },
     "execution_count": 31,
     "metadata": {},
     "output_type": "execute_result"
    }
   ],
   "source": [
    "#Hacemos un dataframe vacio\n",
    "dataframes = [dfvarible22101, dfvarible22111, dfvarible22121, dfvarible23011, dfvarible23021, dfvarible23031]\n",
    "# Crear el nuevo dataframe combinando los dataframes\n",
    "dftemporal = pd.concat([df['SPROM'] for df in dataframes], axis=1)\n",
    "dftemporal['RUT'] = dfvarible22101['RUT']\n",
    "\n",
    "dftemporal.size"
   ]
  },
  {
   "cell_type": "code",
   "execution_count": 32,
   "metadata": {},
   "outputs": [
    {
     "data": {
      "text/html": [
       "<div>\n",
       "<style scoped>\n",
       "    .dataframe tbody tr th:only-of-type {\n",
       "        vertical-align: middle;\n",
       "    }\n",
       "\n",
       "    .dataframe tbody tr th {\n",
       "        vertical-align: top;\n",
       "    }\n",
       "\n",
       "    .dataframe thead th {\n",
       "        text-align: right;\n",
       "    }\n",
       "</style>\n",
       "<table border=\"1\" class=\"dataframe\">\n",
       "  <thead>\n",
       "    <tr style=\"text-align: right;\">\n",
       "      <th></th>\n",
       "      <th>2210</th>\n",
       "      <th>2211</th>\n",
       "      <th>2212</th>\n",
       "      <th>2301</th>\n",
       "      <th>2302</th>\n",
       "      <th>2303</th>\n",
       "      <th>RUT</th>\n",
       "    </tr>\n",
       "  </thead>\n",
       "  <tbody>\n",
       "    <tr>\n",
       "      <th>925264</th>\n",
       "      <td>0.0</td>\n",
       "      <td>0.0</td>\n",
       "      <td>0.0</td>\n",
       "      <td>NaN</td>\n",
       "      <td>0.0</td>\n",
       "      <td>NaN</td>\n",
       "      <td>0.0</td>\n",
       "    </tr>\n",
       "    <tr>\n",
       "      <th>1040751</th>\n",
       "      <td>26712996.0</td>\n",
       "      <td>NaN</td>\n",
       "      <td>NaN</td>\n",
       "      <td>NaN</td>\n",
       "      <td>26712996.0</td>\n",
       "      <td>0.0</td>\n",
       "      <td>1.0</td>\n",
       "    </tr>\n",
       "    <tr>\n",
       "      <th>1039952</th>\n",
       "      <td>5379495.0</td>\n",
       "      <td>NaN</td>\n",
       "      <td>NaN</td>\n",
       "      <td>0.0</td>\n",
       "      <td>5379495.0</td>\n",
       "      <td>713.0</td>\n",
       "      <td>3.0</td>\n",
       "    </tr>\n",
       "    <tr>\n",
       "      <th>1039951</th>\n",
       "      <td>10046.0</td>\n",
       "      <td>NaN</td>\n",
       "      <td>NaN</td>\n",
       "      <td>0.0</td>\n",
       "      <td>10046.0</td>\n",
       "      <td>NaN</td>\n",
       "      <td>26.0</td>\n",
       "    </tr>\n",
       "    <tr>\n",
       "      <th>1039950</th>\n",
       "      <td>0.0</td>\n",
       "      <td>NaN</td>\n",
       "      <td>NaN</td>\n",
       "      <td>0.0</td>\n",
       "      <td>0.0</td>\n",
       "      <td>27877374.0</td>\n",
       "      <td>26.0</td>\n",
       "    </tr>\n",
       "    <tr>\n",
       "      <th>1039949</th>\n",
       "      <td>1417965.0</td>\n",
       "      <td>NaN</td>\n",
       "      <td>NaN</td>\n",
       "      <td>0.0</td>\n",
       "      <td>NaN</td>\n",
       "      <td>0.0</td>\n",
       "      <td>27.0</td>\n",
       "    </tr>\n",
       "    <tr>\n",
       "      <th>1039948</th>\n",
       "      <td>8257573.0</td>\n",
       "      <td>NaN</td>\n",
       "      <td>NaN</td>\n",
       "      <td>0.0</td>\n",
       "      <td>8257573.0</td>\n",
       "      <td>NaN</td>\n",
       "      <td>27.0</td>\n",
       "    </tr>\n",
       "    <tr>\n",
       "      <th>1039947</th>\n",
       "      <td>19806167.0</td>\n",
       "      <td>NaN</td>\n",
       "      <td>NaN</td>\n",
       "      <td>0.0</td>\n",
       "      <td>19806167.0</td>\n",
       "      <td>NaN</td>\n",
       "      <td>28.0</td>\n",
       "    </tr>\n",
       "    <tr>\n",
       "      <th>1039946</th>\n",
       "      <td>0.0</td>\n",
       "      <td>NaN</td>\n",
       "      <td>NaN</td>\n",
       "      <td>0.0</td>\n",
       "      <td>0.0</td>\n",
       "      <td>NaN</td>\n",
       "      <td>28.0</td>\n",
       "    </tr>\n",
       "  </tbody>\n",
       "</table>\n",
       "</div>"
      ],
      "text/plain": [
       "               2210  2211  2212  2301        2302        2303   RUT\n",
       "925264          0.0   0.0   0.0   NaN         0.0         NaN   0.0\n",
       "1040751  26712996.0   NaN   NaN   NaN  26712996.0         0.0   1.0\n",
       "1039952   5379495.0   NaN   NaN   0.0   5379495.0       713.0   3.0\n",
       "1039951     10046.0   NaN   NaN   0.0     10046.0         NaN  26.0\n",
       "1039950         0.0   NaN   NaN   0.0         0.0  27877374.0  26.0\n",
       "1039949   1417965.0   NaN   NaN   0.0         NaN         0.0  27.0\n",
       "1039948   8257573.0   NaN   NaN   0.0   8257573.0         NaN  27.0\n",
       "1039947  19806167.0   NaN   NaN   0.0  19806167.0         NaN  28.0\n",
       "1039946         0.0   NaN   NaN   0.0         0.0         NaN  28.0"
      ]
     },
     "execution_count": 32,
     "metadata": {},
     "output_type": "execute_result"
    }
   ],
   "source": [
    "dftemporal.columns.values[0] = '2210'\n",
    "dftemporal.columns.values[1] = '2211'\n",
    "dftemporal.columns.values[2] = '2212'\n",
    "dftemporal.columns.values[3] = '2301'\n",
    "dftemporal.columns.values[4] = '2302'\n",
    "dftemporal.columns.values[5] = '2303'\n",
    "#Eliminamos las filas que contengan algun NaN\n",
    "#dftemporal = dftemporal.dropna()\n",
    "dftemporal = dftemporal.sort_values('RUT', ascending=True)\n",
    "dftemporal = dftemporal.drop_duplicates()\n",
    "dftemporal.head(9)\n"
   ]
  },
  {
   "cell_type": "code",
   "execution_count": 33,
   "metadata": {},
   "outputs": [
    {
     "name": "stdout",
     "output_type": "stream",
     "text": [
      "               2210  2211  2212  2301        2302        2303   RUT\n",
      "925264          0.0   0.0   0.0   NaN         0.0         NaN   0.0\n",
      "1040751  26712996.0   NaN   NaN   NaN  26712996.0         0.0   1.0\n",
      "1039952   5379495.0   NaN   NaN   0.0   5379495.0       713.0   3.0\n",
      "1039951     10046.0   NaN   NaN   0.0     10046.0         NaN  26.0\n",
      "1039950         0.0   NaN   NaN   0.0         0.0  27877374.0  26.0\n",
      "...             ...   ...   ...   ...         ...         ...   ...\n",
      "2861240         NaN   NaN   NaN   NaN         NaN   1543045.0   NaN\n",
      "2861242         NaN   NaN   NaN   NaN         NaN    487267.0   NaN\n",
      "2861243         NaN   NaN   NaN   NaN         NaN     47325.0   NaN\n",
      "2861245         NaN   NaN   NaN   NaN         NaN   1124392.0   NaN\n",
      "2861246         NaN   NaN   NaN   NaN         NaN   2038440.0   NaN\n",
      "\n",
      "[1670289 rows x 7 columns]\n"
     ]
    }
   ],
   "source": [
    "print(dftemporal)"
   ]
  },
  {
   "attachments": {},
   "cell_type": "markdown",
   "metadata": {},
   "source": [
    "Otra forma de hacerlo(Ver cual es correcta)"
   ]
  },
  {
   "cell_type": "code",
   "execution_count": 30,
   "metadata": {},
   "outputs": [
    {
     "name": "stdout",
     "output_type": "stream",
     "text": [
      "               2210  2211  2212  2301        2302     2303     RUT\n",
      "17        1065482.0   NaN   NaN   NaN   1065482.0      NaN  776596\n",
      "18           6985.0   NaN   NaN   NaN      6985.0      0.0  776576\n",
      "19         156690.0   NaN   NaN   NaN    156690.0      0.0  773582\n",
      "20         191756.0   NaN   NaN   NaN    191756.0  20202.0  773579\n",
      "21       10105089.0   NaN   NaN   NaN  10105089.0    222.0  773579\n",
      "...             ...   ...   ...   ...         ...      ...     ...\n",
      "2767486     51992.0   NaN   NaN   NaN     51992.0      0.0  584686\n",
      "2767487    112617.0   NaN   0.0   NaN    112617.0      0.0  584686\n",
      "2767488         0.0   NaN   0.0   NaN         0.0      0.0  584685\n",
      "2767489   2091427.0   NaN   0.0   NaN   2091427.0      0.0  584685\n",
      "2767490  21573884.0   NaN   0.0   0.0  21573884.0      0.0  584685\n",
      "\n",
      "[858201 rows x 7 columns]\n",
      "6007407\n"
     ]
    }
   ],
   "source": [
    "dataframes = [\n",
    "    (dfvarible22101, '2210'),\n",
    "    (dfvarible22111, '2211'),\n",
    "    (dfvarible22121, '2212'),\n",
    "    (dfvarible23011, '2301'),\n",
    "    (dfvarible23021, '2302'),\n",
    "    (dfvarible23031, '2303')\n",
    "]\n",
    "\n",
    "dftemporal = pd.DataFrame()\n",
    "\n",
    "for df, nombre_df in dataframes:\n",
    "    dftemporal[nombre_df] = df['SPROM']\n",
    "\n",
    "dftemporal['RUT'] = df22101['RUT'] \n",
    "\n",
    "print(dftemporal)\n",
    "print(dftemporal.size)"
   ]
  }
 ],
 "metadata": {
  "kernelspec": {
   "display_name": "Python 3",
   "language": "python",
   "name": "python3"
  },
  "language_info": {
   "codemirror_mode": {
    "name": "ipython",
    "version": 3
   },
   "file_extension": ".py",
   "mimetype": "text/x-python",
   "name": "python",
   "nbconvert_exporter": "python",
   "pygments_lexer": "ipython3",
   "version": "3.9.2"
  },
  "orig_nbformat": 4
 },
 "nbformat": 4,
 "nbformat_minor": 2
}
