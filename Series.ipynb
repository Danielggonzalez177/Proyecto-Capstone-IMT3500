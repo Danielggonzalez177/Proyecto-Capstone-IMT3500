{
 "cells": [
  {
   "cell_type": "code",
   "execution_count": 1,
   "metadata": {},
   "outputs": [],
   "source": [
    "import numpy as np\n",
    "import pandas as pd\n",
    "import matplotlib.pyplot as plt\n",
    "#Cambiar el path *Importante\n",
    "PATH_2210 = \"E01_T_DEU_CONS_2210_REV.csv\"\n",
    "PATH_2211 = \"E01_T_DEU_CONS_2211_REV.csv\"\n",
    "PATH_2212 = \"E01_T_DEU_CONS_2212_REV.csv\"\n",
    "PATH_2301 = \"E01_T_DEU_CONS_2301_REV.csv\"\n",
    "PATH_2302 = \"E01_T_DEU_CONS_2302_REV.csv\"\n",
    "PATH_2303 = \"E01_T_DEU_CONS_2303_REV.csv\""
   ]
  },
  {
   "attachments": {},
   "cell_type": "markdown",
   "metadata": {},
   "source": [
    "Cargar las bases"
   ]
  },
  {
   "cell_type": "code",
   "execution_count": null,
   "metadata": {},
   "outputs": [],
   "source": [
    "#df2210 = pd.read_csv(PATH_2210, delimiter=\";\")\n",
    "#df2211 = pd.read_csv(PATH_2211,delimiter=\";\")\n",
    "#df2212 = pd.read_csv(PATH_2212,delimiter=\";\")\n",
    "#df2301 = pd.read_csv(PATH_2301,delimiter=\";\")\n",
    "#df2302 = pd.read_csv(PATH_2302,delimiter=\";\")\n",
    "#df2303 = pd.read_csv(PATH_2303,delimiter=\";\")"
   ]
  },
  {
   "attachments": {},
   "cell_type": "markdown",
   "metadata": {},
   "source": [
    "Cargar las bases (Solo las personas)"
   ]
  },
  {
   "cell_type": "code",
   "execution_count": 2,
   "metadata": {},
   "outputs": [],
   "source": [
    "df2210 = pd.read_csv(PATH_2210, delimiter=\";\", usecols = ['RUT'])\n",
    "df2211 = pd.read_csv(PATH_2211, delimiter=\";\", usecols = ['RUT'])\n",
    "df2212 = pd.read_csv(PATH_2212, delimiter=\";\", usecols = ['RUT'])\n",
    "df2301 = pd.read_csv(PATH_2301, delimiter=\";\", usecols = ['RUT'])\n",
    "df2302 = pd.read_csv(PATH_2302, delimiter=\";\", usecols = ['RUT'])\n",
    "df2303 = pd.read_csv(PATH_2303, delimiter=\";\", usecols = ['RUT'])"
   ]
  },
  {
   "attachments": {},
   "cell_type": "markdown",
   "metadata": {},
   "source": [
    "Buscamos a las personas que estan presentes en todos los dataframes"
   ]
  },
  {
   "cell_type": "code",
   "execution_count": 3,
   "metadata": {},
   "outputs": [],
   "source": [
    "RutComunes = np.intersect1d(np.intersect1d(np.intersect1d(df2210, df2211), df2212), np.intersect1d(df2301, np.intersect1d(df2302, df2303)))"
   ]
  },
  {
   "attachments": {},
   "cell_type": "markdown",
   "metadata": {},
   "source": [
    "Cantidad de Ruts comunes entre las bases:"
   ]
  },
  {
   "cell_type": "code",
   "execution_count": 4,
   "metadata": {},
   "outputs": [
    {
     "name": "stdout",
     "output_type": "stream",
     "text": [
      "1028027\n"
     ]
    }
   ],
   "source": [
    "print(RutComunes.size) #Podriamos eliminar la primera fila?"
   ]
  },
  {
   "cell_type": "code",
   "execution_count": 4,
   "metadata": {},
   "outputs": [
    {
     "data": {
      "text/html": [
       "<div>\n",
       "<style scoped>\n",
       "    .dataframe tbody tr th:only-of-type {\n",
       "        vertical-align: middle;\n",
       "    }\n",
       "\n",
       "    .dataframe tbody tr th {\n",
       "        vertical-align: top;\n",
       "    }\n",
       "\n",
       "    .dataframe thead th {\n",
       "        text-align: right;\n",
       "    }\n",
       "</style>\n",
       "<table border=\"1\" class=\"dataframe\">\n",
       "  <thead>\n",
       "    <tr style=\"text-align: right;\">\n",
       "      <th></th>\n",
       "      <th>RUT</th>\n",
       "    </tr>\n",
       "  </thead>\n",
       "  <tbody>\n",
       "    <tr>\n",
       "      <th>1028018</th>\n",
       "      <td>1083117</td>\n",
       "    </tr>\n",
       "    <tr>\n",
       "      <th>1028019</th>\n",
       "      <td>1083118</td>\n",
       "    </tr>\n",
       "    <tr>\n",
       "      <th>1028020</th>\n",
       "      <td>1083119</td>\n",
       "    </tr>\n",
       "    <tr>\n",
       "      <th>1028021</th>\n",
       "      <td>1083120</td>\n",
       "    </tr>\n",
       "    <tr>\n",
       "      <th>1028022</th>\n",
       "      <td>1083121</td>\n",
       "    </tr>\n",
       "    <tr>\n",
       "      <th>1028023</th>\n",
       "      <td>1083122</td>\n",
       "    </tr>\n",
       "    <tr>\n",
       "      <th>1028024</th>\n",
       "      <td>1083123</td>\n",
       "    </tr>\n",
       "    <tr>\n",
       "      <th>1028025</th>\n",
       "      <td>1083124</td>\n",
       "    </tr>\n",
       "    <tr>\n",
       "      <th>1028026</th>\n",
       "      <td>1083125</td>\n",
       "    </tr>\n",
       "  </tbody>\n",
       "</table>\n",
       "</div>"
      ],
      "text/plain": [
       "             RUT\n",
       "1028018  1083117\n",
       "1028019  1083118\n",
       "1028020  1083119\n",
       "1028021  1083120\n",
       "1028022  1083121\n",
       "1028023  1083122\n",
       "1028024  1083123\n",
       "1028025  1083124\n",
       "1028026  1083125"
      ]
     },
     "execution_count": 4,
     "metadata": {},
     "output_type": "execute_result"
    }
   ],
   "source": [
    "dfRutComunes = pd.DataFrame({'RUT': RutComunes})\n",
    "lista_rut = dfRutComunes[\"RUT\"]\n",
    "#print(lista_rut[8])\n",
    "#print(len(lista_rut))\n",
    "dfRutComunes.tail(9)"
   ]
  },
  {
   "attachments": {},
   "cell_type": "markdown",
   "metadata": {},
   "source": [
    "Lo que hacemos ahora es para cierta variable, crear un dataframe en el tiempo siempre y cuando el rut se encuentre en todos los periodos (Crear Funcion al final)"
   ]
  },
  {
   "cell_type": "code",
   "execution_count": 16,
   "metadata": {},
   "outputs": [],
   "source": [
    "def dataframevariable(Variable):\n",
    "    df2210 = pd.read_csv(PATH_2210, delimiter=\";\", usecols = ['RUT',Variable])\n",
    "    df2211 = pd.read_csv(PATH_2211, delimiter=\";\", usecols = ['RUT',Variable])\n",
    "    df2212 = pd.read_csv(PATH_2212, delimiter=\";\", usecols = ['RUT',Variable])\n",
    "    df2301 = pd.read_csv(PATH_2301, delimiter=\";\", usecols = ['RUT',Variable])\n",
    "    df2302 = pd.read_csv(PATH_2302, delimiter=\";\", usecols = ['RUT',Variable])\n",
    "    df2303 = pd.read_csv(PATH_2303, delimiter=\";\", usecols = ['RUT',Variable])\n",
    "\n",
    "    dftemporal = pd.DataFrame({'2210': df2210[Variable]})\n",
    "    dftemporal = pd.DataFrame({'2211': df2210[Variable]})\n",
    "    dftemporal = pd.DataFrame({'2212': df2210[Variable]})\n",
    "    dftemporal = pd.DataFrame({'2301': df2210[Variable]})\n",
    "    dftemporal = pd.DataFrame({'2302': df2210[Variable]})\n",
    "    dftemporal = pd.DataFrame({'2313': df2210[Variable]})\n"
   ]
  },
  {
   "cell_type": "code",
   "execution_count": 5,
   "metadata": {},
   "outputs": [],
   "source": [
    "#Ejemplo MTOINT:\n",
    "#Primero cargamos todos los df con respecto a la variable\n",
    "df22101 = pd.read_csv(PATH_2210, delimiter=\";\", usecols = ['RUT',\"SPROM\"])\n",
    "df22111 = pd.read_csv(PATH_2211, delimiter=\";\", usecols = ['RUT',\"SPROM\"])\n",
    "df22121 = pd.read_csv(PATH_2212, delimiter=\";\", usecols = ['RUT',\"SPROM\"])\n",
    "df23011 = pd.read_csv(PATH_2301, delimiter=\";\", usecols = ['RUT',\"SPROM\"])\n",
    "df23021 = pd.read_csv(PATH_2302, delimiter=\";\", usecols = ['RUT',\"SPROM\"])\n",
    "df23031 = pd.read_csv(PATH_2303, delimiter=\";\", usecols = ['RUT',\"SPROM\"])\n",
    "\n"
   ]
  },
  {
   "cell_type": "code",
   "execution_count": 6,
   "metadata": {},
   "outputs": [
    {
     "data": {
      "text/html": [
       "<div>\n",
       "<style scoped>\n",
       "    .dataframe tbody tr th:only-of-type {\n",
       "        vertical-align: middle;\n",
       "    }\n",
       "\n",
       "    .dataframe tbody tr th {\n",
       "        vertical-align: top;\n",
       "    }\n",
       "\n",
       "    .dataframe thead th {\n",
       "        text-align: right;\n",
       "    }\n",
       "</style>\n",
       "<table border=\"1\" class=\"dataframe\">\n",
       "  <thead>\n",
       "    <tr style=\"text-align: right;\">\n",
       "      <th></th>\n",
       "      <th>RUT</th>\n",
       "      <th>SPROM</th>\n",
       "    </tr>\n",
       "  </thead>\n",
       "  <tbody>\n",
       "    <tr>\n",
       "      <th>0</th>\n",
       "      <td>760881</td>\n",
       "      <td>0.0</td>\n",
       "    </tr>\n",
       "    <tr>\n",
       "      <th>1</th>\n",
       "      <td>760880</td>\n",
       "      <td>0.0</td>\n",
       "    </tr>\n",
       "    <tr>\n",
       "      <th>2</th>\n",
       "      <td>760880</td>\n",
       "      <td>0.0</td>\n",
       "    </tr>\n",
       "    <tr>\n",
       "      <th>3</th>\n",
       "      <td>760878</td>\n",
       "      <td>0.0</td>\n",
       "    </tr>\n",
       "    <tr>\n",
       "      <th>4</th>\n",
       "      <td>760878</td>\n",
       "      <td>0.0</td>\n",
       "    </tr>\n",
       "  </tbody>\n",
       "</table>\n",
       "</div>"
      ],
      "text/plain": [
       "      RUT  SPROM\n",
       "0  760881    0.0\n",
       "1  760880    0.0\n",
       "2  760880    0.0\n",
       "3  760878    0.0\n",
       "4  760878    0.0"
      ]
     },
     "execution_count": 6,
     "metadata": {},
     "output_type": "execute_result"
    }
   ],
   "source": [
    "dfvarible22101 = df22101.loc[df22101['RUT'].isin(lista_rut)].dropna()\n",
    "dfvarible22111 = df22111.loc[df22111['RUT'].isin(lista_rut)].dropna()\n",
    "dfvarible22121 = df22121.loc[df22121['RUT'].isin(lista_rut)].dropna()\n",
    "dfvarible23011 = df23011.loc[df23011['RUT'].isin(lista_rut)].dropna()\n",
    "dfvarible23021 = df22101.loc[df23021['RUT'].isin(lista_rut)].dropna()\n",
    "dfvarible23031 = df23031.loc[df23031['RUT'].isin(lista_rut)].dropna()\n",
    "\n",
    "dfvarible23031.head()"
   ]
  },
  {
   "attachments": {},
   "cell_type": "markdown",
   "metadata": {},
   "source": [
    "Creamos el DataFrame Final"
   ]
  },
  {
   "cell_type": "code",
   "execution_count": 7,
   "metadata": {},
   "outputs": [
    {
     "name": "stdout",
     "output_type": "stream",
     "text": [
      "               2210  2211  2212  2301        2302     2303     RUT\n",
      "17        1065482.0   NaN   NaN   NaN   1065482.0      NaN  776596\n",
      "18           6985.0   NaN   NaN   NaN      6985.0      0.0  776576\n",
      "19         156690.0   NaN   NaN   NaN    156690.0      0.0  773582\n",
      "20         191756.0   NaN   NaN   NaN    191756.0  20202.0  773579\n",
      "21       10105089.0   NaN   NaN   NaN  10105089.0    222.0  773579\n",
      "...             ...   ...   ...   ...         ...      ...     ...\n",
      "2767486     51992.0   NaN   NaN   NaN     51992.0      0.0  584686\n",
      "2767487    112617.0   NaN   0.0   NaN    112617.0      0.0  584686\n",
      "2767488         0.0   NaN   0.0   NaN         0.0      0.0  584685\n",
      "2767489   2091427.0   NaN   0.0   NaN   2091427.0      0.0  584685\n",
      "2767490  21573884.0   NaN   0.0   0.0  21573884.0      0.0  584685\n",
      "\n",
      "[858201 rows x 7 columns]\n",
      "6007407\n"
     ]
    }
   ],
   "source": [
    "dataframes = [\n",
    "    (dfvarible22101, '2210'),\n",
    "    (dfvarible22111, '2211'),\n",
    "    (dfvarible22121, '2212'),\n",
    "    (dfvarible23011, '2301'),\n",
    "    (dfvarible23021, '2302'),\n",
    "    (dfvarible23031, '2303')\n",
    "]\n",
    "\n",
    "dftemporal = pd.DataFrame()\n",
    "\n",
    "for df, nombre_df in dataframes:\n",
    "    dftemporal[nombre_df] = df['SPROM']\n",
    "\n",
    "dftemporal['RUT'] = df22101['RUT'] \n",
    "\n",
    "print(dftemporal)\n",
    "print(dftemporal.size)"
   ]
  },
  {
   "cell_type": "code",
   "execution_count": 15,
   "metadata": {},
   "outputs": [
    {
     "name": "stdout",
     "output_type": "stream",
     "text": [
      "             2210       2211      2212      2301      2302       2303      RUT\n",
      "327           0.0   699096.0  917802.0       0.0       0.0        0.0   793541\n",
      "430           0.0        0.0       0.0  213705.0       0.0        0.0   793539\n",
      "562           0.0        0.0   56839.0       0.0       0.0  7686258.0   767080\n",
      "563           0.0        0.0  141596.0  487213.0       0.0        0.0   767084\n",
      "784         401.0        0.0       0.0       0.0     401.0  4200000.0   111182\n",
      "...           ...        ...       ...       ...       ...        ...      ...\n",
      "2764694       0.0        0.0       0.0  199226.0       0.0  2059711.0  1047584\n",
      "2766123  248793.0    50519.0       0.0       0.0  248793.0      663.0   754493\n",
      "2766124       0.0   119605.0       0.0       0.0       0.0        0.0   754498\n",
      "2766125       0.0  2148984.0       0.0       0.0       0.0   185000.0   754501\n",
      "2766126  173320.0   971049.0       0.0       0.0  173320.0       18.0   754497\n",
      "\n",
      "[5830 rows x 7 columns]\n"
     ]
    }
   ],
   "source": [
    "dftemporal = dftemporal.dropna()\n",
    "print(dftemporal)"
   ]
  },
  {
   "attachments": {},
   "cell_type": "markdown",
   "metadata": {},
   "source": [
    "Ahora se genera funcion para realizar los test estadisticos"
   ]
  },
  {
   "cell_type": "code",
   "execution_count": 18,
   "metadata": {},
   "outputs": [],
   "source": [
    "from statsmodels.stats.stattools import durbin_watson\n",
    "from statsmodels.stats.diagnostic import acorr_breusch_godfrey\n",
    "import statsmodels.api as sm\n",
    "import datetime\n",
    "\n",
    "def TestSeriesDW (dataframe,fecha_1,fecha_2):\n",
    "    df_fecha_1 = dataframe[str(fecha_1)]\n",
    "    df_fecha_2 = dataframe[str(fecha_2)]\n",
    "    dw_test = durbin_watson(df_fecha_2 - df_fecha_1)\n",
    "    print(f\"{dw_test}\")\n",
    "\n",
    "def TestSeriesBG (dataframe,fecha_1,fecha_2):\n",
    "    columna1 = dataframe[str(fecha_1)]\n",
    "    columna2 = dataframe[str(fecha_2)]\n",
    "\n",
    "    # Elimina las filas que contengan valores NaN en ambas columnas\n",
    "    df_cleaned = dataframe.dropna(subset=[str(columna1), str(columna2)])\n",
    "\n",
    "    # Realiza el test de Breusch-Godfrey entre las dos columnas\n",
    "    bg_test = acorr_breusch_godfrey(df_cleaned[str(columna1)], exog=df_cleaned[str(columna2)])\n",
    "    print(f\"p-value={bg_test[1]}\")\n",
    "\n"
   ]
  },
  {
   "attachments": {},
   "cell_type": "markdown",
   "metadata": {},
   "source": [
    "Ver Test De BG"
   ]
  },
  {
   "cell_type": "code",
   "execution_count": 10,
   "metadata": {},
   "outputs": [
    {
     "name": "stdout",
     "output_type": "stream",
     "text": [
      "1.9998191963772067\n",
      "1.9216297685535972\n",
      "1.999653676884856\n",
      "1.999502249981422\n",
      "1.9994032304652283\n",
      "1.9994032304652283\n"
     ]
    }
   ],
   "source": [
    "TestSeriesDW(dftemporal,2210,2211)\n",
    "TestSeriesDW(dftemporal,2211,2212)\n",
    "TestSeriesDW(dftemporal,2212,2301)\n",
    "TestSeriesDW(dftemporal,2301,2302)\n",
    "TestSeriesDW(dftemporal,2302,2303) #Arrojan el mismo resultado\n",
    "TestSeriesDW(dftemporal,2303,2302) #Up"
   ]
  },
  {
   "attachments": {},
   "cell_type": "markdown",
   "metadata": {},
   "source": [
    "Realizar test de BG con Implementacion Correcta"
   ]
  },
  {
   "cell_type": "code",
   "execution_count": null,
   "metadata": {},
   "outputs": [],
   "source": [
    "TestSeriesBG(dftemporal,2210,2211)\n",
    "TestSeriesBG(dftemporal,2211,2212)\n",
    "TestSeriesBG(dftemporal,2212,2301)\n",
    "TestSeriesBG(dftemporal,2301,2302)\n",
    "TestSeriesBG(dftemporal,2302,2303) \n",
    "TestSeriesBG(dftemporal,2303,2302)"
   ]
  },
  {
   "cell_type": "code",
   "execution_count": 33,
   "metadata": {},
   "outputs": [
    {
     "name": "stdout",
     "output_type": "stream",
     "text": [
      "             2210       2211      2212      2301      2302       2303      RUT\n",
      "327           0.0   699096.0  917802.0       0.0       0.0        0.0   793541\n",
      "430           0.0        0.0       0.0  213705.0       0.0        0.0   793539\n",
      "562           0.0        0.0   56839.0       0.0       0.0  7686258.0   767080\n",
      "563           0.0        0.0  141596.0  487213.0       0.0        0.0   767084\n",
      "784         401.0        0.0       0.0       0.0     401.0  4200000.0   111182\n",
      "...           ...        ...       ...       ...       ...        ...      ...\n",
      "2764694       0.0        0.0       0.0  199226.0       0.0  2059711.0  1047584\n",
      "2766123  248793.0    50519.0       0.0       0.0  248793.0      663.0   754493\n",
      "2766124       0.0   119605.0       0.0       0.0       0.0        0.0   754498\n",
      "2766125       0.0  2148984.0       0.0       0.0       0.0   185000.0   754501\n",
      "2766126  173320.0   971049.0       0.0       0.0  173320.0       18.0   754497\n",
      "\n",
      "[5830 rows x 7 columns]\n"
     ]
    }
   ],
   "source": [
    "dflist = [2210,2211,2212,2301,2302,2303 ]\n",
    "\n",
    "\n",
    "# Convertir la lista de fechas en formato aaaamm a un formato de fecha válido\n",
    "fechas = pd.to_datetime(dflist, format='%Y%m', errors='coerce')\n",
    "\n",
    "# Verificar que las fechas existan en la columna de fecha de dftemporal\n",
    "fechas_validas = fechas.dropna()\n",
    "columnas_validas = [col for fecha, col in zip(fechas, dflist) if pd.notnull(fecha)]\n",
    "\n",
    "# Asignar los valores correspondientes a las columnas en dftemporal\n",
    "for fecha, col in zip(fechas_validas, columnas_validas):\n",
    "    dftemporal[col] = dftemporal.loc[fecha]\n",
    "\n",
    "# Imprimir el DataFrame actualizado\n",
    "print(dftemporal)\n"
   ]
  },
  {
   "cell_type": "code",
   "execution_count": 42,
   "metadata": {},
   "outputs": [
    {
     "name": "stdout",
     "output_type": "stream",
     "text": [
      "             327       430        562       563        784       785      \\\n",
      "2022-10-01       0.0       0.0        0.0       0.0      401.0    6000.0   \n",
      "2022-11-01  699096.0       0.0        0.0       0.0        0.0     860.0   \n",
      "2022-12-01  917802.0       0.0    56839.0  141596.0        0.0  438441.0   \n",
      "2023-01-01       0.0  213705.0        0.0  487213.0        0.0   70320.0   \n",
      "2023-02-01       0.0       0.0        0.0       0.0      401.0    6000.0   \n",
      "2023-03-01       0.0       0.0  7686258.0       0.0  4200000.0  991237.0   \n",
      "\n",
      "              904        2060      2267        2268     ...    2314936  \\\n",
      "2022-10-01  1647226.0        0.0       0.0         0.0  ...   156020.0   \n",
      "2022-11-01       28.0  5338649.0  181032.0  13654420.0  ...  2312025.0   \n",
      "2022-12-01        5.0        0.0   29611.0    233044.0  ...   112347.0   \n",
      "2023-01-01  1319843.0   527928.0     641.0     83466.0  ...    44267.0   \n",
      "2023-02-01  1647226.0        0.0       0.0         0.0  ...   156020.0   \n",
      "2023-03-01   154739.0  2166398.0       0.0         0.0  ...      192.0   \n",
      "\n",
      "                2316469   2316549     2317157   2317712   2317713   2317714  \\\n",
      "2022-10-01      13488.0       0.0     17683.0  751238.0  787379.0  823536.0   \n",
      "2022-11-01     122931.0  140770.0    352536.0  529974.0   27016.0  113567.0   \n",
      "2022-12-01  955639210.0   69183.0  22849998.0   95500.0     394.0       0.0   \n",
      "2023-01-01          0.0  147596.0     79474.0       0.0       0.0       0.0   \n",
      "2023-02-01      13488.0       0.0     17683.0  751238.0  787379.0  823536.0   \n",
      "2023-03-01          0.0       0.0         0.0       0.0       0.0       0.0   \n",
      "\n",
      "               2318314    2319631  2321346  \n",
      "2022-10-01  34521344.0  4660064.0      0.0  \n",
      "2022-11-01         0.0        0.0  33333.0  \n",
      "2022-12-01   1192042.0        0.0      0.0  \n",
      "2023-01-01    390984.0   624842.0  38333.0  \n",
      "2023-02-01  34521344.0  4660064.0      0.0  \n",
      "2023-03-01         0.0   102355.0      0.0  \n",
      "\n",
      "[6 rows x 5000 columns]\n"
     ]
    }
   ],
   "source": [
    "\n",
    "df_tiempo = df[['2210', '2211', '2212', '2301', '2302', '2303']].copy()\n",
    "df_tiempo.columns = pd.to_datetime(df_tiempo.columns, format='%y%m')\n",
    "df_tiempo = df_tiempo.T\n",
    "print(df_tiempo)"
   ]
  }
 ],
 "metadata": {
  "kernelspec": {
   "display_name": "Python 3",
   "language": "python",
   "name": "python3"
  },
  "language_info": {
   "codemirror_mode": {
    "name": "ipython",
    "version": 3
   },
   "file_extension": ".py",
   "mimetype": "text/x-python",
   "name": "python",
   "nbconvert_exporter": "python",
   "pygments_lexer": "ipython3",
   "version": "3.9.2"
  },
  "orig_nbformat": 4
 },
 "nbformat": 4,
 "nbformat_minor": 2
}
