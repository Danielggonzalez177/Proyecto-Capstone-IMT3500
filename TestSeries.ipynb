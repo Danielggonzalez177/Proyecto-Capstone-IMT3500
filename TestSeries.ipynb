{
 "cells": [
  {
   "cell_type": "markdown",
   "metadata": {},
   "source": [
    "Primero cargamos todas las librerias que usaremos,en conjunto con los PATHS de las bases"
   ]
  },
  {
   "cell_type": "code",
   "execution_count": 3,
   "metadata": {},
   "outputs": [],
   "source": [
    "import numpy as np\n",
    "import random\n",
    "import pandas as pd\n",
    "import matplotlib.pyplot as plt\n",
    "from statsmodels.stats.stattools import durbin_watson\n",
    "from statsmodels.stats.diagnostic import acorr_breusch_godfrey\n",
    "import statsmodels.api as sm\n",
    "from statsmodels.compat import lzip\n",
    "import datetime\n",
    "from statsmodels.tools.tools import add_constant\n",
    "import math\n",
    "from scipy.stats import norm\n",
    "from scipy.stats import chi2\n",
    "#Cambiar el path *Importante\n",
    "PATH_2210 = \"E01_T_DEU_CONS_2210_REV.csv\"\n",
    "PATH_2211 = \"E01_T_DEU_CONS_2211_REV.csv\"\n",
    "PATH_2212 = \"E01_T_DEU_CONS_2212_REV.csv\"\n",
    "PATH_2301 = \"E01_T_DEU_CONS_2301_REV.csv\"\n",
    "PATH_2302 = \"E01_T_DEU_CONS_2302_REV.csv\"\n",
    "PATH_2303 = \"E01_T_DEU_CONS_2303_REV.csv\"\n",
    "Lista_Path = [PATH_2210,PATH_2211,PATH_2212,PATH_2301,PATH_2302,PATH_2303]"
   ]
  },
  {
   "cell_type": "code",
   "execution_count": 4,
   "metadata": {},
   "outputs": [
    {
     "data": {
      "text/plain": [
       "0                0\n",
       "1                1\n",
       "2                3\n",
       "3                4\n",
       "4                6\n",
       "            ...   \n",
       "1028140    1083121\n",
       "1028141    1083122\n",
       "1028142    1083123\n",
       "1028143    1083124\n",
       "1028144    1083125\n",
       "Name: RUT, Length: 1028145, dtype: int64"
      ]
     },
     "execution_count": 4,
     "metadata": {},
     "output_type": "execute_result"
    }
   ],
   "source": [
    "def RutComunes(lista):\n",
    "    dataframelist = []\n",
    "    for i in lista:\n",
    "        df = pd.read_csv(i, delimiter=\";\", usecols = ['RUT'])\n",
    "        dataframelist.append(df)\n",
    "\n",
    "    interseccion = np.array(dataframelist[0]['RUT'])\n",
    "\n",
    "    for df in dataframelist[1:]:\n",
    "        RutComunes = np.intersect1d(interseccion, df['RUT'])\n",
    "        \n",
    "    dfRutComunes = pd.DataFrame({'RUT': RutComunes})\n",
    "    lista_rut = dfRutComunes[\"RUT\"]\n",
    "    return lista_rut\n",
    "\n",
    "RutComunes(Lista_Path)"
   ]
  },
  {
   "cell_type": "markdown",
   "metadata": {},
   "source": [
    "Generamos el Test de Durbin Watson y el de tamaño muestra"
   ]
  },
  {
   "cell_type": "code",
   "execution_count": 8,
   "metadata": {},
   "outputs": [
    {
     "name": "stdout",
     "output_type": "stream",
     "text": [
      "Tamaño de la muestra: 384\n"
     ]
    }
   ],
   "source": [
    "def DataProm(dataframe):\n",
    "    cantidad_filas = dataframe.shape[0]\n",
    "    tamaño_muestra =calcular_tamano_muestra(cantidad_filas,0.05,0.5,0.05)\n",
    "    lista_dataframes =[]\n",
    "    for i in range (1000):\n",
    "        numero_aleatorio = random.randint(tamano_muestra,cantidad_filas-tamaño_muestra)\n",
    "        dfparalista = dataframe.iloc[numero_aleatorio-1:numero_aleatorio+tamaño_muestra]\n",
    "        dfparalista.columns = dataframe.columns\n",
    "        lista_dataframes.append(dfparalista)\n",
    "    \n",
    "    #print(lista_dataframes[30])\n",
    "    num_dataframes = len(lista_dataframes)\n",
    "    num_filas = lista_dataframes[0].shape[0]\n",
    "    num_columnas = lista_dataframes[0].shape[1]\n",
    "    df_promedio = pd.DataFrame(np.zeros((num_filas, num_columnas)))\n",
    "    for i in range(num_filas):\n",
    "        for j in range(num_columnas):\n",
    "            suma = sum(df.iloc[i, j] for df in lista_dataframes)\n",
    "            promedio = suma / num_dataframes\n",
    "            df_promedio.iloc[i, j] = promedio\n",
    "    df_promedio = df_promedio.drop(columns=df_promedio.columns[-1])\n",
    "    a = 1\n",
    "    n_columnas = df_promedio.shape[1]\n",
    "\n",
    "    nuevos_nombres = {i: str(a + i) for i in range(n_columnas)}\n",
    "    df_promedio = df_promedio.rename(columns=nuevos_nombres)\n",
    "    return df_promedio\n",
    "\n",
    "\n",
    "\n",
    "def TestSeriesDW (dataframe,fecha_1,fecha_2):\n",
    "\n",
    "    df_fecha_1 = dataframe[str(fecha_1)]\n",
    "    df_fecha_2 = dataframe[str(fecha_2)]\n",
    "    dw_test = durbin_watson(df_fecha_2 - df_fecha_1)\n",
    "    print(f\"El test de DW entre las fechas de {str(fecha_1)} y {str(fecha_2)} es de :{dw_test}\")\n",
    "\n",
    "\n",
    "def calcular_tamano_muestra(N, alpha, p, d):\n",
    "    z = abs(norm.ppf(1 - alpha/2)) \n",
    "    numerator = (N * z**2 * p * (1 - p))\n",
    "    denominator = (d**2 * (N - 1) + z**2 * p * (1 - p))\n",
    "    n = numerator / denominator\n",
    "    muestra_tamaño = math.ceil(n)\n",
    "    return muestra_tamaño\n",
    "N = 1000000\n",
    "alpha = 0.05\n",
    "p = 0.5\n",
    "d = 0.05\n",
    "\n",
    "tamano_muestra = calcular_tamano_muestra(N, alpha, p, d)\n",
    "print(\"Tamaño de la muestra:\", tamano_muestra)"
   ]
  },
  {
   "cell_type": "code",
   "execution_count": 6,
   "metadata": {},
   "outputs": [],
   "source": [
    "def Test(Variable,lista):\n",
    "    lista_rut=RutComunes(Lista_Path)\n",
    "    ###########################################################################\n",
    "    dataframelist = []\n",
    "    dataframelistna = []\n",
    "    for i in lista:\n",
    "        df1 = pd.read_csv(i, delimiter=\";\", usecols = ['RUT',Variable])\n",
    "        df2 = df1.loc[df1['RUT'].isin(lista_rut)].dropna()\n",
    "        dataframelist.append(df1)\n",
    "        dataframelistna.append(df2)\n",
    "    \n",
    "    \n",
    "    dataframes=[]\n",
    "    a=1\n",
    "    for i in dataframelistna:\n",
    "        tupla = (i,str(a))\n",
    "        dataframes.append(tupla)\n",
    "        a += 1\n",
    "    dftemporal = pd.DataFrame()\n",
    "   \n",
    "    \n",
    "    for df, nombre_df in dataframes:\n",
    "        dftemporal[nombre_df] = df[Variable]\n",
    "\n",
    "    dftemporal['RUT'] = dataframelist[0]['RUT'] \n",
    "    dftemporal = dftemporal.dropna()\n",
    "\n",
    "    \n",
    "    dataframeDW = DataProm(dftemporal)\n",
    "    TestSeriesDW(dataframeDW,1,2)\n",
    "    TestSeriesDW(dataframeDW,5,6)\n",
    "    TestSeriesDW(dataframeDW,6,7)#"
   ]
  },
  {
   "cell_type": "markdown",
   "metadata": {},
   "source": [
    "Finalmente se llega a calcular Dw segun las fechas"
   ]
  },
  {
   "cell_type": "code",
   "execution_count": 9,
   "metadata": {},
   "outputs": [
    {
     "name": "stdout",
     "output_type": "stream",
     "text": [
      "El test de DW entre las fechas de 1 y 2 es de :1.4558679503995113\n",
      "El test de DW entre las fechas de 5 y 6 es de :1.5355026043078144\n"
     ]
    },
    {
     "ename": "KeyError",
     "evalue": "'7'",
     "output_type": "error",
     "traceback": [
      "\u001b[1;31m---------------------------------------------------------------------------\u001b[0m",
      "\u001b[1;31mKeyError\u001b[0m                                  Traceback (most recent call last)",
      "\u001b[1;32mc:\\Users\\Asus\\AppData\\Local\\Programs\\Python\\Python39\\lib\\site-packages\\pandas\\core\\indexes\\base.py\u001b[0m in \u001b[0;36mget_loc\u001b[1;34m(self, key, method, tolerance)\u001b[0m\n\u001b[0;32m   3620\u001b[0m             \u001b[1;32mtry\u001b[0m\u001b[1;33m:\u001b[0m\u001b[1;33m\u001b[0m\u001b[1;33m\u001b[0m\u001b[0m\n\u001b[1;32m-> 3621\u001b[1;33m                 \u001b[1;32mreturn\u001b[0m \u001b[0mself\u001b[0m\u001b[1;33m.\u001b[0m\u001b[0m_engine\u001b[0m\u001b[1;33m.\u001b[0m\u001b[0mget_loc\u001b[0m\u001b[1;33m(\u001b[0m\u001b[0mcasted_key\u001b[0m\u001b[1;33m)\u001b[0m\u001b[1;33m\u001b[0m\u001b[1;33m\u001b[0m\u001b[0m\n\u001b[0m\u001b[0;32m   3622\u001b[0m             \u001b[1;32mexcept\u001b[0m \u001b[0mKeyError\u001b[0m \u001b[1;32mas\u001b[0m \u001b[0merr\u001b[0m\u001b[1;33m:\u001b[0m\u001b[1;33m\u001b[0m\u001b[1;33m\u001b[0m\u001b[0m\n",
      "\u001b[1;32mc:\\Users\\Asus\\AppData\\Local\\Programs\\Python\\Python39\\lib\\site-packages\\pandas\\_libs\\index.pyx\u001b[0m in \u001b[0;36mpandas._libs.index.IndexEngine.get_loc\u001b[1;34m()\u001b[0m\n",
      "\u001b[1;32mc:\\Users\\Asus\\AppData\\Local\\Programs\\Python\\Python39\\lib\\site-packages\\pandas\\_libs\\index.pyx\u001b[0m in \u001b[0;36mpandas._libs.index.IndexEngine.get_loc\u001b[1;34m()\u001b[0m\n",
      "\u001b[1;32mpandas\\_libs\\hashtable_class_helper.pxi\u001b[0m in \u001b[0;36mpandas._libs.hashtable.PyObjectHashTable.get_item\u001b[1;34m()\u001b[0m\n",
      "\u001b[1;32mpandas\\_libs\\hashtable_class_helper.pxi\u001b[0m in \u001b[0;36mpandas._libs.hashtable.PyObjectHashTable.get_item\u001b[1;34m()\u001b[0m\n",
      "\u001b[1;31mKeyError\u001b[0m: '7'",
      "\nThe above exception was the direct cause of the following exception:\n",
      "\u001b[1;31mKeyError\u001b[0m                                  Traceback (most recent call last)",
      "\u001b[1;32m<ipython-input-9-21c96f1f7c12>\u001b[0m in \u001b[0;36m<module>\u001b[1;34m\u001b[0m\n\u001b[1;32m----> 1\u001b[1;33m \u001b[0mTest\u001b[0m\u001b[1;33m(\u001b[0m\u001b[1;34m\"MTOINT\"\u001b[0m\u001b[1;33m,\u001b[0m\u001b[0mLista_Path\u001b[0m\u001b[1;33m)\u001b[0m\u001b[1;33m\u001b[0m\u001b[1;33m\u001b[0m\u001b[0m\n\u001b[0m",
      "\u001b[1;32m<ipython-input-6-91596d2e307c>\u001b[0m in \u001b[0;36mTest\u001b[1;34m(Variable, lista)\u001b[0m\n\u001b[0;32m     30\u001b[0m     \u001b[0mTestSeriesDW\u001b[0m\u001b[1;33m(\u001b[0m\u001b[0mdataframeDW\u001b[0m\u001b[1;33m,\u001b[0m\u001b[1;36m1\u001b[0m\u001b[1;33m,\u001b[0m\u001b[1;36m2\u001b[0m\u001b[1;33m)\u001b[0m\u001b[1;33m\u001b[0m\u001b[1;33m\u001b[0m\u001b[0m\n\u001b[0;32m     31\u001b[0m     \u001b[0mTestSeriesDW\u001b[0m\u001b[1;33m(\u001b[0m\u001b[0mdataframeDW\u001b[0m\u001b[1;33m,\u001b[0m\u001b[1;36m5\u001b[0m\u001b[1;33m,\u001b[0m\u001b[1;36m6\u001b[0m\u001b[1;33m)\u001b[0m\u001b[1;33m\u001b[0m\u001b[1;33m\u001b[0m\u001b[0m\n\u001b[1;32m---> 32\u001b[1;33m     \u001b[0mTestSeriesDW\u001b[0m\u001b[1;33m(\u001b[0m\u001b[0mdataframeDW\u001b[0m\u001b[1;33m,\u001b[0m\u001b[1;36m6\u001b[0m\u001b[1;33m,\u001b[0m\u001b[1;36m7\u001b[0m\u001b[1;33m)\u001b[0m\u001b[1;31m#\u001b[0m\u001b[1;33m\u001b[0m\u001b[1;33m\u001b[0m\u001b[0m\n\u001b[0m",
      "\u001b[1;32m<ipython-input-8-ddbdeeb533f4>\u001b[0m in \u001b[0;36mTestSeriesDW\u001b[1;34m(dataframe, fecha_1, fecha_2)\u001b[0m\n\u001b[0;32m     32\u001b[0m \u001b[1;33m\u001b[0m\u001b[0m\n\u001b[0;32m     33\u001b[0m     \u001b[0mdf_fecha_1\u001b[0m \u001b[1;33m=\u001b[0m \u001b[0mdataframe\u001b[0m\u001b[1;33m[\u001b[0m\u001b[0mstr\u001b[0m\u001b[1;33m(\u001b[0m\u001b[0mfecha_1\u001b[0m\u001b[1;33m)\u001b[0m\u001b[1;33m]\u001b[0m\u001b[1;33m\u001b[0m\u001b[1;33m\u001b[0m\u001b[0m\n\u001b[1;32m---> 34\u001b[1;33m     \u001b[0mdf_fecha_2\u001b[0m \u001b[1;33m=\u001b[0m \u001b[0mdataframe\u001b[0m\u001b[1;33m[\u001b[0m\u001b[0mstr\u001b[0m\u001b[1;33m(\u001b[0m\u001b[0mfecha_2\u001b[0m\u001b[1;33m)\u001b[0m\u001b[1;33m]\u001b[0m\u001b[1;33m\u001b[0m\u001b[1;33m\u001b[0m\u001b[0m\n\u001b[0m\u001b[0;32m     35\u001b[0m     \u001b[0mdw_test\u001b[0m \u001b[1;33m=\u001b[0m \u001b[0mdurbin_watson\u001b[0m\u001b[1;33m(\u001b[0m\u001b[0mdf_fecha_2\u001b[0m \u001b[1;33m-\u001b[0m \u001b[0mdf_fecha_1\u001b[0m\u001b[1;33m)\u001b[0m\u001b[1;33m\u001b[0m\u001b[1;33m\u001b[0m\u001b[0m\n\u001b[0;32m     36\u001b[0m     \u001b[0mprint\u001b[0m\u001b[1;33m(\u001b[0m\u001b[1;34mf\"El test de DW entre las fechas de {str(fecha_1)} y {str(fecha_2)} es de :{dw_test}\"\u001b[0m\u001b[1;33m)\u001b[0m\u001b[1;33m\u001b[0m\u001b[1;33m\u001b[0m\u001b[0m\n",
      "\u001b[1;32mc:\\Users\\Asus\\AppData\\Local\\Programs\\Python\\Python39\\lib\\site-packages\\pandas\\core\\frame.py\u001b[0m in \u001b[0;36m__getitem__\u001b[1;34m(self, key)\u001b[0m\n\u001b[0;32m   3503\u001b[0m             \u001b[1;32mif\u001b[0m \u001b[0mself\u001b[0m\u001b[1;33m.\u001b[0m\u001b[0mcolumns\u001b[0m\u001b[1;33m.\u001b[0m\u001b[0mnlevels\u001b[0m \u001b[1;33m>\u001b[0m \u001b[1;36m1\u001b[0m\u001b[1;33m:\u001b[0m\u001b[1;33m\u001b[0m\u001b[1;33m\u001b[0m\u001b[0m\n\u001b[0;32m   3504\u001b[0m                 \u001b[1;32mreturn\u001b[0m \u001b[0mself\u001b[0m\u001b[1;33m.\u001b[0m\u001b[0m_getitem_multilevel\u001b[0m\u001b[1;33m(\u001b[0m\u001b[0mkey\u001b[0m\u001b[1;33m)\u001b[0m\u001b[1;33m\u001b[0m\u001b[1;33m\u001b[0m\u001b[0m\n\u001b[1;32m-> 3505\u001b[1;33m             \u001b[0mindexer\u001b[0m \u001b[1;33m=\u001b[0m \u001b[0mself\u001b[0m\u001b[1;33m.\u001b[0m\u001b[0mcolumns\u001b[0m\u001b[1;33m.\u001b[0m\u001b[0mget_loc\u001b[0m\u001b[1;33m(\u001b[0m\u001b[0mkey\u001b[0m\u001b[1;33m)\u001b[0m\u001b[1;33m\u001b[0m\u001b[1;33m\u001b[0m\u001b[0m\n\u001b[0m\u001b[0;32m   3506\u001b[0m             \u001b[1;32mif\u001b[0m \u001b[0mis_integer\u001b[0m\u001b[1;33m(\u001b[0m\u001b[0mindexer\u001b[0m\u001b[1;33m)\u001b[0m\u001b[1;33m:\u001b[0m\u001b[1;33m\u001b[0m\u001b[1;33m\u001b[0m\u001b[0m\n\u001b[0;32m   3507\u001b[0m                 \u001b[0mindexer\u001b[0m \u001b[1;33m=\u001b[0m \u001b[1;33m[\u001b[0m\u001b[0mindexer\u001b[0m\u001b[1;33m]\u001b[0m\u001b[1;33m\u001b[0m\u001b[1;33m\u001b[0m\u001b[0m\n",
      "\u001b[1;32mc:\\Users\\Asus\\AppData\\Local\\Programs\\Python\\Python39\\lib\\site-packages\\pandas\\core\\indexes\\base.py\u001b[0m in \u001b[0;36mget_loc\u001b[1;34m(self, key, method, tolerance)\u001b[0m\n\u001b[0;32m   3621\u001b[0m                 \u001b[1;32mreturn\u001b[0m \u001b[0mself\u001b[0m\u001b[1;33m.\u001b[0m\u001b[0m_engine\u001b[0m\u001b[1;33m.\u001b[0m\u001b[0mget_loc\u001b[0m\u001b[1;33m(\u001b[0m\u001b[0mcasted_key\u001b[0m\u001b[1;33m)\u001b[0m\u001b[1;33m\u001b[0m\u001b[1;33m\u001b[0m\u001b[0m\n\u001b[0;32m   3622\u001b[0m             \u001b[1;32mexcept\u001b[0m \u001b[0mKeyError\u001b[0m \u001b[1;32mas\u001b[0m \u001b[0merr\u001b[0m\u001b[1;33m:\u001b[0m\u001b[1;33m\u001b[0m\u001b[1;33m\u001b[0m\u001b[0m\n\u001b[1;32m-> 3623\u001b[1;33m                 \u001b[1;32mraise\u001b[0m \u001b[0mKeyError\u001b[0m\u001b[1;33m(\u001b[0m\u001b[0mkey\u001b[0m\u001b[1;33m)\u001b[0m \u001b[1;32mfrom\u001b[0m \u001b[0merr\u001b[0m\u001b[1;33m\u001b[0m\u001b[1;33m\u001b[0m\u001b[0m\n\u001b[0m\u001b[0;32m   3624\u001b[0m             \u001b[1;32mexcept\u001b[0m \u001b[0mTypeError\u001b[0m\u001b[1;33m:\u001b[0m\u001b[1;33m\u001b[0m\u001b[1;33m\u001b[0m\u001b[0m\n\u001b[0;32m   3625\u001b[0m                 \u001b[1;31m# If we have a listlike key, _check_indexing_error will raise\u001b[0m\u001b[1;33m\u001b[0m\u001b[1;33m\u001b[0m\u001b[1;33m\u001b[0m\u001b[0m\n",
      "\u001b[1;31mKeyError\u001b[0m: '7'"
     ]
    }
   ],
   "source": [
    "Test(\"MTOINT\",Lista_Path)"
   ]
  },
  {
   "cell_type": "code",
   "execution_count": 38,
   "metadata": {},
   "outputs": [],
   "source": [
    "def Test2(Variable):\n",
    "    lista_rut=RutComunes(Lista_Path)\n",
    "    df22101 = pd.read_csv(PATH_2210, delimiter=\";\", usecols = ['RUT',Variable])\n",
    "    df22111 = pd.read_csv(PATH_2211, delimiter=\";\", usecols = ['RUT',Variable])\n",
    "    df22121 = pd.read_csv(PATH_2212, delimiter=\";\", usecols = ['RUT',Variable])\n",
    "    df23011 = pd.read_csv(PATH_2301, delimiter=\";\", usecols = ['RUT',Variable])\n",
    "    df23021 = pd.read_csv(PATH_2302, delimiter=\";\", usecols = ['RUT',Variable])\n",
    "    df23031 = pd.read_csv(PATH_2303, delimiter=\";\", usecols = ['RUT',Variable])\n",
    "    dfvarible22101 = df22101.loc[df22101['RUT'].isin(lista_rut)].dropna()\n",
    "    dfvarible22111 = df22111.loc[df22111['RUT'].isin(lista_rut)].dropna()\n",
    "    dfvarible22121 = df22121.loc[df22121['RUT'].isin(lista_rut)].dropna()\n",
    "    dfvarible23011 = df23011.loc[df23011['RUT'].isin(lista_rut)].dropna()\n",
    "    dfvarible23021 = df22101.loc[df23021['RUT'].isin(lista_rut)].dropna()\n",
    "    dfvarible23031 = df23031.loc[df23031['RUT'].isin(lista_rut)].dropna()\n",
    "\n",
    "    dataframes = [\n",
    "        (dfvarible22101, '1'),\n",
    "        (dfvarible22111, '2'),\n",
    "        (dfvarible22121, '3'),\n",
    "        (dfvarible23011, '4'),\n",
    "        (dfvarible23021, '5'),\n",
    "        (dfvarible23031, '6')\n",
    "    ]\n",
    "\n",
    "\n",
    "    dftemporal = pd.DataFrame()\n",
    "\n",
    "    for df, nombre_df in dataframes:\n",
    "        \n",
    "        dftemporal[nombre_df] = df[Variable]\n",
    "\n",
    "    dftemporal['RUT'] = df22101['RUT'] \n",
    "    dftemporal = dftemporal.dropna()\n",
    "    print(dftemporal)\n",
    "    dataframeDW = DataProm(dftemporal)\n",
    "    TestSeriesDW(dataframeDW,2210,2211)\n",
    "    TestSeriesDW(dataframeDW,2211,2212)\n",
    "    TestSeriesDW(dataframeDW,2212,2301)\n",
    "    TestSeriesDW(dataframeDW,2301,2302)\n",
    "    TestSeriesDW(dataframeDW,2302,2303)"
   ]
  },
  {
   "cell_type": "code",
   "execution_count": 39,
   "metadata": {},
   "outputs": [
    {
     "name": "stdout",
     "output_type": "stream",
     "text": [
      "                 1         2         3       4          5        6     RUT\n",
      "2              0.0   38805.0       0.0     0.0        0.0      0.0  897518\n",
      "3           4494.0   40388.0    9854.0     0.0     4494.0      0.0  778606\n",
      "4          12763.0   26671.0  136462.0     0.0    12763.0      0.0  778606\n",
      "5           9621.0   27102.0  124570.0     0.0     9621.0      0.0  773271\n",
      "6          16625.0   43084.0  106641.0     0.0    16625.0      0.0  318456\n",
      "...            ...       ...       ...     ...        ...      ...     ...\n",
      "2767498  8412768.0       9.0       0.0     0.0  8412768.0      0.0  579656\n",
      "2767499        0.0   10948.0   75200.0     0.0        0.0      0.0  579655\n",
      "2767500  9468364.0       0.0     228.0  7628.0  9468364.0  27551.0  579655\n",
      "2767501  2469555.0  219514.0       0.0     0.0  2469555.0  10512.0  579663\n",
      "2767502   638534.0  219514.0       0.0     0.0   638534.0      0.0  579661\n",
      "\n",
      "[957525 rows x 7 columns]\n",
      "El test de DW entre las fechas de 2210 y 2211 es de :1.821873278636483\n",
      "El test de DW entre las fechas de 2211 y 2212 es de :1.8322568937131587\n",
      "El test de DW entre las fechas de 2212 y 2301 es de :1.4867585883794214\n",
      "El test de DW entre las fechas de 2301 y 2302 es de :1.1489766892616395\n",
      "El test de DW entre las fechas de 2302 y 2303 es de :1.2022392614988708\n"
     ]
    }
   ],
   "source": [
    "Test2(\"MTOINT\")"
   ]
  }
 ],
 "metadata": {
  "kernelspec": {
   "display_name": "Python 3",
   "language": "python",
   "name": "python3"
  },
  "language_info": {
   "codemirror_mode": {
    "name": "ipython",
    "version": 3
   },
   "file_extension": ".py",
   "mimetype": "text/x-python",
   "name": "python",
   "nbconvert_exporter": "python",
   "pygments_lexer": "ipython3",
   "version": "3.9.2"
  },
  "orig_nbformat": 4
 },
 "nbformat": 4,
 "nbformat_minor": 2
}
