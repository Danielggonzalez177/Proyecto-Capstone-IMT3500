{
 "cells": [
  {
   "attachments": {},
   "cell_type": "markdown",
   "metadata": {},
   "source": [
    "# Parametros"
   ]
  },
  {
   "cell_type": "code",
   "execution_count": 78,
   "metadata": {},
   "outputs": [],
   "source": [
    "import numpy as np\n",
    "import pandas as pd\n",
    "import matplotlib.pyplot as plt\n",
    "import statsmodels.stats as stat\n",
    "from scipy.stats import kstest, mannwhitneyu\n",
    "#from sklearn.cluster import AffinityPropagation\n",
    "#import prince\n",
    "PATH_2210 = \"..\\DownloadAll\\E01_T_DEU_CONS_2210\\E01_T_DEU_CONS_2210.csv\"\n",
    "PATH_2211 = \"..\\DownloadAll\\E01_T_DEU_CONS_2211\\E01_T_DEU_CONS_2211.csv\"\n",
    "PATH_2212 = \"..\\DownloadAll\\E01_T_DEU_CONS_2212\\E01_T_DEU_CONS_2212.csv\"\n",
    "PATH_2301 = \"..\\DownloadAll\\E01_T_DEU_CONS_2301\\E01_T_DEU_CONS_2301.csv\"\n",
    "PATH_2302 = \"..\\DownloadAll\\E01_T_DEU_CONS_2302\\E01_T_DEU_CONS_2302.csv\"\n",
    "PATH_2303 = \"..\\DownloadAll\\E01_T_DEU_CONS_2303\\E01_T_DEU_CONS_2303.csv\"\n",
    "PATH_DICC = \"..\\DownloadAll\\Diccionario T_DEU_CONS.xlsx\"\n",
    "BANCO_CODS = [39,27]\n",
    "MONEDA_CODS = [1,2,3] # Peso chileno, UF y dolar"
   ]
  },
  {
   "cell_type": "code",
   "execution_count": 79,
   "metadata": {},
   "outputs": [],
   "source": [
    "DICC_CODFAM = list(pd.read_excel(PATH_DICC, sheet_name='CODFAM')['CODIGO'])[1:]\n",
    "DICC_CODTLP = list(pd.read_excel(PATH_DICC, sheet_name='CODTLP')['CODIGO'])\n",
    "DICC_PROD = list(pd.read_excel(PATH_DICC, sheet_name='CODPRO')['CODIGO'])[1:]\n",
    "\n",
    "# A futuro definimos esto segun columnas\n",
    "umbral = {'R': 5, 'Y': 10}"
   ]
  },
  {
   "attachments": {},
   "cell_type": "markdown",
   "metadata": {},
   "source": [
    "# Lectura de datos"
   ]
  },
  {
   "cell_type": "code",
   "execution_count": 80,
   "metadata": {},
   "outputs": [],
   "source": [
    "#dfdict = pd.read_excel('E01_T_DEU_CONS/Diccionario T_DEU_CONS.xlsx')\n",
    "#df2210 = pd.read_csv(PATH_2210, delimiter=\";\")\n",
    "#df2211 = pd.read_csv(PATH_2211,delimiter=\";\")\n",
    "#df2212 = pd.read_csv(PATH_2212,delimiter=\";\")\n",
    "#df2301 = pd.read_csv(PATH_2301,delimiter=\";\")\n",
    "#df2302 = pd.read_csv(PATH_2302,delimiter=\";\")\n",
    "#df2303 = pd.read_csv(PATH_2303,delimiter=\";\")"
   ]
  },
  {
   "cell_type": "code",
   "execution_count": 81,
   "metadata": {},
   "outputs": [],
   "source": [
    "PATH_2303 = \"..\\E01_T_DEU_CONS_2303_REV.csv\"\n",
    "PATH_2302 = \"..\\E01_T_DEU_CONS_2302_REV.csv\""
   ]
  },
  {
   "attachments": {},
   "cell_type": "markdown",
   "metadata": {},
   "source": [
    "# Tests"
   ]
  },
  {
   "cell_type": "code",
   "execution_count": 82,
   "metadata": {},
   "outputs": [],
   "source": [
    "df_2303 = pd.read_csv(PATH_2303,delimiter=\";\")\n",
    "df_2302 = pd.read_csv(PATH_2302,delimiter=\";\")"
   ]
  },
  {
   "cell_type": "code",
   "execution_count": 145,
   "metadata": {},
   "outputs": [],
   "source": [
    "def df_dropna(DataFrame,por=0):\n",
    "    return DataFrame.dropna()\n",
    "def df_fillna_mean(Dataframe,por=0):\n",
    "    return Dataframe.fillna(value = Dataframe.mean())\n",
    "def df_fillna_normal_mean(Dataframe,por=0):\n",
    "    return Dataframe.fillna(value = np.random.normal(loc=Dataframe.mean(),scale=Dataframe.std()))\n",
    "def df_fillna_dropna_mix(Dataframe,por=0):\n",
    "    n = Dataframe.isna().sum(axis=0)\n",
    "    if por == 0 or por *n < 1:\n",
    "        n = 1\n",
    "        por = 1\n",
    "    aux_Dataframe = Dataframe.fillna(value = np.random.normal(loc=Dataframe.mean(),scale=1+Dataframe.std()),limit= int(por*n))\n",
    "    return aux_Dataframe.dropna()\n",
    "    "
   ]
  },
  {
   "cell_type": "code",
   "execution_count": 84,
   "metadata": {},
   "outputs": [],
   "source": [
    "def Kolmogorov_condition(threshold,n,m):\n",
    "    c_t = np.sqrt(-np.log(threshold/2)*0.5)\n",
    "    print(c_t * np.sqrt((n+m)/(n*m)))\n",
    "    return c_t * np.sqrt((n+m)/(n*m))\n"
   ]
  },
  {
   "attachments": {},
   "cell_type": "markdown",
   "metadata": {},
   "source": [
    "## Kolmogorov Test"
   ]
  },
  {
   "cell_type": "code",
   "execution_count": 85,
   "metadata": {},
   "outputs": [],
   "source": [
    "def Kolmogorov_test(new_df,old_df,column,threshold,na_action=df_dropna,por=0):\n",
    "    new_data = na_action(new_df[column],por)\n",
    "    old_data = na_action(old_df[column],por)\n",
    "    ks_statistic, p_value = kstest(new_data, old_data)\n",
    "    size_n = len(new_data)\n",
    "    size_m = len(old_data)\n",
    "    condition = Kolmogorov_condition(threshold,size_n,size_m)\n",
    "    if ks_statistic > condition:\n",
    "        return(\"No Cumple\",ks_statistic, p_value)\n",
    "    return(\"Cumple\",ks_statistic, p_value)\n"
   ]
  },
  {
   "attachments": {},
   "cell_type": "markdown",
   "metadata": {},
   "source": [
    "### MTOREV"
   ]
  },
  {
   "cell_type": "code",
   "execution_count": 86,
   "metadata": {},
   "outputs": [
    {
     "name": "stdout",
     "output_type": "stream",
     "text": [
      "0.0012183755790419726\n",
      "Resultado: Cumple\n",
      "KS statistic: 7.82799114207311e-06\n",
      "P-value: 1.0\n"
     ]
    }
   ],
   "source": [
    "resultado, ks_statistic, p_value = Kolmogorov_test(df_2303,df_2302,\"MTOREV\",0.05,df_dropna)\n",
    "\n",
    "# Print the results\n",
    "\n",
    "print(\"Resultado:\",resultado)\n",
    "print(\"KS statistic:\", ks_statistic)\n",
    "print(\"P-value:\", p_value)"
   ]
  },
  {
   "attachments": {},
   "cell_type": "markdown",
   "metadata": {},
   "source": [
    "### SALMD"
   ]
  },
  {
   "cell_type": "code",
   "execution_count": 87,
   "metadata": {},
   "outputs": [
    {
     "name": "stdout",
     "output_type": "stream",
     "text": [
      "0.0020158608281832307\n",
      "Resultado: Cumple\n",
      "KS statistic: 0.0013133521300898472\n",
      "P-value: 0.41368197105958027\n"
     ]
    }
   ],
   "source": [
    "resultado, ks_statistic, p_value = Kolmogorov_test(df_2303,df_2302,\"SALMD\",0.05)\n",
    "\n",
    "# Print the results\n",
    "print(\"Resultado:\",resultado)\n",
    "print(\"KS statistic:\", ks_statistic)\n",
    "print(\"P-value:\", p_value)"
   ]
  },
  {
   "attachments": {},
   "cell_type": "markdown",
   "metadata": {},
   "source": [
    "### GASTO"
   ]
  },
  {
   "cell_type": "code",
   "execution_count": 88,
   "metadata": {},
   "outputs": [
    {
     "name": "stdout",
     "output_type": "stream",
     "text": [
      "0.0011372034487550974\n",
      "Resultado: Cumple\n",
      "KS statistic: 0.00020811327687997316\n",
      "P-value: 0.9999999781510335\n"
     ]
    }
   ],
   "source": [
    "resultado, ks_statistic, p_value = Kolmogorov_test(df_2303,df_2302,\"GASTO\",0.05)\n",
    "\n",
    "# Print the results\n",
    "print(\"Resultado:\",resultado)\n",
    "print(\"KS statistic:\", ks_statistic)\n",
    "print(\"P-value:\", p_value)"
   ]
  },
  {
   "attachments": {},
   "cell_type": "markdown",
   "metadata": {},
   "source": [
    "### ULTXCO"
   ]
  },
  {
   "cell_type": "code",
   "execution_count": 89,
   "metadata": {},
   "outputs": [
    {
     "name": "stdout",
     "output_type": "stream",
     "text": [
      "0.0012429955624520448\n",
      "Resultado: Cumple\n",
      "KS statistic: 0.0\n",
      "P-value: 1.0\n"
     ]
    }
   ],
   "source": [
    "resultado, ks_statistic, p_value = Kolmogorov_test(df_2303,df_2302,\"ULTXCO\",0.05)\n",
    "\n",
    "# Print the results\n",
    "print(\"Resultado:\",resultado)\n",
    "print(\"KS statistic:\", ks_statistic)\n",
    "print(\"P-value:\", p_value)"
   ]
  },
  {
   "attachments": {},
   "cell_type": "markdown",
   "metadata": {},
   "source": [
    "### MTOVENC"
   ]
  },
  {
   "cell_type": "code",
   "execution_count": 90,
   "metadata": {},
   "outputs": [
    {
     "name": "stdout",
     "output_type": "stream",
     "text": [
      "0.0011372034487550974\n",
      "Resultado: Cumple\n",
      "KS statistic: 0.000700413714716297\n",
      "P-value: 0.485888419712187\n"
     ]
    }
   ],
   "source": [
    "resultado, ks_statistic, p_value = Kolmogorov_test(df_2303,df_2302,\"MTOVENC\",0.05)\n",
    "\n",
    "# Print the results\n",
    "print(\"Resultado:\",resultado)\n",
    "print(\"KS statistic:\", ks_statistic)\n",
    "print(\"P-value:\", p_value)"
   ]
  },
  {
   "attachments": {},
   "cell_type": "markdown",
   "metadata": {},
   "source": [
    "### TASAINT"
   ]
  },
  {
   "cell_type": "code",
   "execution_count": 151,
   "metadata": {},
   "outputs": [
    {
     "name": "stdout",
     "output_type": "stream",
     "text": [
      "0.0011726535183523583\n",
      "Resultado: No Cumple\n",
      "KS statistic: 0.005865404493531123\n",
      "P-value: 1.6544026819967021e-40\n"
     ]
    }
   ],
   "source": [
    "resultado, ks_statistic, p_value = Kolmogorov_test(df_2303,df_2302,\"TASAINT\",0.05)\n",
    "\n",
    "# Print the results\n",
    "print(\"Resultado:\",resultado)\n",
    "print(\"KS statistic:\", ks_statistic)\n",
    "print(\"P-value:\", p_value)"
   ]
  },
  {
   "attachments": {},
   "cell_type": "markdown",
   "metadata": {},
   "source": [
    "### SPROM"
   ]
  },
  {
   "cell_type": "code",
   "execution_count": 92,
   "metadata": {},
   "outputs": [
    {
     "name": "stdout",
     "output_type": "stream",
     "text": [
      "0.0020158608281832307\n",
      "Resultado: No Cumple\n",
      "KS statistic: 0.0031696446409908985\n",
      "P-value: 0.00021844715595412782\n"
     ]
    }
   ],
   "source": [
    "resultado, ks_statistic, p_value = Kolmogorov_test(df_2303,df_2302,\"SPROM\",0.05)\n",
    "\n",
    "# Print the results\n",
    "print(\"Resultado:\",resultado)\n",
    "print(\"KS statistic:\", ks_statistic)\n",
    "print(\"P-value:\", p_value)"
   ]
  },
  {
   "cell_type": "markdown",
   "metadata": {},
   "source": [
    "### MTOCAST"
   ]
  },
  {
   "cell_type": "code",
   "execution_count": 93,
   "metadata": {},
   "outputs": [
    {
     "name": "stdout",
     "output_type": "stream",
     "text": [
      "0.0011372034487550974\n",
      "Resultado: Cumple\n",
      "KS statistic: 0.0005790794089005624\n",
      "P-value: 0.7249993203779721\n"
     ]
    }
   ],
   "source": [
    "resultado, ks_statistic, p_value = Kolmogorov_test(df_2303,df_2302,\"MTOCAST\",0.05)\n",
    "\n",
    "# Print the results\n",
    "print(\"Resultado:\",resultado)\n",
    "print(\"KS statistic:\", ks_statistic)\n",
    "print(\"P-value:\", p_value)"
   ]
  },
  {
   "cell_type": "markdown",
   "metadata": {},
   "source": [
    "### CONTINGENTE"
   ]
  },
  {
   "cell_type": "code",
   "execution_count": 94,
   "metadata": {},
   "outputs": [
    {
     "name": "stdout",
     "output_type": "stream",
     "text": [
      "0.0015099491956910773\n",
      "Resultado: Cumple\n",
      "KS statistic: 0.0006766095907069225\n",
      "P-value: 0.8524864791009314\n"
     ]
    }
   ],
   "source": [
    "resultado, ks_statistic, p_value = Kolmogorov_test(df_2303,df_2302,\"CONTINGENTE\",0.05)\n",
    "\n",
    "# Print the results\n",
    "print(\"Resultado:\",resultado)\n",
    "print(\"KS statistic:\", ks_statistic)\n",
    "print(\"P-value:\", p_value)"
   ]
  },
  {
   "cell_type": "code",
   "execution_count": 161,
   "metadata": {},
   "outputs": [
    {
     "data": {
      "image/png": "[encoded data removed]",
      "text/plain": [
       "<Figure size 640x480 with 1 Axes>"
      ]
     },
     "metadata": {},
     "output_type": "display_data"
    }
   ],
   "source": [
    "data_1 = df_dropna(df_2303[\"MTOCAST\"],0.99)\n",
    "data_2 = df_dropna(df_2302[\"MTOCAST\"],0.99)\n",
    "x = np.sort(data_1)\n",
    "y = np.arange(len(x))/float(len(x))\n",
    "plt.plot(x, y)\n",
    "x2 = np.sort(data_2)\n",
    "y2 = np.arange(len(x2))/float(len(x2))\n",
    "plt.plot(x2, y2)\n",
    "plt.title('Cumulative plot of both data sources')\n",
    "plt.show()"
   ]
  },
  {
   "attachments": {},
   "cell_type": "markdown",
   "metadata": {},
   "source": [
    "## Mann-Whitney"
   ]
  },
  {
   "cell_type": "code",
   "execution_count": 96,
   "metadata": {},
   "outputs": [],
   "source": [
    "def Mann_Whitney_Test(new_df,old_df,column,threshold,na_action=df_dropna,por=0):\n",
    "    u_statistic, p_value = mannwhitneyu(na_action(new_df[column],por), na_action(old_df[column],por))\n",
    "    if p_value < threshold:\n",
    "        return(\"No Cumple\",u_statistic, p_value)\n",
    "    return(\"Cumple\",u_statistic, p_value)\n"
   ]
  },
  {
   "attachments": {},
   "cell_type": "markdown",
   "metadata": {},
   "source": [
    "### MTOREV"
   ]
  },
  {
   "cell_type": "code",
   "execution_count": 97,
   "metadata": {},
   "outputs": [
    {
     "name": "stdout",
     "output_type": "stream",
     "text": [
      "Resultado: Cumple\n",
      "U statistic: 3087722201550.5\n",
      "P-value: 0.9950578062355421\n"
     ]
    }
   ],
   "source": [
    "resultado, u_statistic, p_value = Mann_Whitney_Test(df_2303,df_2302,\"MTOREV\",0.05)\n",
    "\n",
    "# Print the results\n",
    "\n",
    "print(\"Resultado:\",resultado)\n",
    "print(\"U statistic:\", u_statistic)\n",
    "print(\"P-value:\", p_value)"
   ]
  },
  {
   "attachments": {},
   "cell_type": "markdown",
   "metadata": {},
   "source": [
    "### SALMD"
   ]
  },
  {
   "cell_type": "code",
   "execution_count": 98,
   "metadata": {},
   "outputs": [
    {
     "name": "stdout",
     "output_type": "stream",
     "text": [
      "Resultado: No Cumple\n",
      "U statistic: 411564500510.5\n",
      "P-value: 2.514248769429729e-06\n"
     ]
    }
   ],
   "source": [
    "resultado, u_statistic, p_value = Mann_Whitney_Test(df_2303,df_2302,\"SALMD\",0.05)\n",
    "\n",
    "# Print the results\n",
    "print(\"Resultado:\",resultado)\n",
    "print(\"U statistic:\", u_statistic)\n",
    "print(\"P-value:\", p_value)"
   ]
  },
  {
   "attachments": {},
   "cell_type": "markdown",
   "metadata": {},
   "source": [
    "### GASTO"
   ]
  },
  {
   "cell_type": "code",
   "execution_count": 99,
   "metadata": {},
   "outputs": [
    {
     "name": "stdout",
     "output_type": "stream",
     "text": [
      "Resultado: Cumple\n",
      "U statistic: 4067435878044.5\n",
      "P-value: 0.673379873133851\n"
     ]
    }
   ],
   "source": [
    "resultado, u_statistic, p_value = Mann_Whitney_Test(df_2303,df_2302,\"GASTO\",0.05)\n",
    "\n",
    "# Print the results\n",
    "print(\"Resultado:\",resultado)\n",
    "print(\"U statistic:\", u_statistic)\n",
    "print(\"P-value:\", p_value)"
   ]
  },
  {
   "attachments": {},
   "cell_type": "markdown",
   "metadata": {},
   "source": [
    "### ULTXCO"
   ]
  },
  {
   "cell_type": "code",
   "execution_count": 100,
   "metadata": {},
   "outputs": [
    {
     "name": "stdout",
     "output_type": "stream",
     "text": [
      "Resultado: Cumple\n",
      "U statistic: 2850251302382.0\n",
      "P-value: 1.0\n"
     ]
    }
   ],
   "source": [
    "resultado, u_statistic, p_value = Mann_Whitney_Test(df_2303,df_2302,\"ULTXCO\",0.05)\n",
    "\n",
    "# Print the results\n",
    "print(\"Resultado:\",resultado)\n",
    "print(\"U statistic:\", u_statistic)\n",
    "print(\"P-value:\", p_value)"
   ]
  },
  {
   "attachments": {},
   "cell_type": "markdown",
   "metadata": {},
   "source": [
    "### MTOVENC"
   ]
  },
  {
   "cell_type": "code",
   "execution_count": 101,
   "metadata": {},
   "outputs": [
    {
     "name": "stdout",
     "output_type": "stream",
     "text": [
      "Resultado: Cumple\n",
      "U statistic: 4065536614174.0\n",
      "P-value: 0.1733179811086364\n"
     ]
    }
   ],
   "source": [
    "resultado, u_statistic, p_value = Mann_Whitney_Test(df_2303,df_2302,\"MTOVENC\",0.05)\n",
    "\n",
    "# Print the results\n",
    "print(\"Resultado:\",resultado)\n",
    "print(\"U statistic:\", u_statistic)\n",
    "print(\"P-value:\", p_value)"
   ]
  },
  {
   "attachments": {},
   "cell_type": "markdown",
   "metadata": {},
   "source": [
    "### TASAINT"
   ]
  },
  {
   "cell_type": "code",
   "execution_count": 102,
   "metadata": {},
   "outputs": [
    {
     "name": "stdout",
     "output_type": "stream",
     "text": [
      "Resultado: No Cumple\n",
      "U statistic: 3589420254157.0\n",
      "P-value: 6.406484047016319e-07\n"
     ]
    }
   ],
   "source": [
    "resultado, u_statistic, p_value = Mann_Whitney_Test(df_2303,df_2302,\"TASAINT\",0.05)\n",
    "\n",
    "# Print the results\n",
    "print(\"Resultado:\",resultado)\n",
    "print(\"U statistic:\", u_statistic)\n",
    "print(\"P-value:\", p_value)"
   ]
  },
  {
   "attachments": {},
   "cell_type": "markdown",
   "metadata": {},
   "source": [
    "### SPROM"
   ]
  },
  {
   "cell_type": "code",
   "execution_count": 103,
   "metadata": {},
   "outputs": [
    {
     "name": "stdout",
     "output_type": "stream",
     "text": [
      "Resultado: Cumple\n",
      "U statistic: 412613876675.0\n",
      "P-value: 0.07254269011584882\n"
     ]
    }
   ],
   "source": [
    "resultado, u_statistic, p_value = Mann_Whitney_Test(df_2303,df_2302,\"SPROM\",0.05)\n",
    "\n",
    "# Print the results\n",
    "print(\"Resultado:\",resultado)\n",
    "print(\"U statistic:\", u_statistic)\n",
    "print(\"P-value:\", p_value)"
   ]
  },
  {
   "cell_type": "markdown",
   "metadata": {},
   "source": [
    "### MTOCAST"
   ]
  },
  {
   "cell_type": "code",
   "execution_count": 104,
   "metadata": {},
   "outputs": [
    {
     "name": "stdout",
     "output_type": "stream",
     "text": [
      "Resultado: Cumple\n",
      "U statistic: 4070096759792.0\n",
      "P-value: 0.3589258163150938\n"
     ]
    }
   ],
   "source": [
    "resultado, u_statistic, p_value = Mann_Whitney_Test(df_2303,df_2302,\"MTOCAST\",0.05)\n",
    "\n",
    "# Print the results\n",
    "print(\"Resultado:\",resultado)\n",
    "print(\"U statistic:\", u_statistic)\n",
    "print(\"P-value:\", p_value)"
   ]
  },
  {
   "cell_type": "markdown",
   "metadata": {},
   "source": [
    "### CONTINGENTE"
   ]
  },
  {
   "cell_type": "code",
   "execution_count": 105,
   "metadata": {},
   "outputs": [
    {
     "name": "stdout",
     "output_type": "stream",
     "text": [
      "Resultado: Cumple\n",
      "U statistic: 1308047177614.0\n",
      "P-value: 0.34061324045245256\n"
     ]
    }
   ],
   "source": [
    "resultado, u_statistic, p_value = Mann_Whitney_Test(df_2303,df_2302,\"CONTINGENTE\",0.05)\n",
    "\n",
    "# Print the results\n",
    "print(\"Resultado:\",resultado)\n",
    "print(\"U statistic:\", u_statistic)\n",
    "print(\"P-value:\", p_value)"
   ]
  },
  {
   "cell_type": "code",
   "execution_count": 106,
   "metadata": {},
   "outputs": [],
   "source": [
    "def Tester(new_df,old_df,column,threshold,na_action=df_dropna,por = 0):\n",
    "    KS_results = list(Kolmogorov_test(new_df,old_df,column,threshold,na_action,por))\n",
    "    MW_results = list(Mann_Whitney_Test(new_df,old_df,column,threshold,na_action,por))\n",
    "    return {\"KS\":KS_results,\"MW\":MW_results}\n",
    "\n",
    "\n",
    "\n"
   ]
  },
  {
   "cell_type": "code",
   "execution_count": 169,
   "metadata": {},
   "outputs": [
    {
     "name": "stdout",
     "output_type": "stream",
     "text": [
      "0.0015093737242151452\n",
      "{'KS': ['Cumple', 0.0014358216758877385, 0.0709360847998225], 'MW': ['Cumple', 1310038693982.0, 0.33785650427248026]}\n"
     ]
    }
   ],
   "source": [
    "print(Tester(df_2303,df_2302,\"CONTINGENTE\",0.05,df_fillna_dropna_mix,0.001))"
   ]
  },
  {
   "cell_type": "code",
   "execution_count": 170,
   "metadata": {},
   "outputs": [],
   "source": [
    "def get_value_of_every_list(list_of_lists,Test,value):\n",
    "  \"\"\"\n",
    "  Takes a list of lists and returns a value of every list.\n",
    "\n",
    "  Args:\n",
    "    list_of_lists: A list of lists.\n",
    "\n",
    "  Returns:\n",
    "    A list of values.\n",
    "  \"\"\"\n",
    "\n",
    "  values = list(map(lambda list_item: list_item[Test][value], list_of_lists))\n",
    "  return values"
   ]
  },
  {
   "cell_type": "code",
   "execution_count": 172,
   "metadata": {},
   "outputs": [
    {
     "name": "stdout",
     "output_type": "stream",
     "text": [
      "0.0015099487290710025\n",
      "0.0015093732581283777\n",
      "0.001508797513556061\n",
      "0.0015082226605830867\n",
      "0.0015076482311993378\n",
      "0.0015070746903815284\n",
      "0.0015065015711866804\n",
      "0.0015059293375396814\n",
      "0.0015053575235606364\n",
      "0.001504786592126561\n",
      "0.0015042160784166094\n",
      "0.0015036464442638566\n",
      "0.0015030772259024955\n",
      "0.001502508884125573\n",
      "0.0015019409562183287\n",
      "0.0015013739019376741\n",
      "0.0015008072596159265\n",
      "0.0015002414879777323\n",
      "0.0014996761263985374\n",
      "0.0014991116325745759\n",
      "0.0014985475469204944\n",
      "0.0014979840975587945\n",
      "0.0014974215115868665\n",
      "0.0014968593309710827\n",
      "0.0014962980108531201\n",
      "0.0014957370942288218\n",
      "0.0014951770352247759\n",
      "0.001494617377862439\n",
      "0.0014940585752570728\n",
      "0.0014935001724519126\n",
      "0.0014929426215546343\n",
      "0.0014923854686264377\n",
      "0.0014918291647711371\n",
      "0.001491273257064099\n",
      "0.0014907181956089807\n",
      "0.0014901635284915405\n",
      "0.0014896097048189634\n",
      "0.0014890562736836427\n",
      "0.0014885039059630303\n",
      "0.0014879517059773913\n",
      "0.0014874003438643296\n",
      "0.0014868493707183839\n",
      "0.0014862990094132724\n",
      "0.0014857494818367263\n",
      "0.0014852003405753623\n",
      "0.0014846520302970374\n",
      "0.0014841041045783397\n",
      "0.0014835570071105868\n",
      "0.001483010292456688\n",
      "0.0014824644033349865\n",
      "0.0014819188952910798\n",
      "0.0014813742100738825\n",
      "0.0014808299042080697\n",
      "0.001480286418476654\n",
      "0.0014797433103797923\n",
      "0.001479201019738107\n",
      "0.0014786591050236616\n",
      "0.001478118005098179\n",
      "0.0014775772794020725\n",
      "0.0014770373658416402\n",
      "0.0014764978248221047\n",
      "0.0014759590932977974\n",
      "0.0014754207326352306\n",
      "0.0014748829606570607\n",
      "0.0014743459942370225\n",
      "0.0014738093961772251\n",
      "0.0014732736010668655\n",
      "0.0014727381726606164\n",
      "0.00147220354460767\n",
      "0.0014716692816118047\n",
      "0.001471135816385588\n",
      "0.001470602714578462\n",
      "0.001470070407969731\n",
      "0.001469538463151079\n",
      "0.0014690073109718913\n",
      "0.0014684767328161767\n",
      "0.0014679467306672033\n",
      "0.001467417087077427\n",
      "0.0014668882310463034\n",
      "0.001466359731971933\n",
      "0.0014658320179337895\n",
      "0.0014653046592586927\n",
      "0.0014647778693610317\n",
      "0.0014642518607381526\n",
      "0.0014637262051039178\n",
      "0.001463201328251941\n",
      "0.0014626768028164895\n",
      "0.0014621530536826017\n",
      "0.0014616296544016534\n",
      "0.0014611070289533307\n",
      "0.0014605847518028385\n",
      "0.0014600632460277155\n",
      "0.0014595420870037335\n",
      "0.001459021696909475\n",
      "0.0014585016520280306\n",
      "0.0014579823736422025\n",
      "0.0014574634389391689\n",
      "0.0014569452683091102\n",
      "0.0014564274398400784\n",
      "0.001455910373032776\n",
      "0.0014553936468729301\n",
      "0.0014548776799748924\n",
      "0.0014543620522188834\n",
      "0.0014538469723170068\n",
      "0.0014533326480978398\n",
      "0.001452818660777618\n",
      "0.0014523054267681944\n",
      "0.0014517925281724094\n",
      "0.0014512803805265938\n",
      "0.0014507685668170645\n",
      "0.0014502575017076912\n",
      "0.0014497467690651538\n",
      "0.001449236988206249\n",
      "0.0014487273326126142\n",
      "0.0014482184209526378\n",
      "0.0014477098388445081\n",
      "0.0014472019983528624\n",
      "0.001446694485967007\n",
      "0.001446187712891209\n",
      "0.0014456812664828413\n",
      "0.0014451755570887865\n",
      "0.0014446701729314477\n",
      "0.0014441655235032942\n",
      "0.0014436611978887375\n",
      "0.0014431574002673159\n",
      "0.0014426543339668687\n",
      "0.0014421515893593888\n",
      "0.0014416495738140188\n",
      "0.0014411478785572693\n",
      "0.0014406469101141588\n",
      "0.0014401462605627448\n",
      "0.0014396463355868293\n",
      "0.001439146728113061\n",
      "0.0014386478429869191\n",
      "0.0014381492739807017\n",
      "0.0014376514251044446\n",
      "0.001437153890973168\n",
      "0.0014366570747643306\n",
      "0.0014361605719327615\n",
      "0.0014356647848261942\n",
      "0.0014351693097363677\n",
      "0.0014346745481841287\n",
      "0.0014341800972952413\n",
      "0.0014336861572875907\n",
      "0.0014331929275547938\n",
      "0.0014327000064684695\n",
      "0.0014322077934943818\n",
      "0.0014317158878310219\n",
      "0.001431224688127097\n",
      "0.0014307339921235786\n",
      "0.0014302438020139456\n",
      "0.001429753916564819\n",
      "0.0014292647327990562\n",
      "0.0014287758523788528\n",
      "0.0014282876715183046\n",
      "0.0014277997926952135\n",
      "0.0014273126113176521\n",
      "0.0014268257306762461\n",
      "0.0014263395453757701\n",
      "0.001425853659516905\n",
      "0.0014253684669038402\n",
      "0.001424883572444555\n",
      "0.0014243993691453545\n",
      "0.001423915462718773\n",
      "0.0014234320491505728\n",
      "0.001422949323631151\n",
      "0.0014224668930749482\n",
      "0.0014219851485051012\n",
      "0.0014215036976338046\n",
      "0.0014210229306956621\n",
      "0.0014205424561979246\n",
      "0.001420062663589306\n",
      "0.0014195831621694286\n",
      "0.0014191043406037484\n",
      "0.0014186258089815857\n",
      "0.0014181479551877573\n",
      "0.0014176703900986233\n",
      "0.0014171935008209676\n",
      "0.0014167168990155416\n",
      "0.0014162409710136918\n",
      "0.0014157653292579259\n",
      "0.001415290359306735\n",
      "0.0014148156743817627\n",
      "0.001414341659271214\n",
      "0.0014138679279732567\n",
      "0.0014133946723882394\n",
      "0.0014129222740448327\n",
      "0.0014124499671173399\n",
      "0.0014119783250673174\n",
      "0.0014115069638231381\n",
      "0.0014110362654968479\n",
      "0.0014105658467843045\n",
      "0.0014100960890386883\n",
      "0.0014096266097207873\n",
      "0.0014091577894274235\n",
      "0.0014086892463817699\n",
      "0.0014082213604267844\n",
      "0.001407753750545494\n",
      "0.0014072867958294737\n",
      "0.0014068201160190859\n",
      "0.001406354089456994\n",
      "0.0014058883366383859\n",
      "0.0014054232351594746\n",
      "0.0014049584062677764\n",
      "0.0014044940382878172\n",
      "0.0014040303188000121\n",
      "0.001403566870175891\n",
      "0.0014031040681560516\n",
      "0.0014026415358581621\n",
      "0.0014021796482848908\n",
      "0.001401718029297586\n",
      "0.001401257053163396\n",
      "0.0014007963444849047\n",
      "0.0014003362767961392\n",
      "0.001399876475438485\n",
      "0.0013994173132152355\n",
      "0.0013989584162041545\n",
      "0.0013985001564801789\n",
      "0.0013980421608550393\n",
      "0.001397584800677682\n",
      "0.0013971277034914044\n",
      "0.0013966712399215168\n",
      "0.0013962150382404934\n",
      "0.0013957596518673276\n",
      "0.0013953043425911445\n",
      "0.0013948494786068944\n",
      "0.0013943952436949948\n",
      "0.0013939412679406995\n",
      "0.0013934879194547674\n",
      "0.001393034829043351\n",
      "0.001392582364104042\n",
      "0.00139213015616155\n",
      "0.0013916785719025968\n",
      "0.001391227243568119\n",
      "0.0013907765371362552\n",
      "0.0013903260855618496\n",
      "0.001389876254116734\n",
      "0.0013894266764673507\n",
      "0.0013889777171814922\n",
      "0.0013885290106349002\n",
      "0.0013880809206935827\n",
      "0.0013876330824402934\n",
      "0.0013871858590415028\n",
      "0.0013867388862846973\n",
      "0.0013862925266390465\n",
      "0.001385846416594502\n",
      "0.0013854007369529585\n",
      "0.001384955667821176\n",
      "0.0013845108467387395\n",
      "0.0013840666344411196\n",
      "0.0013836226691647418\n",
      "0.001383179310955524\n",
      "0.001382736198744499\n",
      "0.0013822936918902247\n",
      "0.0013818514300161198\n",
      "0.001381409771795563\n",
      "0.0013809683575421463\n",
      "0.0013805275452462428\n",
      "0.001380086975909415\n",
      "0.001379647006841192\n",
      "0.0013792074567674348\n",
      "0.001378768328072191\n",
      "0.0013783294403349627\n",
      "0.0013778911495099953\n",
      "0.0013774530986496942\n",
      "0.0013770156430338906\n",
      "0.0013765784263942494\n",
      "0.0013761416259567027\n",
      "0.0013757054182748562\n",
      "0.0013752694480953878\n",
      "0.0013748340690212133\n",
      "0.0013743989264729032\n",
      "0.0013739643733863577\n",
      "0.001373530055853908\n",
      "0.0013730963261465313\n",
      "0.0013726628310262003\n",
      "0.0013722299221010504\n",
      "0.0013717972468005855\n",
      "0.0013713651560721739\n",
      "0.0013709332980107471\n",
      "0.0013705020229049726\n",
      "0.001370070979513117\n",
      "0.0013696405174672018\n",
      "0.0013692102861867462\n",
      "0.001368780634649172\n",
      "0.0013683512129331775\n",
      "0.0013679221951295056\n",
      "0.001367493754676318\n",
      "0.0013670655426373656\n",
      "0.0013666379063623146\n",
      "0.0013662104975689484\n",
      "0.0013657836629594278\n",
      "0.0013653570549035262\n",
      "0.0013649310194579073\n",
      "0.0013645052096422998\n",
      "0.0013640799708698693\n",
      "0.001363654956808275\n",
      "0.0013632306831633863\n",
      "0.0013628064622202608\n",
      "0.00136238280920556\n",
      "0.0013619593790768082\n",
      "0.0013615365153285364\n",
      "0.0013611138735601781\n",
      "0.0013606917966306744\n",
      "0.001360269940779378\n",
      "0.0013598486482315946\n",
      "0.0013594275758646165\n",
      "0.0013590068944098939\n",
      "0.0013585867739671872\n",
      "0.001358166872367149\n",
      "0.001357747530259351\n",
      "0.0013573284061074687\n",
      "0.0013569098399342193\n",
      "0.0013564914908343487\n",
      "0.001356073698205638\n",
      "0.0013556561217719619\n",
      "0.0013552391003080737\n",
      "0.0013548222941650433\n",
      "0.0013544060414964997\n",
      "0.0013539900032787792\n",
      "0.0013535745170462808\n",
      "0.0013531592443986908\n",
      "0.0013527445222530625\n",
      "0.0013523300128305236\n",
      "0.00135191605243266\n",
      "0.001351502303900137\n",
      "0.0013510891029209439\n",
      "0.0013506761129533913\n",
      "0.0013502635014761186\n",
      "0.0013498514353560398\n",
      "0.0013494395789745467\n",
      "0.001349028266493619\n",
      "0.0013486171629075948\n",
      "0.0013482066017713392\n",
      "0.0013477964138631038\n",
      "0.0013473866016355876\n",
      "0.0013469769966277406\n",
      "0.0013465679311856508\n",
      "0.0013461590721313796\n",
      "0.0013457507512093804\n",
      "0.0013453426358472473\n",
      "0.0013449350571896116\n",
      "0.001344527683267766\n",
      "0.0013441208446283227\n",
      "0.0013437142099044486\n",
      "0.0013433081090465314\n",
      "0.0013429022112877948\n",
      "0.0013424966812516732\n",
      "0.0013420916829671888\n",
      "0.0013416868865643976\n",
      "0.0013412826205107962\n",
      "0.0013408785555319843\n",
      "0.0013404750195054624\n",
      "0.0013400716837505826\n",
      "0.0013396688755566116\n",
      "0.00133926626683487\n",
      "0.0013388641842881459\n",
      "0.001338462300417952\n",
      "0.0013380609413423462\n",
      "0.0013376597801512632\n",
      "0.0013372591423797722\n",
      "0.0013368587017044686\n",
      "0.0013364587830791647\n",
      "0.0013360590607653636\n",
      "0.0013356598591373477\n",
      "0.00133526085303978\n",
      "0.0013348623662691312\n",
      "0.0013344640742514857\n",
      "0.001334066138547581\n",
      "0.0013336687201420897\n",
      "0.001333271495330119\n",
      "0.0013328749461989067\n",
      "0.0013324784300217571\n",
      "0.0013320824284572413\n",
      "0.0013316866189529962\n",
      "0.001331291322726249\n",
      "0.0013308962177983193\n",
      "0.0013305016248179515\n",
      "0.0013301072223784467\n",
      "0.0013297133305617394\n",
      "0.0013293196285314205\n",
      "0.001328926435804281\n",
      "0.0013285334321125148\n",
      "0.0013281409364094292\n",
      "0.0013277486289941423\n",
      "0.0013273568282581307\n",
      "0.0013269652150657647\n",
      "0.0013265741072483357\n",
      "0.0013261831862338013\n",
      "0.001325792610613817\n",
      "0.0013254025384215392\n",
      "0.00132501265192733\n",
      "0.0013246232675690449\n",
      "0.0013242340681765001\n",
      "0.001323845369633075\n",
      "0.0013234568553263976\n",
      "0.0013230688405869875\n",
      "0.0013226810093586504\n",
      "0.0013222936764206554\n",
      "0.001321906526271358\n",
      "0.001321519873140379\n",
      "0.0013211334020790033\n",
      "0.0013207474267688\n",
      "0.001320361632812368\n",
      "0.001319976333344815\n",
      "0.001319591214518446\n",
      "0.0013192065889234901\n",
      "0.001318822143260358\n",
      "0.0013184381880876005\n",
      "0.0013180545695576763\n",
      "0.0013176711299017281\n",
      "0.0013172881803545093\n",
      "0.001316905408979894\n",
      "0.0013165231264732496\n",
      "0.0013161410214410016\n",
      "0.0013157594040406858\n",
      "0.001315377963419706\n",
      "0.001314997009199316\n",
      "0.0013146162310663323\n",
      "0.0013142359381072676\n",
      "0.001313855820546792\n",
      "0.0013134761869382145\n",
      "0.0013130967280425045\n",
      "0.0013127177518812974\n",
      "0.001312338949750315\n",
      "0.0013119606291410427\n",
      "0.0013115824818824146\n",
      "0.0013112048149372835\n",
      "0.0013108273206662614\n",
      "0.0013104501522506024\n",
      "0.0013100734623445005\n",
      "0.0013096969441033464\n",
      "0.0013093209031748865\n",
      "0.00130894503324238\n",
      "0.001308569639430205\n",
      "0.0013081944159479763\n",
      "0.001307819667398195\n",
      "0.0013074450885153237\n",
      "0.001307070983381472\n",
      "0.0013066970472544492\n",
      "0.0013063235836974511\n",
      "0.0013059502884901401\n",
      "0.0013055774646782718\n",
      "0.0013052048085618714\n",
      "0.001304832622670721\n",
      "0.001304460753518517\n",
      "0.0013040892036025934\n",
      "0.0013037178200826065\n",
      "0.0013033469044607345\n",
      "0.001302976154589254\n",
      "0.0013026057209306642\n",
      "0.0013022357534359262\n",
      "0.00130186595072859\n",
      "0.0013014966130344026\n",
      "0.0013011274394891942\n",
      "0.0013007587298107042\n",
      "0.0013003901836455918\n",
      "0.0013000221002050197\n",
      "0.00129965417964503\n",
      "0.0012992867206716337\n",
      "0.0012989194239488167\n",
      "0.0012985525876788554\n",
      "0.0012981859130322473\n",
      "0.0012978196977089474\n",
      "0.001297453643384536\n",
      "0.0012970880472580543\n",
      "0.001296722611508743\n",
      "0.0012963576328361326\n",
      "0.001295992813921707\n",
      "0.0012956283028366172\n",
      "0.0012952642471539722\n",
      "0.0012949003503060967\n",
      "0.0012945369077497217\n",
      "0.0012941736234158977\n",
      "0.0012938107922667082\n",
      "0.0012934481187305321\n",
      "0.0012930858972761837\n",
      "0.0012927238328279786\n",
      "0.0012923622193628341\n",
      "0.0012920007622996158\n",
      "0.0012916397551247097\n",
      "0.0012912789037501518\n",
      "0.0012909186462385044\n",
      "0.0012905583987411122\n",
      "0.0012901985989546732\n",
      "0.0012898389537734723\n",
      "0.0012894797552204201\n",
      "0.0012891207106788597\n",
      "0.0012887621116865857\n",
      "0.001288403666114641\n",
      "0.0012880455194638103\n",
      "0.0012876878167511834\n",
      "0.0012873302665769289\n",
      "0.0012869731592717914\n",
      "0.0012866162039202617\n",
      "0.001286259690372639\n",
      "0.0012859033281963955\n",
      "0.0012855474067627077\n",
      "0.0012851916361206936\n",
      "0.0012848363051637232\n",
      "0.0012844811244212297\n",
      "0.00128412638231009\n",
      "0.0012837717898387267\n",
      "0.0012834176349488305\n",
      "0.001283063629126493\n",
      "0.001282710059839521\n",
      "0.0012823566390503594\n",
      "0.0012820036537542299\n",
      "0.0012816508163886195\n",
      "0.0012812984134774562\n",
      "0.0012809461579319649\n",
      "0.0012805941927559832\n",
      "0.0012802426604834258\n",
      "0.0012798912747338002\n",
      "0.0012795403208583102\n",
      "0.0012791895129469592\n",
      "0.0012788391358841426\n",
      "0.0012784889042290713\n",
      "0.0012781391024006034\n",
      "0.0012777895860955817\n",
      "0.0012774403578134543\n",
      "0.0012770912738336092\n",
      "0.0012767426176475876\n",
      "0.0012763941052145783\n",
      "0.0012760460195643667\n",
      "0.0012756980771202477\n",
      "0.001275350560451502\n",
      "0.0012750031864442663\n",
      "0.001274656237208564\n",
      "0.0012743094300921153\n",
      "0.0012739630467469272\n",
      "0.0012736168049810497\n",
      "0.0012732708453718588\n",
      "0.0012729253080400404\n",
      "0.0012725799114819067\n",
      "0.0012722349362097184\n",
      "0.0012718901011770038\n",
      "0.0012715456864423168\n",
      "0.0012712014114151648\n",
      "0.0012708575557016152\n",
      "0.0012705138391659215\n",
      "0.0012701705409628818\n",
      "0.001269827381410268\n",
      "0.00126948463921282\n",
      "0.0012691420351406044\n",
      "0.0012687998474495107\n",
      "0.0012684577973606818\n",
      "0.0012681161626823586\n",
      "0.0012677746650855463\n",
      "0.0012674335819320363\n",
      "0.001267092635341486\n",
      "0.0012667519637543647\n",
      "0.0012664117051659754\n",
      "0.0012660715823668033\n",
      "0.0012657318716076216\n",
      "0.0012653922961245632\n",
      "0.0012650532682177524\n",
      "0.0012647142384744547\n",
      "0.0012643756188638517\n",
      "0.001264037133509827\n",
      "0.001263699057339779\n",
      "0.0012633611149196725\n",
      "0.0012630235807381356\n",
      "0.0012626861798020338\n",
      "0.0012623491861623896\n",
      "0.001262012325265794\n",
      "0.0012616758707268247\n",
      "0.001261339548430626\n",
      "0.0012610036315564874\n",
      "0.0012606678464269394\n",
      "0.0012603324657871355\n",
      "0.0012599972163958302\n",
      "0.001259662234393825\n",
      "0.0012593276554890283\n",
      "0.001258993207092462\n",
      "0.0012586591608688487\n",
      "0.0012583252446625457\n",
      "0.001257991729708139\n",
      "0.0012576583442821733\n",
      "0.0012573253591902304\n",
      "0.0012569925031398995\n",
      "0.0012566600465088874\n",
      "0.001256327718434688\n",
      "0.001255995788868258\n",
      "0.0012556639873758614\n",
      "0.0012553325834828248\n",
      "0.0012550013071830517\n",
      "0.0012546704275773557\n",
      "0.0012543396750861523\n",
      "0.0012540093183868546\n",
      "0.001253679088325268\n",
      "0.0012533492531565137\n",
      "0.0012530195441506685\n",
      "0.001252690227728159\n",
      "0.0012523611722343694\n",
      "0.0012520322421951087\n",
      "0.0012517037048144608\n",
      "0.001251375292418444\n",
      "0.0012510472717926976\n",
      "0.0012507193756836296\n",
      "0.0012503918704595246\n",
      "0.0012500644892860797\n",
      "0.001249737498115312\n",
      "0.001249410630531112\n",
      "0.0012490841520703107\n",
      "0.0012487577967338999\n",
      "0.0012484318296446036\n",
      "0.0012481059852194273\n",
      "0.0012477805281680616\n",
      "0.0012474551933224416\n",
      "0.0012471302449802955\n",
      "0.0012468054183874084\n",
      "0.0012464808454762432\n",
      "0.0012461566577684662\n",
      "0.0012458325911287175\n",
      "0.0012455089088293809\n",
      "0.0012451853471462625\n",
      "0.0012448621689435003\n",
      "0.0012445391109070013\n",
      "0.0012442164354937108\n",
      "0.001243893879798573\n",
      "0.0012435717058723913\n",
      "0.001243249651218088\n",
      "0.0012429279774813695\n",
      "0.0012426064225720828\n",
      "0.001242285247731879\n",
      "0.0012419641912764776\n",
      "0.0012416435140445135\n",
      "0.0012413229547565319\n",
      "0.0012410027738491852\n",
      "0.0012406828391772191\n",
      "0.0012403631532156738\n",
      "0.0012400435843220054\n",
      "0.0012397242623051826\n",
      "0.001239405316574349\n",
      "0.0012390864872588718\n",
      "0.0012387680333964348\n",
      "0.0012384496955165645\n",
      "0.0012381317322595722\n",
      "0.0012378138845541176\n",
      "0.0012374964106441535\n",
      "0.0012371790518564505\n",
      "0.0012368620660396133\n",
      "0.001236545194917503\n",
      "0.0012362286959443842\n",
      "0.0012359123112401934\n",
      "0.0012355962978658575\n",
      "0.001235280398336377\n",
      "0.0012349648693203415\n",
      "0.0012346494537268063\n",
      "0.0012343344078330199\n",
      "0.0012340194749410885\n",
      "0.0012337049109379119\n",
      "0.0012333904595176457\n",
      "0.0012330762484220618\n",
      "0.0012327624050036746\n",
      "0.0012324486735429368\n",
      "0.001232135308955106\n",
      "0.0012318220559101966\n",
      "0.001231509168936565\n",
      "0.0012311963930927994\n",
      "0.0012308839825213313\n",
      "0.0012305716826683378\n",
      "0.0012302597472913\n",
      "0.0012299479222230008\n",
      "0.0012296364608369414\n",
      "0.0012293251093515327\n",
      "0.001229014245878605\n",
      "0.0012287033666833456\n",
      "0.0012283928495908348\n",
      "0.0012280824415878441\n",
      "0.0012277723949016956\n",
      "0.0012274624569018752\n",
      "0.0012271527535065903\n",
      "0.001226843410254019\n",
      "0.0012265341750860004\n",
      "0.0012262252992812199\n",
      "0.001225916531161826\n",
      "0.0012256081216287476\n",
      "0.0012252998193834862\n",
      "0.0012249918749501598\n",
      "0.0012246840374086697\n",
      "0.0012243765569072646\n",
      "0.0012240691829032968\n",
      "0.0012237621651700838\n",
      "0.0012234552535414828\n",
      "0.001223148697416815\n",
      "0.0012228422470055003\n",
      "0.0012225361513337955\n",
      "0.0012222301609857438\n",
      "0.0012219245246154658\n",
      "0.0012216189931806914\n",
      "0.0012213138149643314\n",
      "0.0012210087412968698\n",
      "0.001220703896130897\n",
      "0.0012203994030488177\n",
      "0.0012200950139385938\n",
      "0.0012197909761590498\n",
      "0.001219487041968583\n",
      "0.0012191834583580208\n",
      "0.0012188799779552762\n",
      "0.0012185768473840905\n",
      "0.0012182738196409733\n",
      "0.0012179711409834879\n",
      "0.0012176686864536484\n",
      "0.0012173664584972197\n",
      "0.0012170643326139905\n",
      "0.0012167625543318542\n",
      "0.0012164608777476573\n",
      "0.0012161595480258197\n",
      "0.0012158583196281436\n",
      "0.0012155574373564715\n",
      "0.001215256656036658\n",
      "0.00121495622010886\n",
      "0.0012146558847620863\n",
      "0.0012143557720338469\n",
      "0.001214056003600959\n",
      "0.0012137563351955689\n",
      "0.0012134570103574168\n",
      "0.001213157785179568\n",
      "0.0012128589028431766\n",
      "0.001212560119801338\n",
      "0.0012122616788774986\n",
      "0.0012119633368838987\n",
      "0.001211665336287152\n",
      "0.0012113674342577622\n",
      "0.0012110698729063828\n",
      "0.001210772409760901\n",
      "0.00121047528657688\n",
      "0.001210178261238714\n",
      "0.0012098815751477425\n",
      "0.0012095849865439942\n",
      "0.0012092887364754479\n",
      "0.001208992583536896\n",
      "0.0012086966480752191\n",
      "0.0012084010500849028\n",
      "0.0012081055486913431\n",
      "0.001207810384062795\n",
      "0.0012075153156772547\n",
      "0.0012072205833526172\n",
      "0.0012069259469186197\n",
      "0.001206631764233041\n",
      "0.0012063375586109026\n",
      "0.0012060436876482276\n",
      "0.0012057499118756903\n",
      "0.0012054564700651725\n",
      "0.0012051631230965273\n",
      "0.001204870109394661\n",
      "0.0012045771901877565\n",
      "0.0012042846035545845\n",
      "0.0012039921110708126\n",
      "0.001203699950469911\n",
      "0.0012034078836741897\n",
      "0.0012031161480726526\n",
      "0.0012028245059334127\n",
      "0.001202533075779648\n",
      "0.0012022419757910046\n",
      "0.0012019509687528135\n",
      "0.0012016602911964574\n",
      "0.0012013697062509827\n",
      "0.0012010794501062007\n",
      "0.0012007892862340441\n",
      "0.0012004994504835728\n",
      "0.0012002097066687787\n",
      "0.001199920290298789\n",
      "0.001199630965528831\n",
      "0.001199341967528914\n",
      "0.0011990530607946788\n",
      "0.00119876448015783\n",
      "0.0011984759904536035\n",
      "0.0011981878261762087\n",
      "0.0011978997524996606\n",
      "0.001197612003581481\n",
      "0.001197324344933651\n",
      "0.0011970370103778086\n",
      "0.001196749765763091\n",
      "0.0011964627278345308\n",
      "0.001196176013002184\n",
      "0.001195889502865959\n",
      "0.0011956031998352462\n",
      "0.0011953169859282243\n",
      "0.0011950310937971342\n",
      "0.0011947452904649163\n",
      "0.0011944598082515158\n",
      "0.0011941744145134157\n",
      "0.001193889341239054\n",
      "0.0011936043561176612\n",
      "0.001193319690806956\n",
      "0.0011930351133281226\n",
      "0.0011927508550089447\n",
      "0.0011924666842017709\n",
      "0.0011921828319052317\n",
      "0.001191899066802052\n",
      "0.0011916156195624888\n",
      "0.0011913322591988581\n",
      "0.0011910492160538207\n",
      "0.001190766259468501\n",
      "0.0011904835044537457\n",
      "0.0011902010656936837\n",
      "0.001189918713021268\n",
      "0.0011896366759634731\n",
      "0.0011893547246801166\n",
      "0.0011890730883732748\n",
      "0.0011887915375288554\n",
      "0.001188510301024803\n",
      "0.001188229149672345\n",
      "0.0011879483120260561\n",
      "0.0011876675592217157\n",
      "0.001187387119491289\n",
      "0.0011871067642943414\n",
      "0.0011868267215409867\n",
      "0.0011865467630138129\n",
      "0.001186267116301838\n",
      "0.0011859875535099114\n",
      "0.0011857083019067083\n",
      "0.0011854292461587624\n",
      "0.001185150275184743\n",
      "0.001184871614463313\n",
      "0.0011845930369017625\n",
      "0.001184314768971089\n",
      "0.0011840365838982022\n",
      "0.001183758707836372\n",
      "0.001183480914331377\n",
      "0.0011832034292195025\n",
      "0.0011829260263646502\n",
      "0.0011826489312868579\n",
      "0.0011823719181674062\n",
      "0.001182095212210824\n",
      "0.001181818587915028\n",
      "0.0011815422701697716\n",
      "0.0011812660337888687\n",
      "0.0011809901033480305\n",
      "0.0011807142539762296\n",
      "0.0011804387099358647\n",
      "0.0011801632466703327\n",
      "0.001179888088129447\n",
      "0.0011796130100702967\n",
      "0.001179338124316799\n",
      "0.0011790635423811137\n",
      "0.0011787890404895732\n",
      "0.0011785148418136215\n",
      "0.0011782407228914625\n",
      "0.0011779669065844823\n",
      "0.001177693169742032\n",
      "0.0011774197349161564\n",
      "0.0011771463792666322\n",
      "0.0011768733250368789\n",
      "0.0011766003496963776\n",
      "0.0011763276751806345\n",
      "0.00117605507926812\n",
      "0.0011757827835871357\n",
      "0.001175510566224426\n",
      "0.0011752387578641507\n",
      "0.0011749669180998413\n",
      "0.001174695377386011\n",
      "0.0011744239144238363\n",
      "0.0011741527499242242\n",
      "0.001173881662894495\n",
      "0.0011736107635437994\n",
      "0.001173340161777004\n",
      "0.0011730696370593938\n",
      "0.0011727994093421467\n",
      "0.001172529258394931\n",
      "0.00117225940386628\n",
      "0.0011719896258295458\n",
      "0.0011717201436313108\n",
      "0.0011714507376479127\n",
      "0.0011711816269246737\n",
      "0.0011709125921402224\n",
      "0.0011706438520393085\n",
      "0.0011703751876021582\n",
      "0.001170106817273636\n",
      "0.0011698385223348744\n",
      "0.001169570520931537\n",
      "0.0011693025946449736\n",
      "0.0011690349613223288\n",
      "0.0011687674028444833\n",
      "0.0011685000279927826\n",
      "0.001168232945250835\n",
      "0.0011679659369476054\n",
      "0.0011676992201868409\n",
      "0.0011674325775953304\n",
      "0.001167166225980672\n",
      "0.0011668999482668\n",
      "0.0011666339609658362\n",
      "0.0011663680472981837\n",
      "0.0011661024234811573\n",
      "0.0011658368730309541\n",
      "0.001165571611870751\n",
      "0.0011653065304173154\n",
      "0.0011650416310165477\n",
      "0.001164776804452666\n",
      "0.0011645122660625467\n",
      "0.0011642478002457622\n",
      "0.0011639836220470425\n",
      "0.001163719516159077\n",
      "0.0011634556973351081\n",
      "0.0011631919505602792\n",
      "0.0011629283830733152\n",
      "0.0011626651018222136\n",
      "0.0011624018922296252\n",
      "0.001162138968322879\n",
      "0.0011618761158154283\n",
      "0.0011616135484454077\n",
      "0.0011613510522164164\n",
      "0.001161088840578045\n",
      "0.0011608266998233835\n",
      "0.001160564843114127\n",
      "0.0011603030570322044\n",
      "0.0011600415544520614\n",
      "0.0011597801222438158\n",
      "0.0011595189729953072\n",
      "0.0011592578938641935\n",
      "0.001158997097152352\n",
      "0.0011587363703043343\n",
      "0.0011584759253366944\n",
      "0.001158215549980234\n",
      "0.0011579554559668218\n",
      "0.0011576954313128674\n",
      "0.0011574355817505673\n",
      "0.0011571760127281694\n",
      "0.0011569165126893615\n",
      "0.0011566572926570136\n",
      "0.001156398141358823\n",
      "0.001156139269535193\n",
      "0.0011558804661971971\n",
      "0.0011556220457658493\n",
      "0.0011553635895401573\n",
      "0.0011551054117299052\n",
      "0.0011548473019110375\n",
      "0.001154589469980307\n",
      "0.0011543317057951398\n",
      "0.0011540742189723272\n",
      "0.00115381679965015\n",
      "0.0011535596571660596\n",
      "0.0011533025819385654\n",
      "0.0011530457830263995\n",
      "0.001152789051127676\n",
      "0.0011525324906416434\n",
      "0.001152276205689545\n",
      "0.0011520199873878056\n",
      "0.0011517640441009894\n",
      "0.001151508167223575\n",
      "0.0011512525648435603\n",
      "0.0011509970286328636\n",
      "0.0011507417664035268\n",
      "0.0011504865701042915\n",
      "0.0011502316472718538\n",
      "0.0011499767901311663\n",
      "0.0011497222059441855\n",
      "0.001149467687211464\n",
      "0.0011492134409208255\n",
      "0.001148959259847813\n",
      "0.0011487053507067194\n",
      "0.0011484515065474721\n",
      "0.0011481979338114352\n",
      "0.0011479444258223148\n",
      "0.001147691188749146\n",
      "0.0011474380161888098\n",
      "0.0011471850110995566\n",
      "0.0011469322761680032\n",
      "0.0011466796053997306\n",
      "0.0011464272042854998\n",
      "0.0011461749685294567\n",
      "0.0011459229004312347\n",
      "0.0011456708960332427\n",
      "0.0011454191602863263\n",
      "0.0011451674880093195\n",
      "0.0011449160838840052\n",
      "0.0011446647429991066\n",
      "0.0011444136697679318\n",
      "0.0011441626595485024\n",
      "0.0011439119164862368\n",
      "0.0011436612362078654\n",
      "0.0011434108225915024\n",
      "0.0011431604715319984\n",
      "0.0011429103866407453\n",
      "0.0011426603640801289\n",
      "0.0011424106071953998\n",
      "0.0011421609124158934\n",
      "0.001141911381291669\n",
      "0.0011416621151073196\n",
      "0.001141412910691578\n",
      "0.0011411639707268083\n",
      "0.0011409150923072408\n",
      "0.0011406664778511176\n",
      "0.001140417924717588\n",
      "0.0011401696350613446\n",
      "0.00113992140650588\n",
      "0.0011396734409429095\n",
      "0.001139425536259693\n",
      "0.0011391778940855373\n",
      "0.0011389303125708989\n",
      "0.0011386829930832426\n",
      "0.0011384357340356503\n",
      "0.0011381887365343119\n",
      "0.0011379417992543645\n",
      "0.0011376951230412868\n",
      "0.0011374485068317043\n",
      "0.001137202050929015\n"
     ]
    },
    {
     "ename": "NameError",
     "evalue": "name 'get' is not defined",
     "output_type": "error",
     "traceback": [
      "\u001b[1;31m---------------------------------------------------------------------------\u001b[0m",
      "\u001b[1;31mNameError\u001b[0m                                 Traceback (most recent call last)",
      "\u001b[1;32mc:\\Users\\danie\\OneDrive\\Documentos\\Universidad\\Semestre 11\\Capstone\\Proyecto-Capstone-IMT3500\\Test_Distribuciones.ipynb Cell 56\u001b[0m in \u001b[0;36m3\n\u001b[0;32m      <a href='vscode-notebook-cell:/c%3A/Users/danie/OneDrive/Documentos/Universidad/Semestre%2011/Capstone/Proyecto-Capstone-IMT3500/Test_Distribuciones.ipynb#Y112sZmlsZQ%3D%3D?line=0'>1</a>\u001b[0m x \u001b[39m=\u001b[39m np\u001b[39m.\u001b[39mlinspace(\u001b[39m0\u001b[39m,\u001b[39m1\u001b[39m,\u001b[39m1000\u001b[39m)\n\u001b[0;32m      <a href='vscode-notebook-cell:/c%3A/Users/danie/OneDrive/Documentos/Universidad/Semestre%2011/Capstone/Proyecto-Capstone-IMT3500/Test_Distribuciones.ipynb#Y112sZmlsZQ%3D%3D?line=1'>2</a>\u001b[0m y \u001b[39m=\u001b[39m [Tester(df_2303,df_2302,\u001b[39m\"\u001b[39m\u001b[39mCONTINGENTE\u001b[39m\u001b[39m\"\u001b[39m,\u001b[39m0.05\u001b[39m,df_fillna_dropna_mix,i) \u001b[39mfor\u001b[39;00m i \u001b[39min\u001b[39;00m x]\n\u001b[1;32m----> <a href='vscode-notebook-cell:/c%3A/Users/danie/OneDrive/Documentos/Universidad/Semestre%2011/Capstone/Proyecto-Capstone-IMT3500/Test_Distribuciones.ipynb#Y112sZmlsZQ%3D%3D?line=2'>3</a>\u001b[0m mw_r \u001b[39m=\u001b[39m get(every_value_of_every_list(y,\u001b[39m\"\u001b[39m\u001b[39mKS\u001b[39m\u001b[39m\"\u001b[39m,\u001b[39m1\u001b[39m))\n",
      "\u001b[1;31mNameError\u001b[0m: name 'get' is not defined"
     ]
    }
   ],
   "source": [
    "x = np.linspace(0,1,1000)\n",
    "y = [Tester(df_2303,df_2302,\"CONTINGENTE\",0.05,df_fillna_dropna_mix,i) for i in x]\n"
   ]
  },
  {
   "cell_type": "code",
   "execution_count": 177,
   "metadata": {},
   "outputs": [],
   "source": [
    "ks_r = get_value_of_every_list(y,\"KS\",1)\n",
    "ks_c = get_value_of_every_list(y,\"KS\",0)"
   ]
  },
  {
   "cell_type": "code",
   "execution_count": 182,
   "metadata": {},
   "outputs": [
    {
     "data": {
      "text/plain": [
       "[0.43141166055979696,\n",
       " 0.4316515091926064,\n",
       " 0.4318781752123231,\n",
       " 0.4321292905835925,\n",
       " 0.432259628398873,\n",
       " 0.4326400487476172,\n",
       " 0.432894456418693,\n",
       " 0.43144032475709737,\n",
       " 0.4333791997533134,\n",
       " 0.4336251556883636]"
      ]
     },
     "execution_count": 182,
     "metadata": {},
     "output_type": "execute_result"
    }
   ],
   "source": [
    "ks_r[-10:]\n"
   ]
  },
  {
   "cell_type": "code",
   "execution_count": 178,
   "metadata": {},
   "outputs": [],
   "source": [
    "mw_r = get_value_of_every_list(y,\"MW\",1)\n",
    "mw_c = get_value_of_every_list(y,\"MW\",0)"
   ]
  },
  {
   "cell_type": "code",
   "execution_count": 183,
   "metadata": {},
   "outputs": [
    {
     "data": {
      "text/plain": [
       "['Cumple',\n",
       " 'Cumple',\n",
       " 'No Cumple',\n",
       " 'No Cumple',\n",
       " 'No Cumple',\n",
       " 'No Cumple',\n",
       " 'No Cumple',\n",
       " 'No Cumple',\n",
       " 'No Cumple',\n",
       " 'No Cumple']"
      ]
     },
     "execution_count": 183,
     "metadata": {},
     "output_type": "execute_result"
    }
   ],
   "source": []
  },
  {
   "cell_type": "code",
   "execution_count": 187,
   "metadata": {},
   "outputs": [
    {
     "data": {
      "image/png": "[encoded data removed]",
      "text/plain": [
       "<Figure size 640x480 with 1 Axes>"
      ]
     },
     "metadata": {},
     "output_type": "display_data"
    }
   ],
   "source": [
    "plt.plot(x,ks_r)\n",
    "plt.plot(x,[ks_r[1] for i in ks_c])\n",
    "plt.show()"
   ]
  },
  {
   "cell_type": "code",
   "execution_count": 190,
   "metadata": {},
   "outputs": [
    {
     "name": "stdout",
     "output_type": "stream",
     "text": [
      "0\n",
      "1\n",
      "2\n",
      "3\n",
      "4\n",
      "5\n",
      "7\n",
      "9\n",
      "13\n",
      "16\n",
      "18\n",
      "22\n",
      "23\n",
      "28\n",
      "30\n",
      "31\n",
      "32\n",
      "34\n",
      "35\n",
      "64\n"
     ]
    }
   ],
   "source": [
    "for i in range(len(mw_c)):\n",
    "    if mw_c[i] == \"Cumple\":\n",
    "        print(i)"
   ]
  },
  {
   "cell_type": "code",
   "execution_count": 191,
   "metadata": {},
   "outputs": [
    {
     "data": {
      "image/png": "[encoded data removed]",
      "text/plain": [
       "<Figure size 640x480 with 1 Axes>"
      ]
     },
     "metadata": {},
     "output_type": "display_data"
    }
   ],
   "source": [
    "plt.plot(x,mw_r)\n",
    "plt.plot(x,[mw_r[64] for i in mw_c])\n",
    "plt.show()"
   ]
  },
  {
   "cell_type": "code",
   "execution_count": null,
   "metadata": {},
   "outputs": [],
   "source": []
  }
 ],
 "metadata": {
  "kernelspec": {
   "display_name": "Python 3",
   "language": "python",
   "name": "python3"
  },
  "language_info": {
   "codemirror_mode": {
    "name": "ipython",
    "version": 3
   },
   "file_extension": ".py",
   "mimetype": "text/x-python",
   "name": "python",
   "nbconvert_exporter": "python",
   "pygments_lexer": "ipython3",
   "version": "3.9.6"
  },
  "orig_nbformat": 4,
  "vscode": {
   "interpreter": {
    "hash": "26a68ec743e2a712ee84f8a76f358e13885de212d4466056324832aa219765cf"
   }
  }
 },
 "nbformat": 4,
 "nbformat_minor": 2
}
