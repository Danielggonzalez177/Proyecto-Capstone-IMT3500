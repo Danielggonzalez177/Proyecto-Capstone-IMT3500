{
 "cells": [
  {
   "cell_type": "markdown",
   "metadata": {},
   "source": [
    "Primero cargamos todas las librerias que usaremos,en conjunto con los PATHS de las bases"
   ]
  },
  {
   "cell_type": "code",
   "execution_count": 27,
   "metadata": {},
   "outputs": [],
   "source": [
    "import numpy as np\n",
    "import random\n",
    "import pandas as pd\n",
    "import matplotlib.pyplot as plt\n",
    "from statsmodels.stats.stattools import durbin_watson\n",
    "from statsmodels.stats.diagnostic import acorr_breusch_godfrey\n",
    "import statsmodels.api as sm\n",
    "from statsmodels.compat import lzip\n",
    "import datetime\n",
    "from statsmodels.tools.tools import add_constant\n",
    "import math\n",
    "from scipy.stats import norm\n",
    "from scipy.stats import chi2\n",
    "#Cambiar el path *Importante\n",
    "PATH_2210 = \"E01_T_DEU_CONS_2210_REV.csv\"\n",
    "PATH_2211 = \"E01_T_DEU_CONS_2211_REV.csv\"\n",
    "PATH_2212 = \"E01_T_DEU_CONS_2212_REV.csv\"\n",
    "PATH_2301 = \"E01_T_DEU_CONS_2301_REV.csv\"\n",
    "PATH_2302 = \"E01_T_DEU_CONS_2302_REV.csv\"\n",
    "PATH_2303 = \"E01_T_DEU_CONS_2303_REV.csv\"\n",
    "Lista_Path = [PATH_2210,PATH_2211,PATH_2212,PATH_2301,PATH_2302,PATH_2303]"
   ]
  },
  {
   "cell_type": "code",
   "execution_count": 8,
   "metadata": {},
   "outputs": [
    {
     "data": {
      "text/plain": [
       "0                0\n",
       "1                1\n",
       "2                3\n",
       "3                4\n",
       "4                6\n",
       "            ...   \n",
       "1028022    1083121\n",
       "1028023    1083122\n",
       "1028024    1083123\n",
       "1028025    1083124\n",
       "1028026    1083125\n",
       "Name: RUT, Length: 1028027, dtype: int64"
      ]
     },
     "execution_count": 8,
     "metadata": {},
     "output_type": "execute_result"
    }
   ],
   "source": [
    "def RutComunes(list):\n",
    "    df2210 = pd.read_csv(PATH_2210, delimiter=\";\", usecols = ['RUT'])\n",
    "    df2211 = pd.read_csv(PATH_2211, delimiter=\";\", usecols = ['RUT'])\n",
    "    df2212 = pd.read_csv(PATH_2212, delimiter=\";\", usecols = ['RUT'])\n",
    "    df2301 = pd.read_csv(PATH_2301, delimiter=\";\", usecols = ['RUT'])\n",
    "    df2302 = pd.read_csv(PATH_2302, delimiter=\";\", usecols = ['RUT'])\n",
    "    df2303 = pd.read_csv(PATH_2303, delimiter=\";\", usecols = ['RUT'])\n",
    "    RutComunes = np.intersect1d(np.intersect1d(np.intersect1d(df2210, df2211), df2212), np.intersect1d(df2301, np.intersect1d(df2302, df2303)))\n",
    "    dfRutComunes = pd.DataFrame({'RUT': RutComunes})\n",
    "    lista_rut = dfRutComunes[\"RUT\"]\n",
    "    return lista_rut\n",
    "\n",
    "RutComunes(Lista_Path)"
   ]
  },
  {
   "cell_type": "markdown",
   "metadata": {},
   "source": [
    "Generamos el Test de Durbin Watson y el de tamaño muestra"
   ]
  },
  {
   "cell_type": "code",
   "execution_count": 58,
   "metadata": {},
   "outputs": [
    {
     "name": "stdout",
     "output_type": "stream",
     "text": [
      "Tamaño de la muestra: 384\n"
     ]
    }
   ],
   "source": [
    "def DataProm(dataframe):\n",
    "    cantidad_filas = dataframe.shape[0]\n",
    "    tamaño_muestra =calcular_tamano_muestra(cantidad_filas,0.05,0.5,0.05)\n",
    "    lista_dataframes =[]\n",
    "    for i in range (31):\n",
    "        numero_aleatorio = random.randint(tamano_muestra,cantidad_filas-tamaño_muestra)\n",
    "        dfparalista = dataframe.iloc[numero_aleatorio-1:numero_aleatorio+tamaño_muestra]\n",
    "        dfparalista.columns = dataframe.columns\n",
    "        lista_dataframes.append(dfparalista)\n",
    "    \n",
    "    #print(lista_dataframes[30])\n",
    "    num_dataframes = len(lista_dataframes)\n",
    "    num_filas = lista_dataframes[0].shape[0]\n",
    "    num_columnas = lista_dataframes[0].shape[1]\n",
    "    df_promedio = pd.DataFrame(np.zeros((num_filas, num_columnas)))\n",
    "    for i in range(num_filas):\n",
    "        for j in range(num_columnas):\n",
    "            suma = sum(df.iloc[i, j] for df in lista_dataframes)\n",
    "            promedio = suma / num_dataframes\n",
    "            df_promedio.iloc[i, j] = promedio\n",
    "    df_promedio = df_promedio.drop(columns=[6])\n",
    "    df_promedio = df_promedio.rename(columns={0: '2210', 1: '2211', 2: '2212', 3: '2301', 4: '2302', 5: '2303'})\n",
    "    return df_promedio\n",
    "\n",
    "\n",
    "\n",
    "def TestSeriesDW (dataframe,fecha_1,fecha_2):\n",
    "\n",
    "    df_fecha_1 = dataframe[str(fecha_1)]\n",
    "    df_fecha_2 = dataframe[str(fecha_2)]\n",
    "    dw_test = durbin_watson(df_fecha_2 - df_fecha_1)\n",
    "    print(f\"El test de DW entre las fechas de {str(fecha_1)} y {str(fecha_2)} es de :{dw_test}\")\n",
    "\n",
    "\n",
    "def calcular_tamano_muestra(N, alpha, p, d):\n",
    "    z = abs(norm.ppf(1 - alpha/2)) \n",
    "    numerator = (N * z**2 * p * (1 - p))\n",
    "    denominator = (d**2 * (N - 1) + z**2 * p * (1 - p))\n",
    "    n = numerator / denominator\n",
    "    muestra_tamaño = math.ceil(n)\n",
    "    return muestra_tamaño\n",
    "N = 1000000\n",
    "alpha = 0.05\n",
    "p = 0.5\n",
    "d = 0.05\n",
    "\n",
    "tamano_muestra = calcular_tamano_muestra(N, alpha, p, d)\n",
    "print(\"Tamaño de la muestra:\", tamano_muestra)"
   ]
  },
  {
   "cell_type": "code",
   "execution_count": 59,
   "metadata": {},
   "outputs": [],
   "source": [
    "def Test(Variable):\n",
    "    df2210 = pd.read_csv(PATH_2210, delimiter=\";\", usecols = ['RUT'])\n",
    "    df2211 = pd.read_csv(PATH_2211, delimiter=\";\", usecols = ['RUT'])\n",
    "    df2212 = pd.read_csv(PATH_2212, delimiter=\";\", usecols = ['RUT'])\n",
    "    df2301 = pd.read_csv(PATH_2301, delimiter=\";\", usecols = ['RUT'])\n",
    "    df2302 = pd.read_csv(PATH_2302, delimiter=\";\", usecols = ['RUT'])\n",
    "    df2303 = pd.read_csv(PATH_2303, delimiter=\";\", usecols = ['RUT'])\n",
    "    RutComunes = np.intersect1d(np.intersect1d(np.intersect1d(df2210, df2211), df2212), np.intersect1d(df2301, np.intersect1d(df2302, df2303)))\n",
    "    dfRutComunes = pd.DataFrame({'RUT': RutComunes})\n",
    "    lista_rut = dfRutComunes[\"RUT\"]\n",
    "    ###########################################################################\n",
    "    df22101 = pd.read_csv(PATH_2210, delimiter=\";\", usecols = ['RUT',Variable])\n",
    "    df22111 = pd.read_csv(PATH_2211, delimiter=\";\", usecols = ['RUT',Variable])\n",
    "    df22121 = pd.read_csv(PATH_2212, delimiter=\";\", usecols = ['RUT',Variable])\n",
    "    df23011 = pd.read_csv(PATH_2301, delimiter=\";\", usecols = ['RUT',Variable])\n",
    "    df23021 = pd.read_csv(PATH_2302, delimiter=\";\", usecols = ['RUT',Variable])\n",
    "    df23031 = pd.read_csv(PATH_2303, delimiter=\";\", usecols = ['RUT',Variable])\n",
    "    dfvarible22101 = df22101.loc[df22101['RUT'].isin(lista_rut)].dropna()\n",
    "    dfvarible22111 = df22111.loc[df22111['RUT'].isin(lista_rut)].dropna()\n",
    "    dfvarible22121 = df22121.loc[df22121['RUT'].isin(lista_rut)].dropna()\n",
    "    dfvarible23011 = df23011.loc[df23011['RUT'].isin(lista_rut)].dropna()\n",
    "    dfvarible23021 = df22101.loc[df23021['RUT'].isin(lista_rut)].dropna()\n",
    "    dfvarible23031 = df23031.loc[df23031['RUT'].isin(lista_rut)].dropna()\n",
    "\n",
    "    dataframes = [\n",
    "        (dfvarible22101, '2210'),\n",
    "        (dfvarible22111, '2211'),\n",
    "        (dfvarible22121, '2212'),\n",
    "        (dfvarible23011, '2301'),\n",
    "        (dfvarible23021, '2302'),\n",
    "        (dfvarible23031, '2303')\n",
    "    ]\n",
    "\n",
    "    dftemporal = pd.DataFrame()\n",
    "\n",
    "    for df, nombre_df in dataframes:\n",
    "        dftemporal[nombre_df] = df[Variable]\n",
    "\n",
    "    dftemporal['RUT'] = df22101['RUT'] \n",
    "    dftemporal = dftemporal.dropna()\n",
    "    dataframeDW = DataProm(dftemporal)\n",
    "    TestSeriesDW(dataframeDW,2210,2211)\n",
    "    TestSeriesDW(dataframeDW,2211,2212)\n",
    "    TestSeriesDW(dataframeDW,2212,2301)\n",
    "    TestSeriesDW(dataframeDW,2301,2302)\n",
    "    TestSeriesDW(dataframeDW,2302,2303)"
   ]
  },
  {
   "cell_type": "code",
   "execution_count": 37,
   "metadata": {},
   "outputs": [
    {
     "name": "stdout",
     "output_type": "stream",
     "text": [
      "             2210       2211         2212       2301      2302        2303  \\\n",
      "1735350    5747.0  1166577.0          0.0  3832855.0    5747.0    157835.0   \n",
      "1735351    9640.0   991315.0          0.0        0.0    9640.0   2047287.0   \n",
      "1736359       0.0  2691938.0          0.0   385827.0       0.0  10875158.0   \n",
      "1736871       0.0    28034.0  535295008.0        0.0       0.0   1559569.0   \n",
      "1737943    1282.0  1445314.0          0.0        0.0    1282.0         0.0   \n",
      "...           ...        ...          ...        ...       ...         ...   \n",
      "1879383   34403.0   219558.0    1423598.0        0.0   34403.0    854160.0   \n",
      "1880845  406068.0   183238.0   22675458.0        0.0  406068.0         0.0   \n",
      "1880890  883283.0        0.0          0.0        0.0  883283.0         0.0   \n",
      "1881475       0.0        0.0          0.0  1235532.0       0.0      1531.0   \n",
      "1881720       0.0        0.0          0.0        0.0       0.0         0.0   \n",
      "\n",
      "            RUT  \n",
      "1735350  533146  \n",
      "1735351  533147  \n",
      "1736359  437390  \n",
      "1736871  875207  \n",
      "1737943  551394  \n",
      "...         ...  \n",
      "1879383  135840  \n",
      "1880845  715228  \n",
      "1880890  216031  \n",
      "1881475  643542  \n",
      "1881720  728411  \n",
      "\n",
      "[362 rows x 7 columns]\n",
      "             2210       2211        2212       2301      2302       2303  \\\n",
      "1726949       0.0        0.0         0.0  2128804.0       0.0        0.0   \n",
      "1726950       0.0        0.0         0.0        0.0       0.0        0.0   \n",
      "1726951       0.0        0.0         0.0  1402426.0       0.0        0.0   \n",
      "1727067       0.0        0.0  71730709.0      228.0       0.0  1161012.0   \n",
      "1727068       0.0        0.0  82794514.0      834.0       0.0   104393.0   \n",
      "...           ...        ...         ...        ...       ...        ...   \n",
      "1868378       0.0        0.0   2156066.0        0.0       0.0    82171.0   \n",
      "1868379       0.0        0.0     37542.0        0.0       0.0    10723.0   \n",
      "1868416  319537.0  9248533.0    294937.0        0.0  319537.0   155510.0   \n",
      "1868812       0.0        0.0         0.0        0.0       0.0        0.0   \n",
      "1868813    3260.0        0.0         0.0        0.0    3260.0        0.0   \n",
      "\n",
      "            RUT  \n",
      "1726949  652868  \n",
      "1726950  652868  \n",
      "1726951  652864  \n",
      "1727067  575897  \n",
      "1727068  575894  \n",
      "...         ...  \n",
      "1868378  966948  \n",
      "1868379  966947  \n",
      "1868416  475577  \n",
      "1868812  418697  \n",
      "1868813  418699  \n",
      "\n",
      "[362 rows x 7 columns]\n"
     ]
    }
   ],
   "source": [
    "Test(\"SPROM\") #14 o 22"
   ]
  },
  {
   "cell_type": "code",
   "execution_count": 40,
   "metadata": {},
   "outputs": [
    {
     "name": "stdout",
     "output_type": "stream",
     "text": [
      "              2210      2211      2212       2301       2302      2303     RUT\n",
      "1022430        0.0       0.0       0.0   391643.0        0.0       0.0  760657\n",
      "1022431        0.0       0.0       0.0     3180.0        0.0       0.0  760656\n",
      "1024747        0.0       0.0       0.0      523.0        0.0       0.0  886845\n",
      "1024748        0.0       0.0       0.0  3005009.0        0.0       0.0  886844\n",
      "1024750        0.0   98726.0       0.0        0.0        0.0       0.0  886836\n",
      "...            ...       ...       ...        ...        ...       ...     ...\n",
      "1182037        0.0       0.0       0.0  1256157.0        0.0       0.0  764237\n",
      "1182310   720358.0  532449.0   55360.0        0.0   720358.0       0.0  730151\n",
      "1182311       65.0  167568.0       0.0        0.0       65.0  860975.0  730146\n",
      "1182312  2762371.0       0.0  443600.0        0.0  2762371.0   10071.0  730145\n",
      "1182313        0.0       0.0    3281.0        0.0        0.0   23231.0  730157\n",
      "\n",
      "[362 rows x 7 columns]\n"
     ]
    }
   ],
   "source": [
    "Test(\"SPROM\")#24"
   ]
  },
  {
   "cell_type": "code",
   "execution_count": 42,
   "metadata": {},
   "outputs": [
    {
     "name": "stdout",
     "output_type": "stream",
     "text": [
      "               2210  2211       2212  2301        2302  2303     RUT\n",
      "1652428      7595.0   0.0        0.0   0.0      7595.0   0.0  366486\n",
      "1652429  27064562.0   0.0        0.0   0.0  27064562.0   0.0  366487\n",
      "1652430   3765540.0   0.0        0.0   0.0   3765540.0   0.0  365904\n",
      "1652431    164538.0   0.0        0.0   0.0    164538.0   0.0  365900\n",
      "1652432     27266.0   0.0        0.0   0.0     27266.0   0.0  365895\n",
      "...             ...   ...        ...   ...         ...   ...     ...\n",
      "1832730         0.0   0.0   792302.0   0.0         0.0   0.0  854117\n",
      "1832731         0.0   0.0  1065102.0   0.0         0.0   0.0  854117\n",
      "1832733         0.0   0.0    15491.0   0.0         0.0   0.0  854115\n",
      "1832734         0.0   0.0        0.0   0.0         0.0   0.0  854123\n",
      "1833232         0.0   0.0    43581.0   0.0         0.0   0.0  862802\n",
      "\n",
      "[362 rows x 7 columns]\n"
     ]
    }
   ],
   "source": [
    "Test(\"SPROM\")#30"
   ]
  },
  {
   "cell_type": "markdown",
   "metadata": {},
   "source": [
    "Hasta aca el codigo solo llegaba al print de lista_dataframe[posicion], despues se le agrega lo del promedio y se muestra el dataframe del promedio en el mismo formato"
   ]
  },
  {
   "cell_type": "code",
   "execution_count": 55,
   "metadata": {},
   "outputs": [
    {
     "name": "stdout",
     "output_type": "stream",
     "text": [
      "             2210          2211          2212          2301          2302  \\\n",
      "0    4.064911e+05  7.317766e+05  6.755112e+05  1.023579e+06  4.064911e+05   \n",
      "1    1.487941e+06  5.998129e+05  5.889349e+05  1.015591e+06  1.487941e+06   \n",
      "2    7.434383e+06  2.092365e+06  2.597273e+06  2.096709e+06  7.434383e+06   \n",
      "3    2.423483e+06  8.118126e+04  1.291432e+06  2.897727e+06  2.423483e+06   \n",
      "4    1.483898e+07  4.121446e+05  3.048376e+06  3.167792e+05  1.483898e+07   \n",
      "..            ...           ...           ...           ...           ...   \n",
      "357  9.039152e+05  1.022790e+07  3.166059e+07  2.760176e+06  9.039152e+05   \n",
      "358  9.759952e+05  2.788456e+06  2.695562e+06  5.959854e+05  9.759952e+05   \n",
      "359  1.346534e+06  2.972924e+06  4.373158e+06  1.341053e+05  1.346534e+06   \n",
      "360  1.581608e+06  1.067521e+06  4.852287e+05  5.583000e+06  1.581608e+06   \n",
      "361  2.936192e+06  9.391189e+05  4.471568e+05  7.596864e+05  2.936192e+06   \n",
      "\n",
      "             2303  \n",
      "0    1.328041e+06  \n",
      "1    1.950078e+06  \n",
      "2    3.797017e+06  \n",
      "3    9.569571e+05  \n",
      "4    7.642918e+05  \n",
      "..            ...  \n",
      "357  8.128547e+06  \n",
      "358  9.064811e+05  \n",
      "359  6.186232e+05  \n",
      "360  1.379254e+05  \n",
      "361  9.435379e+05  \n",
      "\n",
      "[362 rows x 6 columns]\n"
     ]
    }
   ],
   "source": [
    "Test(\"SPROM\")#El Promedio"
   ]
  },
  {
   "cell_type": "markdown",
   "metadata": {},
   "source": [
    "Finalmente se llega a calcular Dw segun las fechas"
   ]
  },
  {
   "cell_type": "code",
   "execution_count": 61,
   "metadata": {},
   "outputs": [
    {
     "name": "stdout",
     "output_type": "stream",
     "text": [
      "El test de DW entre las fechas de 2210 y 2211 es de :1.5958038122121412\n",
      "El test de DW entre las fechas de 2211 y 2212 es de :1.4826854812251307\n",
      "El test de DW entre las fechas de 2212 y 2301 es de :1.3017888585258857\n",
      "El test de DW entre las fechas de 2301 y 2302 es de :1.4420626073425113\n",
      "El test de DW entre las fechas de 2302 y 2303 es de :1.7241460934995478\n"
     ]
    }
   ],
   "source": [
    "Test(\"MTOINT\")"
   ]
  }
 ],
 "metadata": {
  "kernelspec": {
   "display_name": "Python 3",
   "language": "python",
   "name": "python3"
  },
  "language_info": {
   "codemirror_mode": {
    "name": "ipython",
    "version": 3
   },
   "file_extension": ".py",
   "mimetype": "text/x-python",
   "name": "python",
   "nbconvert_exporter": "python",
   "pygments_lexer": "ipython3",
   "version": "3.9.2"
  },
  "orig_nbformat": 4
 },
 "nbformat": 4,
 "nbformat_minor": 2
}
