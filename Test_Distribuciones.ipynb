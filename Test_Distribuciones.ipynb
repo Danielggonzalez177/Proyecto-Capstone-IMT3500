{
 "cells": [
  {
   "attachments": {},
   "cell_type": "markdown",
   "metadata": {},
   "source": [
    "# Parametros"
   ]
  },
  {
   "cell_type": "code",
   "execution_count": 2,
   "metadata": {},
   "outputs": [],
   "source": [
    "import numpy as np\n",
    "import pandas as pd\n",
    "import matplotlib.pyplot as plt\n",
    "import statsmodels.stats as stat\n",
    "from scipy.stats import kstest, mannwhitneyu\n",
    "#from sklearn.cluster import AffinityPropagation\n",
    "#import prince\n",
    "PATH_2210 = \"DownloadAll\\E01_T_DEU_CONS_2210\\E01_T_DEU_CONS_2210.csv\"\n",
    "PATH_2211 = \"DownloadAll\\E01_T_DEU_CONS_2211\\E01_T_DEU_CONS_2211.csv\"\n",
    "PATH_2212 = \"DownloadAll\\E01_T_DEU_CONS_2212\\E01_T_DEU_CONS_2212.csv\"\n",
    "PATH_2301 = \"DownloadAll\\E01_T_DEU_CONS_2301\\E01_T_DEU_CONS_2301.csv\"\n",
    "PATH_2302 = \"DownloadAll\\E01_T_DEU_CONS_2302\\E01_T_DEU_CONS_2302.csv\"\n",
    "PATH_2303 = \"DownloadAll\\E01_T_DEU_CONS_2303\\E01_T_DEU_CONS_2303.csv\"\n",
    "PATH_DICC = \"DownloadAll\\Diccionario T_DEU_CONS.xlsx\"\n",
    "BANCO_CODS = [39,27]\n",
    "MONEDA_CODS = [1,2,3] # Peso chileno, UF y dolar"
   ]
  },
  {
   "cell_type": "code",
   "execution_count": 3,
   "metadata": {},
   "outputs": [],
   "source": [
    "DICC_CODFAM = list(pd.read_excel(PATH_DICC, sheet_name='CODFAM')['CODIGO'])[1:]\n",
    "DICC_CODTLP = list(pd.read_excel(PATH_DICC, sheet_name='CODTLP')['CODIGO'])\n",
    "DICC_PROD = list(pd.read_excel(PATH_DICC, sheet_name='CODPRO')['CODIGO'])[1:]\n",
    "\n",
    "# A futuro definimos esto segun columnas\n",
    "umbral = {'R': 5, 'Y': 10}"
   ]
  },
  {
   "attachments": {},
   "cell_type": "markdown",
   "metadata": {},
   "source": [
    "# Lectura de datos"
   ]
  },
  {
   "cell_type": "code",
   "execution_count": 4,
   "metadata": {},
   "outputs": [],
   "source": [
    "#dfdict = pd.read_excel('E01_T_DEU_CONS/Diccionario T_DEU_CONS.xlsx')\n",
    "#df2210 = pd.read_csv(PATH_2210, delimiter=\";\")\n",
    "#df2211 = pd.read_csv(PATH_2211,delimiter=\";\")\n",
    "#df2212 = pd.read_csv(PATH_2212,delimiter=\";\")\n",
    "#df2301 = pd.read_csv(PATH_2301,delimiter=\";\")\n",
    "#df2302 = pd.read_csv(PATH_2302,delimiter=\";\")\n",
    "#df2303 = pd.read_csv(PATH_2303,delimiter=\";\")"
   ]
  },
  {
   "cell_type": "code",
   "execution_count": null,
   "metadata": {},
   "outputs": [],
   "source": [
    "PATH_2303 = \"E01_T_DEU_CONS_2303_REV.csv\"\n",
    "PATH_2302 = \"E01_T_DEU_CONS_2302_REV.csv\""
   ]
  },
  {
   "attachments": {},
   "cell_type": "markdown",
   "metadata": {},
   "source": [
    "# Tests"
   ]
  },
  {
   "cell_type": "code",
   "execution_count": 6,
   "metadata": {},
   "outputs": [],
   "source": [
    "df_2303 = pd.read_csv(PATH_2303,delimiter=\";\")\n",
    "df_2302 = pd.read_csv(PATH_2302,delimiter=\";\")"
   ]
  },
  {
   "attachments": {},
   "cell_type": "markdown",
   "metadata": {},
   "source": [
    "## Kolmogorov Test"
   ]
  },
  {
   "cell_type": "code",
   "execution_count": 7,
   "metadata": {},
   "outputs": [],
   "source": [
    "def Kolmogorov_test(new_df,old_df,column,threshold):\n",
    "    ks_statistic, p_value = kstest(new_df[column].dropna(), old_df[column].dropna())\n",
    "    if p_value < threshold:\n",
    "        return(\"No Cumple\",ks_statistic, p_value)\n",
    "    return(\"Cumple\",ks_statistic, p_value)\n"
   ]
  },
  {
   "attachments": {},
   "cell_type": "markdown",
   "metadata": {},
   "source": [
    "### MTOREV"
   ]
  },
  {
   "cell_type": "code",
   "execution_count": 8,
   "metadata": {},
   "outputs": [
    {
     "name": "stdout",
     "output_type": "stream",
     "text": [
      "Resultado: Cumple\n",
      "KS statistic: 7.82799114207311e-06\n",
      "P-value: 1.0\n"
     ]
    }
   ],
   "source": [
    "resultado, ks_statistic, p_value = Kolmogorov_test(df_2303,df_2302,\"MTOREV\",0.05)\n",
    "\n",
    "# Print the results\n",
    "\n",
    "print(\"Resultado:\",resultado)\n",
    "print(\"KS statistic:\", ks_statistic)\n",
    "print(\"P-value:\", p_value)"
   ]
  },
  {
   "attachments": {},
   "cell_type": "markdown",
   "metadata": {},
   "source": [
    "### SALMD"
   ]
  },
  {
   "cell_type": "code",
   "execution_count": 9,
   "metadata": {},
   "outputs": [
    {
     "name": "stdout",
     "output_type": "stream",
     "text": [
      "Resultado: Cumple\n",
      "KS statistic: 0.0013133521300898472\n",
      "P-value: 0.41368197105958027\n"
     ]
    }
   ],
   "source": [
    "resultado, ks_statistic, p_value = Kolmogorov_test(df_2303,df_2302,\"SALMD\",0.05)\n",
    "\n",
    "# Print the results\n",
    "print(\"Resultado:\",resultado)\n",
    "print(\"KS statistic:\", ks_statistic)\n",
    "print(\"P-value:\", p_value)"
   ]
  },
  {
   "attachments": {},
   "cell_type": "markdown",
   "metadata": {},
   "source": [
    "### GASTO"
   ]
  },
  {
   "cell_type": "code",
   "execution_count": 10,
   "metadata": {},
   "outputs": [
    {
     "name": "stdout",
     "output_type": "stream",
     "text": [
      "Resultado: Cumple\n",
      "KS statistic: 0.00020811327687997316\n",
      "P-value: 0.9999999781510335\n"
     ]
    }
   ],
   "source": [
    "resultado, ks_statistic, p_value = Kolmogorov_test(df_2303,df_2302,\"GASTO\",0.05)\n",
    "\n",
    "# Print the results\n",
    "print(\"Resultado:\",resultado)\n",
    "print(\"KS statistic:\", ks_statistic)\n",
    "print(\"P-value:\", p_value)"
   ]
  },
  {
   "attachments": {},
   "cell_type": "markdown",
   "metadata": {},
   "source": [
    "### ULTXCO"
   ]
  },
  {
   "cell_type": "code",
   "execution_count": 11,
   "metadata": {},
   "outputs": [
    {
     "name": "stdout",
     "output_type": "stream",
     "text": [
      "Resultado: Cumple\n",
      "KS statistic: 0.0\n",
      "P-value: 1.0\n"
     ]
    }
   ],
   "source": [
    "resultado, ks_statistic, p_value = Kolmogorov_test(df_2303,df_2302,\"ULTXCO\",0.05)\n",
    "\n",
    "# Print the results\n",
    "print(\"Resultado:\",resultado)\n",
    "print(\"KS statistic:\", ks_statistic)\n",
    "print(\"P-value:\", p_value)"
   ]
  },
  {
   "attachments": {},
   "cell_type": "markdown",
   "metadata": {},
   "source": [
    "### MTOVENC"
   ]
  },
  {
   "cell_type": "code",
   "execution_count": 13,
   "metadata": {},
   "outputs": [
    {
     "name": "stdout",
     "output_type": "stream",
     "text": [
      "Resultado: Cumple\n",
      "KS statistic: 0.000700413714716297\n",
      "P-value: 0.485888419712187\n"
     ]
    }
   ],
   "source": [
    "resultado, ks_statistic, p_value = Kolmogorov_test(df_2303,df_2302,\"MTOVENC\",0.05)\n",
    "\n",
    "# Print the results\n",
    "print(\"Resultado:\",resultado)\n",
    "print(\"KS statistic:\", ks_statistic)\n",
    "print(\"P-value:\", p_value)"
   ]
  },
  {
   "attachments": {},
   "cell_type": "markdown",
   "metadata": {},
   "source": [
    "### TASAINT"
   ]
  },
  {
   "cell_type": "code",
   "execution_count": 15,
   "metadata": {},
   "outputs": [
    {
     "name": "stdout",
     "output_type": "stream",
     "text": [
      "Resultado: No Cumple\n",
      "KS statistic: 0.005865404493531123\n",
      "P-value: 1.6544026819967021e-40\n"
     ]
    }
   ],
   "source": [
    "resultado, ks_statistic, p_value = Kolmogorov_test(df_2303,df_2302,\"TASAINT\",0.05)\n",
    "\n",
    "# Print the results\n",
    "print(\"Resultado:\",resultado)\n",
    "print(\"KS statistic:\", ks_statistic)\n",
    "print(\"P-value:\", p_value)"
   ]
  },
  {
   "attachments": {},
   "cell_type": "markdown",
   "metadata": {},
   "source": [
    "### SPROM"
   ]
  },
  {
   "cell_type": "code",
   "execution_count": 21,
   "metadata": {},
   "outputs": [
    {
     "name": "stdout",
     "output_type": "stream",
     "text": [
      "Resultado: No Cumple\n",
      "KS statistic: 0.0031696446409908985\n",
      "P-value: 0.00021844715595412782\n"
     ]
    }
   ],
   "source": [
    "resultado, ks_statistic, p_value = Kolmogorov_test(df_2303,df_2302,\"SPROM\",0.05)\n",
    "\n",
    "# Print the results\n",
    "print(\"Resultado:\",resultado)\n",
    "print(\"KS statistic:\", ks_statistic)\n",
    "print(\"P-value:\", p_value)"
   ]
  },
  {
   "cell_type": "code",
   "execution_count": 22,
   "metadata": {},
   "outputs": [
    {
     "data": {
      "image/png": "[encoded data removed]",
      "text/plain": [
       "<Figure size 640x480 with 1 Axes>"
      ]
     },
     "metadata": {},
     "output_type": "display_data"
    }
   ],
   "source": [
    "data_1 = df_2303[\"TASAINT\"]\n",
    "data_2 = df_2302[\"TASAINT\"]\n",
    "x = np.sort(data_1.dropna())\n",
    "y = np.arange(len(x))/float(len(x))\n",
    "plt.plot(x, y)\n",
    "x2 = np.sort(data_2.dropna())\n",
    "y2 = np.arange(len(x2))/float(len(x2))\n",
    "plt.plot(x2, y2)\n",
    "plt.title('Cumulative plot of both data sources')\n",
    "plt.show()"
   ]
  },
  {
   "attachments": {},
   "cell_type": "markdown",
   "metadata": {},
   "source": [
    "## Mann-Whitney"
   ]
  },
  {
   "cell_type": "code",
   "execution_count": 23,
   "metadata": {},
   "outputs": [],
   "source": [
    "def Mann_Whitney_Test(new_df,old_df,column,threshold):\n",
    "    u_statistic, p_value = mannwhitneyu(new_df[column].dropna(), old_df[column].dropna())\n",
    "    if p_value < threshold:\n",
    "        return(\"No Cumple\",u_statistic, p_value)\n",
    "    return(\"Cumple\",u_statistic, p_value)\n"
   ]
  },
  {
   "attachments": {},
   "cell_type": "markdown",
   "metadata": {},
   "source": [
    "### MTOREV"
   ]
  },
  {
   "cell_type": "code",
   "execution_count": 24,
   "metadata": {},
   "outputs": [
    {
     "name": "stdout",
     "output_type": "stream",
     "text": [
      "Resultado: Cumple\n",
      "KS statistic: 3087722201550.5\n",
      "P-value: 0.9950578062355421\n"
     ]
    }
   ],
   "source": [
    "resultado, u_statistic, p_value = Mann_Whitney_Test(df_2303,df_2302,\"MTOREV\",0.05)\n",
    "\n",
    "# Print the results\n",
    "\n",
    "print(\"Resultado:\",resultado)\n",
    "print(\"U statistic:\", u_statistic)\n",
    "print(\"P-value:\", p_value)"
   ]
  },
  {
   "attachments": {},
   "cell_type": "markdown",
   "metadata": {},
   "source": [
    "### SALMD"
   ]
  },
  {
   "cell_type": "code",
   "execution_count": 25,
   "metadata": {},
   "outputs": [
    {
     "name": "stdout",
     "output_type": "stream",
     "text": [
      "Resultado: No Cumple\n",
      "KS statistic: 411564500510.5\n",
      "P-value: 2.514248769429729e-06\n"
     ]
    }
   ],
   "source": [
    "resultado, u_statistic, p_value = Mann_Whitney_Test(df_2303,df_2302,\"SALMD\",0.05)\n",
    "\n",
    "# Print the results\n",
    "print(\"Resultado:\",resultado)\n",
    "print(\"U statistic:\", u_statistic)\n",
    "print(\"P-value:\", p_value)"
   ]
  },
  {
   "attachments": {},
   "cell_type": "markdown",
   "metadata": {},
   "source": [
    "### GASTO"
   ]
  },
  {
   "cell_type": "code",
   "execution_count": 26,
   "metadata": {},
   "outputs": [
    {
     "name": "stdout",
     "output_type": "stream",
     "text": [
      "Resultado: Cumple\n",
      "KS statistic: 4067435878044.5\n",
      "P-value: 0.673379873133851\n"
     ]
    }
   ],
   "source": [
    "resultado, u_statistic, p_value = Mann_Whitney_Test(df_2303,df_2302,\"GASTO\",0.05)\n",
    "\n",
    "# Print the results\n",
    "print(\"Resultado:\",resultado)\n",
    "print(\"U statistic:\", u_statistic)\n",
    "print(\"P-value:\", p_value)"
   ]
  },
  {
   "attachments": {},
   "cell_type": "markdown",
   "metadata": {},
   "source": [
    "### ULTXCO"
   ]
  },
  {
   "cell_type": "code",
   "execution_count": 27,
   "metadata": {},
   "outputs": [
    {
     "name": "stdout",
     "output_type": "stream",
     "text": [
      "Resultado: Cumple\n",
      "KS statistic: 2850251302382.0\n",
      "P-value: 1.0\n"
     ]
    }
   ],
   "source": [
    "resultado, u_statistic, p_value = Mann_Whitney_Test(df_2303,df_2302,\"ULTXCO\",0.05)\n",
    "\n",
    "# Print the results\n",
    "print(\"Resultado:\",resultado)\n",
    "print(\"U statistic:\", u_statistic)\n",
    "print(\"P-value:\", p_value)"
   ]
  },
  {
   "attachments": {},
   "cell_type": "markdown",
   "metadata": {},
   "source": [
    "### MTOVENC"
   ]
  },
  {
   "cell_type": "code",
   "execution_count": 28,
   "metadata": {},
   "outputs": [
    {
     "name": "stdout",
     "output_type": "stream",
     "text": [
      "Resultado: Cumple\n",
      "KS statistic: 4065536614174.0\n",
      "P-value: 0.1733179811086364\n"
     ]
    }
   ],
   "source": [
    "resultado, u_statistic, p_value = Mann_Whitney_Test(df_2303,df_2302,\"MTOVENC\",0.05)\n",
    "\n",
    "# Print the results\n",
    "print(\"Resultado:\",resultado)\n",
    "print(\"U statistic:\", u_statistic)\n",
    "print(\"P-value:\", p_value)"
   ]
  },
  {
   "attachments": {},
   "cell_type": "markdown",
   "metadata": {},
   "source": [
    "### TASAINT"
   ]
  },
  {
   "cell_type": "code",
   "execution_count": 29,
   "metadata": {},
   "outputs": [
    {
     "name": "stdout",
     "output_type": "stream",
     "text": [
      "Resultado: No Cumple\n",
      "KS statistic: 3589420254157.0\n",
      "P-value: 6.406484047016319e-07\n"
     ]
    }
   ],
   "source": [
    "resultado, u_statistic, p_value = Mann_Whitney_Test(df_2303,df_2302,\"TASAINT\",0.05)\n",
    "\n",
    "# Print the results\n",
    "print(\"Resultado:\",resultado)\n",
    "print(\"U statistic:\", u_statistic)\n",
    "print(\"P-value:\", p_value)"
   ]
  },
  {
   "attachments": {},
   "cell_type": "markdown",
   "metadata": {},
   "source": [
    "### SPROM"
   ]
  },
  {
   "cell_type": "code",
   "execution_count": 30,
   "metadata": {},
   "outputs": [
    {
     "name": "stdout",
     "output_type": "stream",
     "text": [
      "Resultado: Cumple\n",
      "KS statistic: 412613876675.0\n",
      "P-value: 0.07254269011584882\n"
     ]
    }
   ],
   "source": [
    "resultado, u_statistic, p_value = Mann_Whitney_Test(df_2303,df_2302,\"SPROM\",0.05)\n",
    "\n",
    "# Print the results\n",
    "print(\"Resultado:\",resultado)\n",
    "print(\"U statistic:\", u_statistic)\n",
    "print(\"P-value:\", p_value)"
   ]
  },
  {
   "cell_type": "code",
   "execution_count": 33,
   "metadata": {},
   "outputs": [],
   "source": [
    "def Tester(new_df,old_df,column,threshold):\n",
    "    KS_results = list(Kolmogorov_test(new_df,old_df,column,threshold))\n",
    "    MW_results = list(Mann_Whitney_Test(new_df,old_df,column,threshold))\n",
    "    return {\"KS\":KS_results[0],\"MW\":MW_results[0]}\n",
    "\n",
    "\n",
    "\n"
   ]
  },
  {
   "cell_type": "code",
   "execution_count": 34,
   "metadata": {},
   "outputs": [
    {
     "name": "stdout",
     "output_type": "stream",
     "text": [
      "{'KS': 'No Cumple', 'MW': 'Cumple'}\n"
     ]
    }
   ],
   "source": [
    "print(Tester(df_2303,df_2302,\"SPROM\",0.05))"
   ]
  }
 ],
 "metadata": {
  "kernelspec": {
   "display_name": "Python 3",
   "language": "python",
   "name": "python3"
  },
  "language_info": {
   "codemirror_mode": {
    "name": "ipython",
    "version": 3
   },
   "file_extension": ".py",
   "mimetype": "text/x-python",
   "name": "python",
   "nbconvert_exporter": "python",
   "pygments_lexer": "ipython3",
   "version": "3.9.6"
  },
  "orig_nbformat": 4,
  "vscode": {
   "interpreter": {
    "hash": "26a68ec743e2a712ee84f8a76f358e13885de212d4466056324832aa219765cf"
   }
  }
 },
 "nbformat": 4,
 "nbformat_minor": 2
}
