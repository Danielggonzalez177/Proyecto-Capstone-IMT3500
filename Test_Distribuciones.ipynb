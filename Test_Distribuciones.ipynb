{
 "cells": [
  {
   "attachments": {},
   "cell_type": "markdown",
   "metadata": {},
   "source": [
    "# Parametros"
   ]
  },
  {
   "cell_type": "code",
   "execution_count": 1,
   "metadata": {},
   "outputs": [],
   "source": [
    "import numpy as np\n",
    "import pandas as pd\n",
    "import matplotlib.pyplot as plt\n",
    "import statsmodels.stats as stat\n",
    "from scipy.stats import kstest, mannwhitneyu\n",
    "#from sklearn.cluster import AffinityPropagation\n",
    "#import prince\n",
    "PATH_2210 = \"..\\DownloadAll\\E01_T_DEU_CONS_2210\\E01_T_DEU_CONS_2210.csv\"\n",
    "PATH_2211 = \"..\\DownloadAll\\E01_T_DEU_CONS_2211\\E01_T_DEU_CONS_2211.csv\"\n",
    "PATH_2212 = \"..\\DownloadAll\\E01_T_DEU_CONS_2212\\E01_T_DEU_CONS_2212.csv\"\n",
    "PATH_2301 = \"..\\DownloadAll\\E01_T_DEU_CONS_2301\\E01_T_DEU_CONS_2301.csv\"\n",
    "PATH_2302 = \"..\\DownloadAll\\E01_T_DEU_CONS_2302\\E01_T_DEU_CONS_2302.csv\"\n",
    "PATH_2303 = \"..\\DownloadAll\\E01_T_DEU_CONS_2303\\E01_T_DEU_CONS_2303.csv\"\n",
    "PATH_DICC = \"..\\DownloadAll\\Diccionario T_DEU_CONS.xlsx\"\n",
    "BANCO_CODS = [39,27]\n",
    "MONEDA_CODS = [1,2,3] # Peso chileno, UF y dolar"
   ]
  },
  {
   "cell_type": "code",
   "execution_count": 2,
   "metadata": {},
   "outputs": [],
   "source": [
    "DICC_CODFAM = list(pd.read_excel(PATH_DICC, sheet_name='CODFAM')['CODIGO'])[1:]\n",
    "DICC_CODTLP = list(pd.read_excel(PATH_DICC, sheet_name='CODTLP')['CODIGO'])\n",
    "DICC_PROD = list(pd.read_excel(PATH_DICC, sheet_name='CODPRO')['CODIGO'])[1:]\n",
    "\n",
    "# A futuro definimos esto segun columnas\n",
    "umbral = {'R': 5, 'Y': 10}"
   ]
  },
  {
   "attachments": {},
   "cell_type": "markdown",
   "metadata": {},
   "source": [
    "# Lectura de datos"
   ]
  },
  {
   "cell_type": "code",
   "execution_count": 3,
   "metadata": {},
   "outputs": [],
   "source": [
    "#dfdict = pd.read_excel('E01_T_DEU_CONS/Diccionario T_DEU_CONS.xlsx')\n",
    "#df2210 = pd.read_csv(PATH_2210, delimiter=\";\")\n",
    "#df2211 = pd.read_csv(PATH_2211,delimiter=\";\")\n",
    "#df2212 = pd.read_csv(PATH_2212,delimiter=\";\")\n",
    "#df2301 = pd.read_csv(PATH_2301,delimiter=\";\")\n",
    "#df2302 = pd.read_csv(PATH_2302,delimiter=\";\")\n",
    "#df2303 = pd.read_csv(PATH_2303,delimiter=\";\")"
   ]
  },
  {
   "cell_type": "code",
   "execution_count": 4,
   "metadata": {},
   "outputs": [],
   "source": [
    "PATH_2303 = \"..\\E01_T_DEU_CONS_2303_REV.csv\"\n",
    "PATH_2302 = \"..\\E01_T_DEU_CONS_2302_REV.csv\""
   ]
  },
  {
   "attachments": {},
   "cell_type": "markdown",
   "metadata": {},
   "source": [
    "# Tests"
   ]
  },
  {
   "cell_type": "code",
   "execution_count": 5,
   "metadata": {},
   "outputs": [],
   "source": [
    "df_2303 = pd.read_csv(PATH_2303,delimiter=\";\")\n",
    "df_2302 = pd.read_csv(PATH_2302,delimiter=\";\")"
   ]
  },
  {
   "cell_type": "code",
   "execution_count": 8,
   "metadata": {},
   "outputs": [],
   "source": [
    "\n",
    "def df_dropna(DataFrame,por=0):\n",
    "    return DataFrame.dropna()\n",
    "def df_fillna_mean(Dataframe,por=0):\n",
    "    return Dataframe.fillna(value = Dataframe.mean())\n",
    "def df_fillna_normal_mean(Dataframe,por=0):\n",
    "    return Dataframe.fillna(value = np.random.normal(loc=Dataframe.mean(),scale=Dataframe.std()))\n",
    "def df_fillna_dropna_mix(Dataframe,por=0):\n",
    "    n = Dataframe.isna().sum(axis=0)\n",
    "    if por == 0 or por *n < 1:\n",
    "        n = 1\n",
    "        por = 1\n",
    "    aux_Dataframe = Dataframe.fillna(value = np.random.normal(loc=Dataframe.mean(),scale=1+Dataframe.std()),limit= int(por*n))\n",
    "    return aux_Dataframe.dropna()"
   ]
  },
  {
   "cell_type": "code",
   "execution_count": 9,
   "metadata": {},
   "outputs": [],
   "source": [
    "def Kolmogorov_condition(threshold,n,m):\n",
    "    c_t = np.sqrt(-np.log(threshold/2)*0.5)\n",
    "    print(c_t * np.sqrt((n+m)/(n*m)))\n",
    "    return c_t * np.sqrt((n+m)/(n*m))\n"
   ]
  },
  {
   "attachments": {},
   "cell_type": "markdown",
   "metadata": {},
   "source": [
    "## Kolmogorov Test"
   ]
  },
  {
   "cell_type": "code",
   "execution_count": 10,
   "metadata": {},
   "outputs": [],
   "source": [
    "def Kolmogorov_test(new_df,old_df,column,threshold,na_action=df_dropna,por=0):\n",
    "    new_data = na_action(new_df[column],por)\n",
    "    old_data = na_action(old_df[column],por)\n",
    "    ks_statistic, p_value = kstest(new_data, old_data)\n",
    "    size_n = len(new_data)\n",
    "    size_m = len(old_data)\n",
    "    condition = Kolmogorov_condition(threshold,size_n,size_m)\n",
    "    if ks_statistic > condition:\n",
    "        return(\"No cumple\",ks_statistic, p_value)\n",
    "    return(\"Cumple\",ks_statistic, p_value)\n"
   ]
  },
  {
   "attachments": {},
   "cell_type": "markdown",
   "metadata": {},
   "source": [
    "### MTOREV"
   ]
  },
  {
   "cell_type": "code",
   "execution_count": 42,
   "metadata": {},
   "outputs": [
    {
     "name": "stdout",
     "output_type": "stream",
     "text": [
      "0.0012183755790419726\n",
      "Resultado: Cumple\n",
      "KS statistic: 7.82799114207311e-06\n",
      "P-value: 1.0\n"
     ]
    }
   ],
   "source": [
    "resultado, ks_statistic, p_value = Kolmogorov_test(df_2303,df_2302,\"MTOREV\",0.05,df_dropna)\n",
    "\n",
    "# Print the results\n",
    "\n",
    "print(\"Resultado:\",resultado)\n",
    "print(\"KS statistic:\", ks_statistic)\n",
    "print(\"P-value:\", p_value)"
   ]
  },
  {
   "attachments": {},
   "cell_type": "markdown",
   "metadata": {},
   "source": [
    "### SALMD"
   ]
  },
  {
   "cell_type": "code",
   "execution_count": 12,
   "metadata": {},
   "outputs": [
    {
     "name": "stdout",
     "output_type": "stream",
     "text": [
      "0.0020158608281832307\n",
      "Resultado: Cumple\n",
      "KS statistic: 0.0013133521300898472\n",
      "P-value: 0.41368197105958027\n"
     ]
    }
   ],
   "source": [
    "resultado, ks_statistic, p_value = Kolmogorov_test(df_2303,df_2302,\"SALMD\",0.05)\n",
    "\n",
    "# Print the results\n",
    "print(\"Resultado:\",resultado)\n",
    "print(\"KS statistic:\", ks_statistic)\n",
    "print(\"P-value:\", p_value)"
   ]
  },
  {
   "attachments": {},
   "cell_type": "markdown",
   "metadata": {},
   "source": [
    "### GASTO"
   ]
  },
  {
   "cell_type": "code",
   "execution_count": 13,
   "metadata": {},
   "outputs": [
    {
     "name": "stdout",
     "output_type": "stream",
     "text": [
      "0.0011372034487550974\n",
      "Resultado: Cumple\n",
      "KS statistic: 0.00020811327687997316\n",
      "P-value: 0.9999999781510335\n"
     ]
    }
   ],
   "source": [
    "resultado, ks_statistic, p_value = Kolmogorov_test(df_2303,df_2302,\"GASTO\",0.05)\n",
    "\n",
    "# Print the results\n",
    "print(\"Resultado:\",resultado)\n",
    "print(\"KS statistic:\", ks_statistic)\n",
    "print(\"P-value:\", p_value)"
   ]
  },
  {
   "attachments": {},
   "cell_type": "markdown",
   "metadata": {},
   "source": [
    "### ULTXCO"
   ]
  },
  {
   "cell_type": "code",
   "execution_count": 14,
   "metadata": {},
   "outputs": [
    {
     "name": "stdout",
     "output_type": "stream",
     "text": [
      "0.0012429955624520448\n",
      "Resultado: Cumple\n",
      "KS statistic: 0.0\n",
      "P-value: 1.0\n"
     ]
    }
   ],
   "source": [
    "resultado, ks_statistic, p_value = Kolmogorov_test(df_2303,df_2302,\"ULTXCO\",0.05)\n",
    "\n",
    "# Print the results\n",
    "print(\"Resultado:\",resultado)\n",
    "print(\"KS statistic:\", ks_statistic)\n",
    "print(\"P-value:\", p_value)"
   ]
  },
  {
   "attachments": {},
   "cell_type": "markdown",
   "metadata": {},
   "source": [
    "### MTOVENC"
   ]
  },
  {
   "cell_type": "code",
   "execution_count": 15,
   "metadata": {},
   "outputs": [
    {
     "name": "stdout",
     "output_type": "stream",
     "text": [
      "0.0011372034487550974\n",
      "Resultado: Cumple\n",
      "KS statistic: 0.000700413714716297\n",
      "P-value: 0.485888419712187\n"
     ]
    }
   ],
   "source": [
    "resultado, ks_statistic, p_value = Kolmogorov_test(df_2303,df_2302,\"MTOVENC\",0.05)\n",
    "\n",
    "# Print the results\n",
    "print(\"Resultado:\",resultado)\n",
    "print(\"KS statistic:\", ks_statistic)\n",
    "print(\"P-value:\", p_value)"
   ]
  },
  {
   "attachments": {},
   "cell_type": "markdown",
   "metadata": {},
   "source": [
    "### TASAINT"
   ]
  },
  {
   "cell_type": "code",
   "execution_count": 16,
   "metadata": {},
   "outputs": [
    {
     "name": "stdout",
     "output_type": "stream",
     "text": [
      "0.0011726535183523583\n",
      "Resultado: No Cumple\n",
      "KS statistic: 0.005865404493531123\n",
      "P-value: 1.6544026819967021e-40\n"
     ]
    }
   ],
   "source": [
    "resultado, ks_statistic, p_value = Kolmogorov_test(df_2303,df_2302,\"TASAINT\",0.05)\n",
    "\n",
    "# Print the results\n",
    "print(\"Resultado:\",resultado)\n",
    "print(\"KS statistic:\", ks_statistic)\n",
    "print(\"P-value:\", p_value)"
   ]
  },
  {
   "attachments": {},
   "cell_type": "markdown",
   "metadata": {},
   "source": [
    "### SPROM"
   ]
  },
  {
   "cell_type": "code",
   "execution_count": 17,
   "metadata": {},
   "outputs": [
    {
     "name": "stdout",
     "output_type": "stream",
     "text": [
      "0.0020158608281832307\n",
      "Resultado: No Cumple\n",
      "KS statistic: 0.0031696446409908985\n",
      "P-value: 0.00021844715595412782\n"
     ]
    }
   ],
   "source": [
    "resultado, ks_statistic, p_value = Kolmogorov_test(df_2303,df_2302,\"SPROM\",0.05)\n",
    "\n",
    "# Print the results\n",
    "print(\"Resultado:\",resultado)\n",
    "print(\"KS statistic:\", ks_statistic)\n",
    "print(\"P-value:\", p_value)"
   ]
  },
  {
   "cell_type": "markdown",
   "metadata": {},
   "source": [
    "### MTOCAST"
   ]
  },
  {
   "cell_type": "code",
   "execution_count": 18,
   "metadata": {},
   "outputs": [
    {
     "name": "stdout",
     "output_type": "stream",
     "text": [
      "0.0011372034487550974\n",
      "Resultado: Cumple\n",
      "KS statistic: 0.0005790794089005624\n",
      "P-value: 0.7249993203779721\n"
     ]
    }
   ],
   "source": [
    "resultado, ks_statistic, p_value = Kolmogorov_test(df_2303,df_2302,\"MTOCAST\",0.05)\n",
    "\n",
    "# Print the results\n",
    "print(\"Resultado:\",resultado)\n",
    "print(\"KS statistic:\", ks_statistic)\n",
    "print(\"P-value:\", p_value)"
   ]
  },
  {
   "cell_type": "markdown",
   "metadata": {},
   "source": [
    "### CONTINGENTE"
   ]
  },
  {
   "cell_type": "code",
   "execution_count": 19,
   "metadata": {},
   "outputs": [
    {
     "name": "stdout",
     "output_type": "stream",
     "text": [
      "0.0015099491956910773\n",
      "Resultado: Cumple\n",
      "KS statistic: 0.0006766095907069225\n",
      "P-value: 0.8524864791009314\n"
     ]
    }
   ],
   "source": [
    "resultado, ks_statistic, p_value = Kolmogorov_test(df_2303,df_2302,\"CONTINGENTE\",0.05)\n",
    "\n",
    "# Print the results\n",
    "print(\"Resultado:\",resultado)\n",
    "print(\"KS statistic:\", ks_statistic)\n",
    "print(\"P-value:\", p_value)"
   ]
  },
  {
   "cell_type": "code",
   "execution_count": 68,
   "metadata": {},
   "outputs": [
    {
     "data": {
      "image/png": "[encoded data removed]",
      "text/plain": [
       "<Figure size 640x480 with 1 Axes>"
      ]
     },
     "metadata": {},
     "output_type": "display_data"
    }
   ],
   "source": [
    "data_1 = df_dropna(df_2303[\"ULTXCO\"],0.99)\n",
    "data_2 = df_dropna(df_2302[\"ULTXCO\"],0.99)\n",
    "x = np.sort(data_1)\n",
    "y = np.arange(len(x))/float(len(x))\n",
    "plt.plot(x, y)\n",
    "x2 = np.sort(data_2)\n",
    "y2 = np.arange(len(x2))/float(len(x2))\n",
    "plt.plot(x2, y2)\n",
    "plt.title('Cumulative plot of both data sources')\n",
    "plt.show()"
   ]
  },
  {
   "attachments": {},
   "cell_type": "markdown",
   "metadata": {},
   "source": [
    "## Mann-Whitney"
   ]
  },
  {
   "cell_type": "code",
   "execution_count": 21,
   "metadata": {},
   "outputs": [],
   "source": [
    "def Mann_Whitney_Test(new_df,old_df,column,threshold,na_action=df_dropna,por=0):\n",
    "    u_statistic, p_value = mannwhitneyu(na_action(new_df[column],por), na_action(old_df[column],por))\n",
    "    if p_value < threshold:\n",
    "        return(\"No cumple\",u_statistic, p_value)\n",
    "    return(\"Cumple\",u_statistic, p_value)\n"
   ]
  },
  {
   "attachments": {},
   "cell_type": "markdown",
   "metadata": {},
   "source": [
    "### MTOREV"
   ]
  },
  {
   "cell_type": "code",
   "execution_count": 22,
   "metadata": {},
   "outputs": [
    {
     "name": "stdout",
     "output_type": "stream",
     "text": [
      "Resultado: Cumple\n",
      "U statistic: 3087722201550.5\n",
      "P-value: 0.9950578062355421\n"
     ]
    }
   ],
   "source": [
    "resultado, u_statistic, p_value = Mann_Whitney_Test(df_2303,df_2302,\"MTOREV\",0.05)\n",
    "\n",
    "# Print the results\n",
    "\n",
    "print(\"Resultado:\",resultado)\n",
    "print(\"U statistic:\", u_statistic)\n",
    "print(\"P-value:\", p_value)"
   ]
  },
  {
   "attachments": {},
   "cell_type": "markdown",
   "metadata": {},
   "source": [
    "### SALMD"
   ]
  },
  {
   "cell_type": "code",
   "execution_count": 23,
   "metadata": {},
   "outputs": [
    {
     "name": "stdout",
     "output_type": "stream",
     "text": [
      "Resultado: No Cumple\n",
      "U statistic: 411564500510.5\n",
      "P-value: 2.514248769429729e-06\n"
     ]
    }
   ],
   "source": [
    "resultado, u_statistic, p_value = Mann_Whitney_Test(df_2303,df_2302,\"SALMD\",0.05)\n",
    "\n",
    "# Print the results\n",
    "print(\"Resultado:\",resultado)\n",
    "print(\"U statistic:\", u_statistic)\n",
    "print(\"P-value:\", p_value)"
   ]
  },
  {
   "attachments": {},
   "cell_type": "markdown",
   "metadata": {},
   "source": [
    "### GASTO"
   ]
  },
  {
   "cell_type": "code",
   "execution_count": 24,
   "metadata": {},
   "outputs": [
    {
     "name": "stdout",
     "output_type": "stream",
     "text": [
      "Resultado: Cumple\n",
      "U statistic: 4067435878044.5\n",
      "P-value: 0.673379873133851\n"
     ]
    }
   ],
   "source": [
    "resultado, u_statistic, p_value = Mann_Whitney_Test(df_2303,df_2302,\"GASTO\",0.05)\n",
    "\n",
    "# Print the results\n",
    "print(\"Resultado:\",resultado)\n",
    "print(\"U statistic:\", u_statistic)\n",
    "print(\"P-value:\", p_value)"
   ]
  },
  {
   "attachments": {},
   "cell_type": "markdown",
   "metadata": {},
   "source": [
    "### ULTXCO"
   ]
  },
  {
   "cell_type": "code",
   "execution_count": 25,
   "metadata": {},
   "outputs": [
    {
     "name": "stdout",
     "output_type": "stream",
     "text": [
      "Resultado: Cumple\n",
      "U statistic: 2850251302382.0\n",
      "P-value: 1.0\n"
     ]
    }
   ],
   "source": [
    "resultado, u_statistic, p_value = Mann_Whitney_Test(df_2303,df_2302,\"ULTXCO\",0.05)\n",
    "\n",
    "# Print the results\n",
    "print(\"Resultado:\",resultado)\n",
    "print(\"U statistic:\", u_statistic)\n",
    "print(\"P-value:\", p_value)"
   ]
  },
  {
   "attachments": {},
   "cell_type": "markdown",
   "metadata": {},
   "source": [
    "### MTOVENC"
   ]
  },
  {
   "cell_type": "code",
   "execution_count": 26,
   "metadata": {},
   "outputs": [
    {
     "name": "stdout",
     "output_type": "stream",
     "text": [
      "Resultado: Cumple\n",
      "U statistic: 4065536614174.0\n",
      "P-value: 0.1733179811086364\n"
     ]
    }
   ],
   "source": [
    "resultado, u_statistic, p_value = Mann_Whitney_Test(df_2303,df_2302,\"MTOVENC\",0.05)\n",
    "\n",
    "# Print the results\n",
    "print(\"Resultado:\",resultado)\n",
    "print(\"U statistic:\", u_statistic)\n",
    "print(\"P-value:\", p_value)"
   ]
  },
  {
   "attachments": {},
   "cell_type": "markdown",
   "metadata": {},
   "source": [
    "### TASAINT"
   ]
  },
  {
   "cell_type": "code",
   "execution_count": 27,
   "metadata": {},
   "outputs": [
    {
     "name": "stdout",
     "output_type": "stream",
     "text": [
      "Resultado: No Cumple\n",
      "U statistic: 3589420254157.0\n",
      "P-value: 6.406484047016319e-07\n"
     ]
    }
   ],
   "source": [
    "resultado, u_statistic, p_value = Mann_Whitney_Test(df_2303,df_2302,\"TASAINT\",0.05)\n",
    "\n",
    "# Print the results\n",
    "print(\"Resultado:\",resultado)\n",
    "print(\"U statistic:\", u_statistic)\n",
    "print(\"P-value:\", p_value)"
   ]
  },
  {
   "attachments": {},
   "cell_type": "markdown",
   "metadata": {},
   "source": [
    "### SPROM"
   ]
  },
  {
   "cell_type": "code",
   "execution_count": 28,
   "metadata": {},
   "outputs": [
    {
     "name": "stdout",
     "output_type": "stream",
     "text": [
      "Resultado: Cumple\n",
      "U statistic: 412613876675.0\n",
      "P-value: 0.07254269011584882\n"
     ]
    }
   ],
   "source": [
    "resultado, u_statistic, p_value = Mann_Whitney_Test(df_2303,df_2302,\"SPROM\",0.05)\n",
    "\n",
    "# Print the results\n",
    "print(\"Resultado:\",resultado)\n",
    "print(\"U statistic:\", u_statistic)\n",
    "print(\"P-value:\", p_value)"
   ]
  },
  {
   "cell_type": "markdown",
   "metadata": {},
   "source": [
    "### MTOCAST"
   ]
  },
  {
   "cell_type": "code",
   "execution_count": 29,
   "metadata": {},
   "outputs": [
    {
     "name": "stdout",
     "output_type": "stream",
     "text": [
      "Resultado: Cumple\n",
      "U statistic: 4070096759792.0\n",
      "P-value: 0.3589258163150938\n"
     ]
    }
   ],
   "source": [
    "resultado, u_statistic, p_value = Mann_Whitney_Test(df_2303,df_2302,\"MTOCAST\",0.05)\n",
    "\n",
    "# Print the results\n",
    "print(\"Resultado:\",resultado)\n",
    "print(\"U statistic:\", u_statistic)\n",
    "print(\"P-value:\", p_value)"
   ]
  },
  {
   "cell_type": "markdown",
   "metadata": {},
   "source": [
    "### CONTINGENTE"
   ]
  },
  {
   "cell_type": "code",
   "execution_count": 30,
   "metadata": {},
   "outputs": [
    {
     "name": "stdout",
     "output_type": "stream",
     "text": [
      "Resultado: Cumple\n",
      "U statistic: 1308047177614.0\n",
      "P-value: 0.34061324045245256\n"
     ]
    }
   ],
   "source": [
    "resultado, u_statistic, p_value = Mann_Whitney_Test(df_2303,df_2302,\"CONTINGENTE\",0.05)\n",
    "\n",
    "# Print the results\n",
    "print(\"Resultado:\",resultado)\n",
    "print(\"U statistic:\", u_statistic)\n",
    "print(\"P-value:\", p_value)"
   ]
  },
  {
   "cell_type": "code",
   "execution_count": 62,
   "metadata": {},
   "outputs": [],
   "source": [
    "def Tester(new_df,old_df,column,threshold,na_action=df_dropna,por = 0):\n",
    "    KS_results = list(Kolmogorov_test(new_df,old_df,column,threshold,na_action,por))\n",
    "    MW_results = list(Mann_Whitney_Test(new_df,old_df,column,threshold,na_action,por))\n",
    "    return {\"KS\":KS_results,\"MW\":MW_results}\n",
    "\n",
    "\n",
    "\n"
   ]
  }
 ],
 "metadata": {
  "kernelspec": {
   "display_name": "Python 3",
   "language": "python",
   "name": "python3"
  },
  "language_info": {
   "codemirror_mode": {
    "name": "ipython",
    "version": 3
   },
   "file_extension": ".py",
   "mimetype": "text/x-python",
   "name": "python",
   "nbconvert_exporter": "python",
   "pygments_lexer": "ipython3",
   "version": "3.9.6"
  },
  "orig_nbformat": 4,
  "vscode": {
   "interpreter": {
    "hash": "26a68ec743e2a712ee84f8a76f358e13885de212d4466056324832aa219765cf"
   }
  }
 },
 "nbformat": 4,
 "nbformat_minor": 2
}
