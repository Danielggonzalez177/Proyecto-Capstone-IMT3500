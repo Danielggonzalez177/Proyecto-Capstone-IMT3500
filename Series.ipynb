{
 "cells": [
  {
   "cell_type": "code",
   "execution_count": 3,
   "metadata": {},
   "outputs": [],
   "source": [
    "import numpy as np\n",
    "import pandas as pd\n",
    "import matplotlib.pyplot as plt\n",
    "#Cambiar el path *Importante\n",
    "PATH_2210 = \"E01_T_DEU_CONS_2210_REV.csv\"\n",
    "PATH_2211 = \"E01_T_DEU_CONS_2211_REV.csv\"\n",
    "PATH_2212 = \"E01_T_DEU_CONS_2212_REV.csv\"\n",
    "PATH_2301 = \"E01_T_DEU_CONS_2301_REV.csv\"\n",
    "PATH_2302 = \"E01_T_DEU_CONS_2302_REV.csv\"\n",
    "PATH_2303 = \"E01_T_DEU_CONS_2303_REV.csv\""
   ]
  },
  {
   "attachments": {},
   "cell_type": "markdown",
   "metadata": {},
   "source": [
    "Cargar las bases"
   ]
  },
  {
   "cell_type": "code",
   "execution_count": null,
   "metadata": {},
   "outputs": [],
   "source": [
    "#df2210 = pd.read_csv(PATH_2210, delimiter=\";\")\n",
    "#df2211 = pd.read_csv(PATH_2211,delimiter=\";\")\n",
    "#df2212 = pd.read_csv(PATH_2212,delimiter=\";\")\n",
    "#df2301 = pd.read_csv(PATH_2301,delimiter=\";\")\n",
    "#df2302 = pd.read_csv(PATH_2302,delimiter=\";\")\n",
    "#df2303 = pd.read_csv(PATH_2303,delimiter=\";\")"
   ]
  },
  {
   "attachments": {},
   "cell_type": "markdown",
   "metadata": {},
   "source": [
    "Cargar las bases (Solo las personas)"
   ]
  },
  {
   "cell_type": "code",
   "execution_count": 4,
   "metadata": {},
   "outputs": [],
   "source": [
    "df2210 = pd.read_csv(PATH_2210, delimiter=\";\", usecols = ['RUT'])\n",
    "df2211 = pd.read_csv(PATH_2211, delimiter=\";\", usecols = ['RUT'])\n",
    "df2212 = pd.read_csv(PATH_2212, delimiter=\";\", usecols = ['RUT'])\n",
    "df2301 = pd.read_csv(PATH_2301, delimiter=\";\", usecols = ['RUT'])\n",
    "df2302 = pd.read_csv(PATH_2302, delimiter=\";\", usecols = ['RUT'])\n",
    "df2303 = pd.read_csv(PATH_2303, delimiter=\";\", usecols = ['RUT'])"
   ]
  },
  {
   "attachments": {},
   "cell_type": "markdown",
   "metadata": {},
   "source": [
    "Buscamos a las personas que estan presentes en todos los dataframes"
   ]
  },
  {
   "cell_type": "code",
   "execution_count": 5,
   "metadata": {},
   "outputs": [],
   "source": [
    "RutComunes = np.intersect1d(np.intersect1d(np.intersect1d(df2210, df2211), df2212), np.intersect1d(df2301, np.intersect1d(df2302, df2303)))"
   ]
  },
  {
   "attachments": {},
   "cell_type": "markdown",
   "metadata": {},
   "source": [
    "Cantidad de Ruts comunes entre las bases:"
   ]
  },
  {
   "cell_type": "code",
   "execution_count": 4,
   "metadata": {},
   "outputs": [
    {
     "name": "stdout",
     "output_type": "stream",
     "text": [
      "1028027\n"
     ]
    }
   ],
   "source": [
    "print(RutComunes.size) #Podriamos eliminar la primera fila?"
   ]
  },
  {
   "cell_type": "code",
   "execution_count": 6,
   "metadata": {},
   "outputs": [
    {
     "data": {
      "text/html": [
       "<div>\n",
       "<style scoped>\n",
       "    .dataframe tbody tr th:only-of-type {\n",
       "        vertical-align: middle;\n",
       "    }\n",
       "\n",
       "    .dataframe tbody tr th {\n",
       "        vertical-align: top;\n",
       "    }\n",
       "\n",
       "    .dataframe thead th {\n",
       "        text-align: right;\n",
       "    }\n",
       "</style>\n",
       "<table border=\"1\" class=\"dataframe\">\n",
       "  <thead>\n",
       "    <tr style=\"text-align: right;\">\n",
       "      <th></th>\n",
       "      <th>RUT</th>\n",
       "    </tr>\n",
       "  </thead>\n",
       "  <tbody>\n",
       "    <tr>\n",
       "      <th>1028018</th>\n",
       "      <td>1083117</td>\n",
       "    </tr>\n",
       "    <tr>\n",
       "      <th>1028019</th>\n",
       "      <td>1083118</td>\n",
       "    </tr>\n",
       "    <tr>\n",
       "      <th>1028020</th>\n",
       "      <td>1083119</td>\n",
       "    </tr>\n",
       "    <tr>\n",
       "      <th>1028021</th>\n",
       "      <td>1083120</td>\n",
       "    </tr>\n",
       "    <tr>\n",
       "      <th>1028022</th>\n",
       "      <td>1083121</td>\n",
       "    </tr>\n",
       "    <tr>\n",
       "      <th>1028023</th>\n",
       "      <td>1083122</td>\n",
       "    </tr>\n",
       "    <tr>\n",
       "      <th>1028024</th>\n",
       "      <td>1083123</td>\n",
       "    </tr>\n",
       "    <tr>\n",
       "      <th>1028025</th>\n",
       "      <td>1083124</td>\n",
       "    </tr>\n",
       "    <tr>\n",
       "      <th>1028026</th>\n",
       "      <td>1083125</td>\n",
       "    </tr>\n",
       "  </tbody>\n",
       "</table>\n",
       "</div>"
      ],
      "text/plain": [
       "             RUT\n",
       "1028018  1083117\n",
       "1028019  1083118\n",
       "1028020  1083119\n",
       "1028021  1083120\n",
       "1028022  1083121\n",
       "1028023  1083122\n",
       "1028024  1083123\n",
       "1028025  1083124\n",
       "1028026  1083125"
      ]
     },
     "execution_count": 6,
     "metadata": {},
     "output_type": "execute_result"
    }
   ],
   "source": [
    "dfRutComunes = pd.DataFrame({'RUT': RutComunes})\n",
    "lista_rut = dfRutComunes[\"RUT\"]\n",
    "#print(lista_rut[8])\n",
    "#print(len(lista_rut))\n",
    "dfRutComunes.tail(9)"
   ]
  },
  {
   "attachments": {},
   "cell_type": "markdown",
   "metadata": {},
   "source": [
    "Lo que hacemos ahora es para cierta variable, crear un dataframe en el tiempo siempre y cuando el rut se encuentre en todos los periodos (Crear Funcion al final)"
   ]
  },
  {
   "cell_type": "code",
   "execution_count": 16,
   "metadata": {},
   "outputs": [],
   "source": [
    "def dataframevariable(Variable):\n",
    "    df2210 = pd.read_csv(PATH_2210, delimiter=\";\", usecols = ['RUT',Variable])\n",
    "    df2211 = pd.read_csv(PATH_2211, delimiter=\";\", usecols = ['RUT',Variable])\n",
    "    df2212 = pd.read_csv(PATH_2212, delimiter=\";\", usecols = ['RUT',Variable])\n",
    "    df2301 = pd.read_csv(PATH_2301, delimiter=\";\", usecols = ['RUT',Variable])\n",
    "    df2302 = pd.read_csv(PATH_2302, delimiter=\";\", usecols = ['RUT',Variable])\n",
    "    df2303 = pd.read_csv(PATH_2303, delimiter=\";\", usecols = ['RUT',Variable])\n",
    "\n",
    "    dftemporal = pd.DataFrame({'2210': df2210[Variable]})\n",
    "    dftemporal = pd.DataFrame({'2211': df2210[Variable]})\n",
    "    dftemporal = pd.DataFrame({'2212': df2210[Variable]})\n",
    "    dftemporal = pd.DataFrame({'2301': df2210[Variable]})\n",
    "    dftemporal = pd.DataFrame({'2302': df2210[Variable]})\n",
    "    dftemporal = pd.DataFrame({'2313': df2210[Variable]})\n"
   ]
  },
  {
   "cell_type": "code",
   "execution_count": 7,
   "metadata": {},
   "outputs": [],
   "source": [
    "#Ejemplo MTOINT:\n",
    "#Primero cargamos todos los df con respecto a la variable\n",
    "df22101 = pd.read_csv(PATH_2210, delimiter=\";\", usecols = ['RUT',\"MTOINT\"])\n",
    "df22111 = pd.read_csv(PATH_2211, delimiter=\";\", usecols = ['RUT',\"MTOINT\"])\n",
    "df22121 = pd.read_csv(PATH_2212, delimiter=\";\", usecols = ['RUT',\"MTOINT\"])\n",
    "df23011 = pd.read_csv(PATH_2301, delimiter=\";\", usecols = ['RUT',\"MTOINT\"])\n",
    "df23021 = pd.read_csv(PATH_2302, delimiter=\";\", usecols = ['RUT',\"MTOINT\"])\n",
    "df23031 = pd.read_csv(PATH_2303, delimiter=\";\", usecols = ['RUT',\"MTOINT\"])\n",
    "\n"
   ]
  },
  {
   "cell_type": "code",
   "execution_count": 36,
   "metadata": {},
   "outputs": [],
   "source": [
    "dfvarible22101 = df22101.loc[df22101['RUT'].isin(lista_rut)].dropna()\n",
    "dfvarible22111 = df22111.loc[df22111['RUT'].isin(lista_rut)].dropna()\n",
    "dfvarible22121 = df22121.loc[df22121['RUT'].isin(lista_rut)].dropna()\n",
    "dfvarible23011 = df23011.loc[df23011['RUT'].isin(lista_rut)].dropna()\n",
    "dfvarible23021 = df22101.loc[df23021['RUT'].isin(lista_rut)].dropna()\n",
    "dfvarible23031 = df23031.loc[df23031['RUT'].isin(lista_rut)].dropna()"
   ]
  },
  {
   "cell_type": "code",
   "execution_count": 37,
   "metadata": {},
   "outputs": [],
   "source": [
    "#Hacemos un dataframe vacio\n",
    "dataframes = [dfvarible22101, dfvarible22111, dfvarible22121, dfvarible23011, dfvarible23021, dfvarible23031]\n",
    "fechas = [2210,2211.2212,2301,2302,2303]\n",
    "# Crear el nuevo dataframe combinando los dataframes\n",
    "dftemporal = pd.concat([df['MTOINT'] for df in dataframes], axis=1)\n",
    "dftemporal['RUT'] = dfvarible22101['RUT']\n",
    "\n"
   ]
  },
  {
   "cell_type": "code",
   "execution_count": 38,
   "metadata": {},
   "outputs": [
    {
     "data": {
      "text/html": [
       "<div>\n",
       "<style scoped>\n",
       "    .dataframe tbody tr th:only-of-type {\n",
       "        vertical-align: middle;\n",
       "    }\n",
       "\n",
       "    .dataframe tbody tr th {\n",
       "        vertical-align: top;\n",
       "    }\n",
       "\n",
       "    .dataframe thead th {\n",
       "        text-align: right;\n",
       "    }\n",
       "</style>\n",
       "<table border=\"1\" class=\"dataframe\">\n",
       "  <thead>\n",
       "    <tr style=\"text-align: right;\">\n",
       "      <th></th>\n",
       "      <th>2210</th>\n",
       "      <th>2211</th>\n",
       "      <th>2212</th>\n",
       "      <th>2301</th>\n",
       "      <th>2302</th>\n",
       "      <th>2303</th>\n",
       "      <th>RUT</th>\n",
       "    </tr>\n",
       "  </thead>\n",
       "  <tbody>\n",
       "    <tr>\n",
       "      <th>0</th>\n",
       "      <td>0.0</td>\n",
       "      <td>12156.0</td>\n",
       "      <td>NaN</td>\n",
       "      <td>NaN</td>\n",
       "      <td>0.0</td>\n",
       "      <td>49848.0</td>\n",
       "      <td>206506.0</td>\n",
       "    </tr>\n",
       "    <tr>\n",
       "      <th>1</th>\n",
       "      <td>0.0</td>\n",
       "      <td>NaN</td>\n",
       "      <td>0.0</td>\n",
       "      <td>0.0</td>\n",
       "      <td>0.0</td>\n",
       "      <td>0.0</td>\n",
       "      <td>318588.0</td>\n",
       "    </tr>\n",
       "    <tr>\n",
       "      <th>2</th>\n",
       "      <td>0.0</td>\n",
       "      <td>38805.0</td>\n",
       "      <td>0.0</td>\n",
       "      <td>0.0</td>\n",
       "      <td>0.0</td>\n",
       "      <td>0.0</td>\n",
       "      <td>897518.0</td>\n",
       "    </tr>\n",
       "    <tr>\n",
       "      <th>3</th>\n",
       "      <td>4494.0</td>\n",
       "      <td>40388.0</td>\n",
       "      <td>9854.0</td>\n",
       "      <td>0.0</td>\n",
       "      <td>4494.0</td>\n",
       "      <td>0.0</td>\n",
       "      <td>778606.0</td>\n",
       "    </tr>\n",
       "    <tr>\n",
       "      <th>4</th>\n",
       "      <td>12763.0</td>\n",
       "      <td>26671.0</td>\n",
       "      <td>136462.0</td>\n",
       "      <td>0.0</td>\n",
       "      <td>12763.0</td>\n",
       "      <td>0.0</td>\n",
       "      <td>778606.0</td>\n",
       "    </tr>\n",
       "    <tr>\n",
       "      <th>5</th>\n",
       "      <td>9621.0</td>\n",
       "      <td>27102.0</td>\n",
       "      <td>124570.0</td>\n",
       "      <td>0.0</td>\n",
       "      <td>9621.0</td>\n",
       "      <td>0.0</td>\n",
       "      <td>773271.0</td>\n",
       "    </tr>\n",
       "    <tr>\n",
       "      <th>6</th>\n",
       "      <td>16625.0</td>\n",
       "      <td>43084.0</td>\n",
       "      <td>106641.0</td>\n",
       "      <td>0.0</td>\n",
       "      <td>16625.0</td>\n",
       "      <td>0.0</td>\n",
       "      <td>318456.0</td>\n",
       "    </tr>\n",
       "    <tr>\n",
       "      <th>7</th>\n",
       "      <td>0.0</td>\n",
       "      <td>42110.0</td>\n",
       "      <td>46152.0</td>\n",
       "      <td>0.0</td>\n",
       "      <td>0.0</td>\n",
       "      <td>0.0</td>\n",
       "      <td>94128.0</td>\n",
       "    </tr>\n",
       "    <tr>\n",
       "      <th>8</th>\n",
       "      <td>0.0</td>\n",
       "      <td>18573.0</td>\n",
       "      <td>22196.0</td>\n",
       "      <td>NaN</td>\n",
       "      <td>0.0</td>\n",
       "      <td>0.0</td>\n",
       "      <td>96287.0</td>\n",
       "    </tr>\n",
       "  </tbody>\n",
       "</table>\n",
       "</div>"
      ],
      "text/plain": [
       "      2210     2211      2212  2301     2302     2303       RUT\n",
       "0      0.0  12156.0       NaN   NaN      0.0  49848.0  206506.0\n",
       "1      0.0      NaN       0.0   0.0      0.0      0.0  318588.0\n",
       "2      0.0  38805.0       0.0   0.0      0.0      0.0  897518.0\n",
       "3   4494.0  40388.0    9854.0   0.0   4494.0      0.0  778606.0\n",
       "4  12763.0  26671.0  136462.0   0.0  12763.0      0.0  778606.0\n",
       "5   9621.0  27102.0  124570.0   0.0   9621.0      0.0  773271.0\n",
       "6  16625.0  43084.0  106641.0   0.0  16625.0      0.0  318456.0\n",
       "7      0.0  42110.0   46152.0   0.0      0.0      0.0   94128.0\n",
       "8      0.0  18573.0   22196.0   NaN      0.0      0.0   96287.0"
      ]
     },
     "execution_count": 38,
     "metadata": {},
     "output_type": "execute_result"
    }
   ],
   "source": [
    "dftemporal.columns.values[0] = '2210'\n",
    "dftemporal.columns.values[1] = '2211'\n",
    "dftemporal.columns.values[2] = '2212'\n",
    "dftemporal.columns.values[3] = '2301'\n",
    "dftemporal.columns.values[4] = '2302'\n",
    "dftemporal.columns.values[5] = '2303'\n",
    "dftemporal.head(9)"
   ]
  }
 ],
 "metadata": {
  "kernelspec": {
   "display_name": "Python 3",
   "language": "python",
   "name": "python3"
  },
  "language_info": {
   "codemirror_mode": {
    "name": "ipython",
    "version": 3
   },
   "file_extension": ".py",
   "mimetype": "text/x-python",
   "name": "python",
   "nbconvert_exporter": "python",
   "pygments_lexer": "ipython3",
   "version": "3.9.2"
  },
  "orig_nbformat": 4
 },
 "nbformat": 4,
 "nbformat_minor": 2
}
