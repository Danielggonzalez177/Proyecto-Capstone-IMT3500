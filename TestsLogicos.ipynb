{
 "cells": [
  {
   "attachments": {},
   "cell_type": "markdown",
   "metadata": {},
   "source": [
    "# Parametros"
   ]
  },
  {
   "cell_type": "code",
   "execution_count": 8,
   "metadata": {},
   "outputs": [],
   "source": [
    "import numpy as np\n",
    "import pandas as pd\n",
    "import matplotlib.pyplot as plt\n",
    "\n",
    "PATH_2210 = \"Datos\\E01_T_DEU_CONS_2210.csv\"\n",
    "PATH_2211 = \"Datos\\E01_T_DEU_CONS_2211.csv\"\n",
    "PATH_2212 = \"Datos\\E01_T_DEU_CONS_2212.csv\"\n",
    "PATH_2301 = \"Datos\\E01_T_DEU_CONS_2301.csv\"\n",
    "PATH_2302 = \"Datos\\E01_T_DEU_CONS_2302.csv\"\n",
    "PATH_2303 = \"Datos\\E01_T_DEU_CONS_2303.csv\"\n",
    "PATH_DICC = \"Datos\\Diccionario T_DEU_CONS.xlsx\"\n",
    "BANCO_CODS = [39,27]\n",
    "MONEDA_CODS = [1,2,3] # Peso chileno, UF y dolar"
   ]
  },
  {
   "cell_type": "code",
   "execution_count": 16,
   "metadata": {},
   "outputs": [],
   "source": [
    "# DICC_CODFAM = list(pd.read_excel(PATH_DICC, sheet_name='CODFAM')['CODIGO'])[1:]\n",
    "# DICC_CODTLP = list(pd.read_excel(PATH_DICC, sheet_name='CODTLP')['CODIGO'])\n",
    "# DICC_PROD = list(pd.read_excel(PATH_DICC, sheet_name='CODPRO')['CODIGO'])[1:]\n",
    "\n",
    "# A futuro definimos esto segun columnas\n",
    "umbral = {'R': 5}"
   ]
  },
  {
   "attachments": {},
   "cell_type": "markdown",
   "metadata": {},
   "source": [
    "# Lectura de datos"
   ]
  },
  {
   "cell_type": "code",
   "execution_count": null,
   "metadata": {},
   "outputs": [],
   "source": [
    "dfdict = pd.read_excel('E01_T_DEU_CONS/Diccionario T_DEU_CONS.xlsx')\n",
    "df2210 = pd.read_csv(PATH_2210, delimiter=\";\")\n",
    "df2211 = pd.read_csv(PATH_2211,delimiter=\";\")\n",
    "df2212 = pd.read_csv(PATH_2212,delimiter=\";\")\n",
    "df2301 = pd.read_csv(PATH_2301,delimiter=\";\")\n",
    "df2302 = pd.read_csv(PATH_2302,delimiter=\";\")\n",
    "df2303 = pd.read_csv(PATH_2303,delimiter=\";\")"
   ]
  },
  {
   "attachments": {},
   "cell_type": "markdown",
   "metadata": {},
   "source": [
    "# Tests"
   ]
  },
  {
   "cell_type": "code",
   "execution_count": 10,
   "metadata": {},
   "outputs": [],
   "source": [
    "def to_float(s):\n",
    "    if type(s) != float:\n",
    "        s = str(s).split(\",\")\n",
    "        if len(s) == 1:\n",
    "            return float(f\"{int(s[0])}.0\")\n",
    "        return float(f\"{int(s[0])}.{int(s[-1])}\")\n",
    "    return s"
   ]
  },
  {
   "attachments": {},
   "cell_type": "markdown",
   "metadata": {},
   "source": [
    "## Formato"
   ]
  },
  {
   "cell_type": "code",
   "execution_count": 12,
   "metadata": {},
   "outputs": [],
   "source": [
    "def formato(df):\n",
    "    'Retorna alarmas si columnas de la df estan en mal formato: (formato actual, formato en diccionario)'\n",
    "\n",
    "    dfdic = pd.read_excel(PATH_DICC, \\\n",
    "                        sheet_name='T_DEU_CONS')[['Column_name', 'Type', 'Length']]\n",
    "    dt = df.dtypes\n",
    "\n",
    "    alertas = []\n",
    "    for i in dfdic.index:\n",
    "\n",
    "        if ('int' in dfdic['Type'][i]) and (dt[dfdic['Column_name'][i]] == np.int64):\n",
    "            pass # formato correcto\n",
    "        elif ('char' in dfdic['Type'][i]) and (dt[dfdic['Column_name'][i]] == str):\n",
    "            pass # formato correcto\n",
    "        elif ('char' in dfdic['Type'][i]) and (dt[dfdic['Column_name'][i]] == object):\n",
    "            pass # formato correcto (Consideramos validos char como objetos)\n",
    "        elif ('float' in dfdic['Type'][i]) and (dt[dfdic['Column_name'][i]] == float):\n",
    "            pass # formato correcto\n",
    "        elif ('decimal' in dfdic['Type'][i]) and (dt[dfdic['Column_name'][i]] == float):\n",
    "            pass # formato correcto\n",
    "        else:\n",
    "            alertas.append(f'ALERTA ({dfdic[\"Column_name\"][i]}): ({dt[dfdic[\"Column_name\"][i]]}, {dfdic[\"Type\"][i]})')\n",
    "\n",
    "    return alertas"
   ]
  },
  {
   "attachments": {},
   "cell_type": "markdown",
   "metadata": {},
   "source": [
    "## Duplicidad"
   ]
  },
  {
   "cell_type": "code",
   "execution_count": 17,
   "metadata": {},
   "outputs": [],
   "source": [
    "def duplicidad_id_mov(df, umbral = umbral['R']):\n",
    "    'Revisa si el indice unico (Rut, NUMOPE) es unico, y retorna si cumple o no y el porcentaje de error'\n",
    "    df1 = df.groupby(['RUT', 'NUMOPE']).size().reset_index(name='Size')\n",
    "    num = int(df1[df1.Size > 1].shape[0])\n",
    "    den = int(df.shape[0])\n",
    "    \n",
    "    if 100*(num/den) > umbral:\n",
    "        return \"No cumple\", 100*(num/den)\n",
    "    return \"No cumple\", 100*(num/den)"
   ]
  },
  {
   "cell_type": "code",
   "execution_count": 18,
   "metadata": {},
   "outputs": [],
   "source": [
    "def duplicidad_num_cuenta(df, umbral = umbral['R']):\n",
    "    'Revisa si hay duplicados, y retorna si cumple o no y el porcentaje de error'\n",
    "    df1 = df.loc[:, ['RUT', 'NUMOPE']]\n",
    "    Ob = df1.duplicated().value_counts()\n",
    "    op_duplicadas = Ob[True]\n",
    "    den = int(df.shape[0])\n",
    "    if op_duplicadas == 0:\n",
    "        return \"Cumple\",0\n",
    "    return \"No Cumple\",100*(op_duplicadas/den)"
   ]
  },
  {
   "attachments": {},
   "cell_type": "markdown",
   "metadata": {},
   "source": [
    "## Vigencia"
   ]
  },
  {
   "cell_type": "code",
   "execution_count": 122,
   "metadata": {},
   "outputs": [],
   "source": [
    "def fecha(s):\n",
    "    \"Recibe string fecha (int o float), retorna True si NO es fecha valida\"\n",
    "    if s <= 0:\n",
    "        return True\n",
    "    if type(s) == float:\n",
    "        return int(str(s).split(\".\")[0][-2:]) > 31\n",
    "    elif type(s) == int:\n",
    "        return int(str(s)[-2:])> 31\n",
    "\n",
    "def fechas_validas(df, umbral = umbral['R']):\n",
    "    'Revisa si los dias en FECOPE estan en formato correcto, y retorna si cumple o no y el porcentaje de error'\n",
    "    'Acepta solo formato int o float, de otra manera rechaza en totalidad'\n",
    "    if df.FECOPE.dtype != np.int64 :\n",
    "        return \"No cumple\", 100, ('Formato invalido')\n",
    "    cantidad = df[~df.FECOPE.isna()].FECOPE.apply(fecha).value_counts() # si es float\n",
    "    print(cantidad)\n",
    "    print(df[~df.FECOPE.isna()].shape)\n",
    "    prc = 100*(1-cantidad[False]/df[~df.FECOPE.isna()].shape[0])\n",
    "    if prc > umbral:\n",
    "        return \"No cumple\", prc\n",
    "    return \"Cumple\", prc"
   ]
  },
  {
   "cell_type": "code",
   "execution_count": 20,
   "metadata": {},
   "outputs": [],
   "source": [
    "def fec_movimiento(df, umbral = umbral['R']):\n",
    "    'Revisa los NaN en las fechas, y retorna si cumple o no y el porcentaje de error'\n",
    "    if df.FECOPE.dtype == int:\n",
    "        a = \"formato correcto\"\n",
    "    else:\n",
    "        a=\"formato incorrecto\"\n",
    "    num1 = int(df.TASAINT.shape[0])\n",
    "    den1 = int(df.TASAINT.isna().sum())\n",
    "\n",
    "    if 100*(den1/num1) > umbral:\n",
    "        return \"No cumple\", 100*(den1/num1)\n",
    "    return \"Cumple\", 100*(den1/num1)"
   ]
  },
  {
   "attachments": {},
   "cell_type": "markdown",
   "metadata": {},
   "source": [
    "## Razonabilidad"
   ]
  },
  {
   "cell_type": "code",
   "execution_count": 21,
   "metadata": {},
   "outputs": [],
   "source": [
    "#8 EXACTITUD PARA INTERES\n",
    "def exactitud_intereses(df, umbral = umbral['R']):\n",
    "    'Revisa la proporcion de NaN en TASAINT, y retorna si cumple o no y el porcentaje de error'\n",
    "    if df.TASAINT.dtype == float:\n",
    "        a = \"formato correcto\"\n",
    "    else:\n",
    "        a=\"formato incorrecto\"\n",
    "    num = int(df.TASAINT.shape[0])\n",
    "    den = int(df.TASAINT.isna().sum())\n",
    "    if 100*(den/num) > umbral:\n",
    "        return \"No cumple\", 100*(den/num)\n",
    "    return \"Cumple\", 100*(den/num)"
   ]
  },
  {
   "attachments": {},
   "cell_type": "markdown",
   "metadata": {},
   "source": [
    "## Exactitud"
   ]
  },
  {
   "cell_type": "code",
   "execution_count": 22,
   "metadata": {},
   "outputs": [],
   "source": [
    "# Test de MTOREV 15/16\n",
    "def test_mtorev(df, umbral = umbral['R']):\n",
    "    'Revisa si MTOREV toma valores 0, y retorna si cumple o no y el porcentaje de error'\n",
    "    n = df.shape[0]\n",
    "    if df.MTOREV.dtype == float:\n",
    "        prc = 100*df[df.MTOREV == 0].shape[0]/n\n",
    "    else:\n",
    "        df['MTOREVf'] = df.MTOREV.apply(to_float)\n",
    "        prc = 100*df[df.MTOREVf == 0].shape[0]/n\n",
    "    if prc > umbral:\n",
    "            return (\"No cumple\", prc)"
   ]
  },
  {
   "cell_type": "code",
   "execution_count": 23,
   "metadata": {},
   "outputs": [],
   "source": [
    "# Test de ESTADO 17\n",
    "def test_estado(df):\n",
    "    ### PUEDE SER QUE ESTE TEST ESTE MALO? EN NUESTRA BASE DE DATOS HAY MAS VALORES DE ESTADO ###\n",
    "    '?, y retorna si cumple o no y el porcentaje de error'\n",
    "    count = len(df) - len(df[(df[\"ESTADO\"].isin([1,2,3,4]))])\n",
    "    if count > 0:\n",
    "        return \"No Cumple\", 100*(count/len(df))\n",
    "    else:\n",
    "        \"Cumple\",0"
   ]
  },
  {
   "attachments": {},
   "cell_type": "markdown",
   "metadata": {},
   "source": [
    "## Integridad"
   ]
  },
  {
   "cell_type": "code",
   "execution_count": 52,
   "metadata": {},
   "outputs": [],
   "source": [
    "# Test RUT 19\n",
    "# No se puede hacer"
   ]
  },
  {
   "cell_type": "code",
   "execution_count": 53,
   "metadata": {},
   "outputs": [],
   "source": [
    "# Test COD_TRANSACCION 20\n",
    "# No se que es"
   ]
  },
  {
   "cell_type": "code",
   "execution_count": 24,
   "metadata": {},
   "outputs": [],
   "source": [
    "def cod_banco(df,codigos_banc_val):\n",
    "    'Revisa que el codigo de banco este entre los valores definidos, y retorna si cumple o no y el porcentaje de error'\n",
    "    if   df[\"BANCO\"].isin(codigos_banc_val).all():\n",
    "        return \"Cumple\",0\n",
    "    \n",
    "    return \"No Cumple\",100*(len(df[\"BANCO\"].isin(codigos_banc_val))/len(df))"
   ]
  },
  {
   "cell_type": "code",
   "execution_count": 25,
   "metadata": {},
   "outputs": [],
   "source": [
    "def cod_divisa(dataframe,codigos_moneda_val):\n",
    "    'Verificar que las monedas esten dentro de las definidas'\n",
    "    if   dataframe[\"MONEDA\"].isin(codigos_moneda_val).all():\n",
    "        return \"Cumple\",0\n",
    "    \n",
    "    return \"No Cumple\",100*(len(dataframe[(dataframe[\"MONEDA\"].isin(codigos_moneda_val))]))/(len(dataframe))"
   ]
  },
  {
   "cell_type": "code",
   "execution_count": 26,
   "metadata": {},
   "outputs": [],
   "source": [
    "def cod_producto(dataframe, umbral = umbral['R']):\n",
    "    'Verifica que CODPRO este dentro de los valores definidos'\n",
    "    count = dataframe[~dataframe.CODPRO.isin(DICC_PROD)].shape[0]\n",
    "    if count/dataframe.shape[0] > umbral:\n",
    "        return \"No Cumple\", 100*count/dataframe.shape[0]\n",
    "    return \"Cumple\", 0"
   ]
  },
  {
   "cell_type": "code",
   "execution_count": 27,
   "metadata": {},
   "outputs": [],
   "source": [
    "def cod_tlp(dataframe, umbral = 5):\n",
    "    'Verificar que CODTLP este dentro de los valores especificados'\n",
    "    count = dataframe[~dataframe.CODPRO.isin(DICC_CODTLP)].shape[0]\n",
    "    if count/dataframe.shape[0] > umbral:\n",
    "        return \"No Cumple\", 100*count/dataframe.shape[0]\n",
    "    return \"Cumple\", 0"
   ]
  },
  {
   "attachments": {},
   "cell_type": "markdown",
   "metadata": {},
   "source": [
    "## Consistencia"
   ]
  },
  {
   "cell_type": "code",
   "execution_count": 57,
   "metadata": {},
   "outputs": [],
   "source": [
    "# Test 26:  No tenemos acceso al codigo de finalizacion del contrato\n",
    "# En general, no tenemos la info para implementar los tests de consistencia"
   ]
  },
  {
   "cell_type": "code",
   "execution_count": 28,
   "metadata": {},
   "outputs": [],
   "source": [
    "def DIASMORA0_ESTADO1(df, umbral = 5):\n",
    "    'Test (DIASMORA0_ESTADO1): Revisar que si DIASMORA es 0, entonces ESTADO = 1'\n",
    "    \n",
    "    # Numero de filas con DIASMORA = 0\n",
    "    n = df[df.DIASMORA == 0].shape[0]\n",
    "\n",
    "    # Si los dias de mora son 0, las cuotas deberian estar vigentes (solo estado 1)\n",
    "    distr = df[(df.DIASMORA == 0)].ESTADO.value_counts()\n",
    "    prc = (1 - distr[1]/n)*100\n",
    "    \n",
    "    if prc > umbral:\n",
    "        return ('No cumple', round(prc,2))\n",
    "    return ('Cumple', round(prc,2))"
   ]
  },
  {
   "cell_type": "code",
   "execution_count": 29,
   "metadata": {},
   "outputs": [],
   "source": [
    "def DIASMORA30_ESTADO2(df, umbral = 5):\n",
    "    '''Test (DIASMORA30_ESTADO2):  \n",
    "    Si los dias de mora son < 30 y > 0, entonces solo debemos obtener estado: 2 (0 < mora < 30 dias)'''\n",
    "\n",
    "    # Numero de filas con DIASMORA > 0 y < 30\n",
    "    n = df[(df.DIASMORA < 30) & (df.DIASMORA > 0)].shape[0]\n",
    "\n",
    "    # Si los dias de mora son < 30, las cuotas deberian estar en mora 1 (solo estado 2)\n",
    "    distr = df[(df.DIASMORA < 30) & (df.DIASMORA > 0)].ESTADO.value_counts()\n",
    "    prc = (1 - distr[[1,2]].sum()/n)*100\n",
    "    \n",
    "    if prc > umbral:\n",
    "        return ('No cumple', round(prc,2))\n",
    "    return ('Cumple', round(prc,2))"
   ]
  },
  {
   "cell_type": "code",
   "execution_count": 30,
   "metadata": {},
   "outputs": [],
   "source": [
    "# No tiene sentido que aparezcan con estado 1 ni 2 ya que los DIASMORA son mayores a 30\n",
    "def DIASMORA89_ESTADO5(df, umbral = 5):\n",
    "    '''Test (DIASMORA89_ESTADO5):  \n",
    "    Si los dias de mora son <= 89 y >= 30, entonces solo debemos obtener estado: 5'''\n",
    "\n",
    "    # Numero de filas con DIASMORA >= 30 y <= 89\n",
    "    n = df[(df.DIASMORA >= 30) & (df.DIASMORA <= 89)].shape[0]\n",
    "\n",
    "    #  Si los dias de mora son (<= 89 y >= 30), entonces solo debemos obtener estado: 5\n",
    "    distr = df[(df.DIASMORA >= 30) & (df.DIASMORA <= 89)].ESTADO.value_counts()\n",
    "    prc = (1 - distr[5]/n)*100\n",
    "    \n",
    "    if prc > umbral:\n",
    "        return ('No cumple', round(prc,2))\n",
    "    return ('Cumple', round(prc,2))"
   ]
  },
  {
   "cell_type": "code",
   "execution_count": 31,
   "metadata": {},
   "outputs": [],
   "source": [
    "def test_and_write(df, FILENAME):\n",
    "    'Ejecuta los tests anteriores y escribe los resultados en FILENAME.csv'\n",
    "    tests = pd.DataFrame(columns=['Test', 'Resultado'])\n",
    "    tests.loc[len(tests)] = ['Formato', formato(df)]\n",
    "    tests.loc[len(tests)] = ['duplicidad_id_mov', duplicidad_id_mov(df)]\n",
    "    tests.loc[len(tests)] = ['duplicidad_num_cuenta', duplicidad_num_cuenta(df)]\n",
    "    tests.loc[len(tests)] = ['fechas_validas', fechas_validas(df)]\n",
    "    tests.loc[len(tests)] = ['fec_movimiento', fec_movimiento(df)]\n",
    "    tests.loc[len(tests)] = ['exactitud_intereses', exactitud_intereses(df)]\n",
    "    tests.loc[len(tests)] = ['test_mtorev', test_mtorev(df)]\n",
    "    tests.loc[len(tests)] = ['test_estado', test_estado(df)]\n",
    "    tests.loc[len(tests)] = ['cod_banco', cod_banco(df,BANCO_CODS)]\n",
    "    tests.loc[len(tests)] = ['cod_divisa', cod_divisa(df,MONEDA_CODS)]\n",
    "    tests.loc[len(tests)] = ['cod_producto', cod_producto(df)]\n",
    "    tests.loc[len(tests)] = ['cod_tlp', cod_tlp(df)]\n",
    "    tests.loc[len(tests)] = ['DIASMORA0_ESTADO1', DIASMORA0_ESTADO1(df)]\n",
    "    tests.loc[len(tests)] = ['DIASMORA30_ESTADO2', DIASMORA30_ESTADO2(df)]\n",
    "    tests.loc[len(tests)] = ['DIASMORA89_ESTADO5', DIASMORA89_ESTADO5(df)]\n",
    "    tests.to_csv(FILENAME, index=False)\n",
    "\n",
    "    return tests"
   ]
  },
  {
   "attachments": {},
   "cell_type": "markdown",
   "metadata": {},
   "source": [
    "# 2210"
   ]
  },
  {
   "cell_type": "code",
   "execution_count": null,
   "metadata": {},
   "outputs": [],
   "source": [
    "df2210 = pd.read_csv(PATH_2210, delimiter=\";\")"
   ]
  },
  {
   "cell_type": "code",
   "execution_count": 77,
   "metadata": {},
   "outputs": [
    {
     "name": "stdout",
     "output_type": "stream",
     "text": [
      "ALERTA (OPENOIBS): (int64, varchar)\n",
      "ALERTA (MONEDA): (float64, char)\n",
      "ALERTA (DIASMORA): (float64, smallint)\n",
      "ALERTA (TIPDEUDA): (float64, smallint)\n",
      "ALERTA (CUOTOT): (float64, smallint)\n",
      "ALERTA (CUOIMP): (float64, smallint)\n",
      "ALERTA (CUOPEN): (float64, smallint)\n",
      "ALERTA (FECOPE): (float64, int)\n",
      "ALERTA (FECVEN): (float64, int)\n",
      "ALERTA (MARDET): (float64, char)\n",
      "ALERTA (SALDOPUNTA): (int64, float)\n",
      "ALERTA (PERIODICIDAD): (float64, smallint)\n",
      "ALERTA (FECACT): (float64, int)\n",
      "ALERTA (FECBAJ): (float64, int)\n",
      "ALERTA (MARDETF): (float64, smallint)\n",
      "ALERTA (FPVENC): (float64, int)\n",
      "ALERTA (GASTO): (float64, bigint)\n"
     ]
    }
   ],
   "source": [
    "formato(df2210)"
   ]
  },
  {
   "cell_type": "code",
   "execution_count": 86,
   "metadata": {},
   "outputs": [
    {
     "name": "stdout",
     "output_type": "stream",
     "text": [
      "La cantidad de llaves unicas repetidas es de es de 0.0003613309408407304 %\n",
      "La cantidad de NUMOPE que cumplen el formato es de  100.0 %\n"
     ]
    },
    {
     "name": "stderr",
     "output_type": "stream",
     "text": [
      "<ipython-input-8-67892d174b63>:9: FutureWarning: Calling int on a single element Series is deprecated and will raise a TypeError in the future. Use int(ser.iloc[0]) instead\n",
      "  print(f\"La cantidad de NUMOPE que cumplen el formato es de  {100*float(int(df.NUMOPE.apply(lambda x: len(str(x)) <= 8).value_counts()))/den} %\")\n"
     ]
    }
   ],
   "source": [
    "duplicidad_id_mov(df2210)"
   ]
  },
  {
   "cell_type": "code",
   "execution_count": 12,
   "metadata": {},
   "outputs": [
    {
     "name": "stdout",
     "output_type": "stream",
     "text": [
      "La cantidad de filas duplicadas con respecto a 'RUT', 'NUMOPE' es de 0.0003613309408407304 %\n"
     ]
    },
    {
     "data": {
      "text/plain": [
       "('No Cumple', 0.0003613309408407304)"
      ]
     },
     "execution_count": 12,
     "metadata": {},
     "output_type": "execute_result"
    }
   ],
   "source": [
    "duplicidad_num_cuenta(df2210)"
   ]
  },
  {
   "cell_type": "code",
   "execution_count": 14,
   "metadata": {},
   "outputs": [
    {
     "name": "stdout",
     "output_type": "stream",
     "text": [
      "La cantidad de fechas con valor entre 0 y 31 dias son 251947100 y representan un  91.03628268509358 % de la base total, incluyendo valores duplicados\n",
      "La cantidad de fechas con valor nulo son 248075 y representan un  8.96371731490642 % de la base total, incluyendo valores duplicados\n",
      "La cantidad de datos nan en FECOPE es de 6.115020310412184 %, los datos estan en formato incorrecto\n"
     ]
    },
    {
     "name": "stderr",
     "output_type": "stream",
     "text": [
      "<ipython-input-13-38730266fab7>:19: FutureWarning: Calling int on a single element Series is deprecated and will raise a TypeError in the future. Use int(ser.iloc[0]) instead\n",
      "  print(f\"La cantidad de fechas con valor entre 0 y 31 dias son {100*int(cantidad)} y representan un  {100*(int(cantidad)/den)} % de la base total, incluyendo valores duplicados\")\n"
     ]
    }
   ],
   "source": [
    "fec_movimiento(df2210)"
   ]
  },
  {
   "cell_type": "code",
   "execution_count": 17,
   "metadata": {},
   "outputs": [
    {
     "name": "stdout",
     "output_type": "stream",
     "text": [
      "La cantidad de datos nan en TASAINT es de 6.115020310412184 %, los datos estan en formato correcto\n"
     ]
    }
   ],
   "source": [
    "exactitud_intereses(df2210)"
   ]
  },
  {
   "cell_type": "code",
   "execution_count": 65,
   "metadata": {},
   "outputs": [
    {
     "data": {
      "text/plain": [
       "('No cumple', 87.31609158438559)"
      ]
     },
     "execution_count": 65,
     "metadata": {},
     "output_type": "execute_result"
    }
   ],
   "source": [
    "test_mtorev(df2210)"
   ]
  },
  {
   "cell_type": "code",
   "execution_count": 19,
   "metadata": {},
   "outputs": [
    {
     "data": {
      "text/plain": [
       "('No Cumple', 28.577194380870274)"
      ]
     },
     "execution_count": 19,
     "metadata": {},
     "output_type": "execute_result"
    }
   ],
   "source": [
    "test_estado(df2210)"
   ]
  },
  {
   "cell_type": "code",
   "execution_count": 26,
   "metadata": {},
   "outputs": [
    {
     "data": {
      "text/plain": [
       "('Cumple', 0)"
      ]
     },
     "execution_count": 26,
     "metadata": {},
     "output_type": "execute_result"
    }
   ],
   "source": [
    "cod_banco(df2210,BANCO_CODS)"
   ]
  },
  {
   "cell_type": "code",
   "execution_count": 27,
   "metadata": {},
   "outputs": [
    {
     "data": {
      "text/plain": [
       "('No Cumple', 70.37613828279639)"
      ]
     },
     "execution_count": 27,
     "metadata": {},
     "output_type": "execute_result"
    }
   ],
   "source": [
    "cod_divisa(df2210,MONEDA_CODS)"
   ]
  },
  {
   "cell_type": "code",
   "execution_count": 38,
   "metadata": {},
   "outputs": [
    {
     "data": {
      "text/plain": [
       "('Cumple', 0)"
      ]
     },
     "execution_count": 38,
     "metadata": {},
     "output_type": "execute_result"
    }
   ],
   "source": [
    "cod_producto(df2210)"
   ]
  },
  {
   "cell_type": "code",
   "execution_count": 74,
   "metadata": {},
   "outputs": [
    {
     "data": {
      "text/plain": [
       "('Cumple', 0)"
      ]
     },
     "execution_count": 74,
     "metadata": {},
     "output_type": "execute_result"
    }
   ],
   "source": [
    "cod_tlp(df2210)"
   ]
  },
  {
   "cell_type": "code",
   "execution_count": 78,
   "metadata": {},
   "outputs": [
    {
     "data": {
      "text/plain": [
       "('No cumple', 11.96)"
      ]
     },
     "execution_count": 78,
     "metadata": {},
     "output_type": "execute_result"
    }
   ],
   "source": [
    "DIASMORA0_ESTADO1(df2210)"
   ]
  },
  {
   "cell_type": "code",
   "execution_count": 81,
   "metadata": {},
   "outputs": [
    {
     "data": {
      "text/plain": [
       "('Cumple', 1.85)"
      ]
     },
     "execution_count": 81,
     "metadata": {},
     "output_type": "execute_result"
    }
   ],
   "source": [
    "DIASMORA30_ESTADO2(df2210)"
   ]
  },
  {
   "cell_type": "code",
   "execution_count": 85,
   "metadata": {},
   "outputs": [
    {
     "data": {
      "text/plain": [
       "('No cumple', 15.17)"
      ]
     },
     "execution_count": 85,
     "metadata": {},
     "output_type": "execute_result"
    }
   ],
   "source": [
    "DIASMORA89_ESTADO5(df2210)"
   ]
  },
  {
   "cell_type": "code",
   "execution_count": 154,
   "metadata": {},
   "outputs": [
    {
     "name": "stdout",
     "output_type": "stream",
     "text": [
      "La cantidad de filas duplicadas con respecto a 'RUT', 'NUMOPE' es de 0.0003613309408407304 %\n"
     ]
    }
   ],
   "source": [
    "t2210 = test_and_write(df2210)\n",
    "t2210.to_csv('tests2210.csv', index=False)"
   ]
  },
  {
   "attachments": {},
   "cell_type": "markdown",
   "metadata": {},
   "source": [
    "# 2211"
   ]
  },
  {
   "cell_type": "code",
   "execution_count": 30,
   "metadata": {},
   "outputs": [
    {
     "name": "stdout",
     "output_type": "stream",
     "text": [
      "La cantidad de filas duplicadas con respecto a 'RUT', 'NUMOPE' es de 0.0004304506531371244 %\n"
     ]
    }
   ],
   "source": [
    "t2211 = test_and_write(df2211, 'tests2211.csv')"
   ]
  },
  {
   "attachments": {},
   "cell_type": "markdown",
   "metadata": {},
   "source": [
    "# 2212"
   ]
  },
  {
   "cell_type": "code",
   "execution_count": 35,
   "metadata": {},
   "outputs": [
    {
     "name": "stdout",
     "output_type": "stream",
     "text": [
      "La cantidad de filas duplicadas con respecto a 'RUT', 'NUMOPE' es de 0.00042563137981535407 %\n"
     ]
    }
   ],
   "source": [
    "t2212 = test_and_write(df2212, 'tests2212.csv')"
   ]
  },
  {
   "attachments": {},
   "cell_type": "markdown",
   "metadata": {},
   "source": [
    "# 2301"
   ]
  },
  {
   "cell_type": "code",
   "execution_count": 36,
   "metadata": {},
   "outputs": [
    {
     "name": "stdout",
     "output_type": "stream",
     "text": [
      "La cantidad de filas duplicadas con respecto a 'RUT', 'NUMOPE' es de 0.00038851822680281283 %\n"
     ]
    }
   ],
   "source": [
    "t2301 = test_and_write(df2301, 'tests2301.csv')"
   ]
  },
  {
   "attachments": {},
   "cell_type": "markdown",
   "metadata": {},
   "source": [
    "# 2302"
   ]
  },
  {
   "cell_type": "code",
   "execution_count": 38,
   "metadata": {},
   "outputs": [
    {
     "name": "stdout",
     "output_type": "stream",
     "text": [
      "La cantidad de filas duplicadas con respecto a 'RUT', 'NUMOPE' es de 0.00028132145125297055 %\n"
     ]
    }
   ],
   "source": [
    "t2302 = test_and_write(df2302, 'tests2302.csv')"
   ]
  },
  {
   "attachments": {},
   "cell_type": "markdown",
   "metadata": {},
   "source": [
    "# 2303"
   ]
  },
  {
   "cell_type": "code",
   "execution_count": null,
   "metadata": {},
   "outputs": [],
   "source": [
    "t2303 = test_and_write(df2303, 'tests2303.csv')"
   ]
  },
  {
   "attachments": {},
   "cell_type": "markdown",
   "metadata": {},
   "source": [
    "# En REV"
   ]
  },
  {
   "cell_type": "code",
   "execution_count": 125,
   "metadata": {},
   "outputs": [],
   "source": [
    "import numpy as np\n",
    "import pandas as pd\n",
    "import matplotlib.pyplot as plt\n",
    "\n",
    "PATH_2210 = \"..\\..\\Datos\\E01_T_DEU_CONS_2210_REV.csv\"\n",
    "PATH_2211 = \"Datos\\E01_T_DEU_CONS_2211_REV.csv\"\n",
    "PATH_2212 = \"Datos\\E01_T_DEU_CONS_2212_REV.csv\"\n",
    "PATH_2301 = \"Datos\\E01_T_DEU_CONS_2301_REV.csv\"\n",
    "PATH_2302 = \"Datos\\E01_T_DEU_CONS_2302_REV.csv\"\n",
    "PATH_2303 = \"Datos\\E01_T_DEU_CONS_2303_REV.csv\"\n",
    "PATH_DICC = \"..\\..\\Datos\\Diccionario T_DEU_CONS.xlsx\"\n",
    "BANCO_CODS = [39,27]\n",
    "MONEDA_CODS = [1,2,3] # Peso chileno, UF y dolar\n",
    "\n",
    "DICC_CODFAM = list(pd.read_excel(PATH_DICC, sheet_name='CODFAM')['CODIGO'])[1:]\n",
    "DICC_CODTLP = list(pd.read_excel(PATH_DICC, sheet_name='CODTLP')['CODIGO'])\n",
    "DICC_PROD = list(pd.read_excel(PATH_DICC, sheet_name='CODPRO')['CODIGO'])[1:]"
   ]
  },
  {
   "cell_type": "code",
   "execution_count": 9,
   "metadata": {},
   "outputs": [],
   "source": [
    "#dfdict = pd.read_excel('E01_T_DEU_CONS/Diccionario T_DEU_CONS.xlsx')\n",
    "df2210 = pd.read_csv(PATH_2210, delimiter=\";\")\n",
    "# df2211 = pd.read_csv(PATH_2211,delimiter=\";\")\n",
    "# df2212 = pd.read_csv(PATH_2212,delimiter=\";\")\n",
    "# df2301 = pd.read_csv(PATH_2301,delimiter=\";\")\n",
    "# df2302 = pd.read_csv(PATH_2302,delimiter=\";\")\n",
    "# df2303 = pd.read_csv(PATH_2303,delimiter=\";\")"
   ]
  },
  {
   "cell_type": "code",
   "execution_count": 126,
   "metadata": {},
   "outputs": [
    {
     "name": "stdout",
     "output_type": "stream",
     "text": [
      "FECOPE\n",
      "False    2519469\n",
      "True      248077\n",
      "Name: count, dtype: int64\n",
      "(2767546, 54)\n"
     ]
    },
    {
     "data": {
      "text/html": [
       "<div>\n",
       "<style scoped>\n",
       "    .dataframe tbody tr th:only-of-type {\n",
       "        vertical-align: middle;\n",
       "    }\n",
       "\n",
       "    .dataframe tbody tr th {\n",
       "        vertical-align: top;\n",
       "    }\n",
       "\n",
       "    .dataframe thead th {\n",
       "        text-align: right;\n",
       "    }\n",
       "</style>\n",
       "<table border=\"1\" class=\"dataframe\">\n",
       "  <thead>\n",
       "    <tr style=\"text-align: right;\">\n",
       "      <th></th>\n",
       "      <th>Test</th>\n",
       "      <th>Resultado</th>\n",
       "    </tr>\n",
       "  </thead>\n",
       "  <tbody>\n",
       "    <tr>\n",
       "      <th>0</th>\n",
       "      <td>Formato</td>\n",
       "      <td>[ALERTA (OPENOIBS): (int64, varchar), ALERTA (...</td>\n",
       "    </tr>\n",
       "    <tr>\n",
       "      <th>1</th>\n",
       "      <td>duplicidad_id_mov</td>\n",
       "      <td>(No cumple, 0.0003613309408407304)</td>\n",
       "    </tr>\n",
       "    <tr>\n",
       "      <th>2</th>\n",
       "      <td>duplicidad_num_cuenta</td>\n",
       "      <td>(No Cumple, 0.0003613309408407304)</td>\n",
       "    </tr>\n",
       "    <tr>\n",
       "      <th>3</th>\n",
       "      <td>fechas_validas</td>\n",
       "      <td>(No cumple, 8.963789581094584)</td>\n",
       "    </tr>\n",
       "    <tr>\n",
       "      <th>4</th>\n",
       "      <td>fec_movimiento</td>\n",
       "      <td>(No cumple, 6.115020310412184)</td>\n",
       "    </tr>\n",
       "    <tr>\n",
       "      <th>5</th>\n",
       "      <td>exactitud_intereses</td>\n",
       "      <td>(No cumple, 6.115020310412184)</td>\n",
       "    </tr>\n",
       "    <tr>\n",
       "      <th>6</th>\n",
       "      <td>test_mtorev</td>\n",
       "      <td>(No cumple, 87.31609158438559)</td>\n",
       "    </tr>\n",
       "    <tr>\n",
       "      <th>7</th>\n",
       "      <td>test_estado</td>\n",
       "      <td>(No Cumple, 28.577194380870274)</td>\n",
       "    </tr>\n",
       "    <tr>\n",
       "      <th>8</th>\n",
       "      <td>cod_banco</td>\n",
       "      <td>(Cumple, 0)</td>\n",
       "    </tr>\n",
       "    <tr>\n",
       "      <th>9</th>\n",
       "      <td>cod_divisa</td>\n",
       "      <td>(No Cumple, 94.63535565443176)</td>\n",
       "    </tr>\n",
       "    <tr>\n",
       "      <th>10</th>\n",
       "      <td>cod_producto</td>\n",
       "      <td>(Cumple, 0)</td>\n",
       "    </tr>\n",
       "    <tr>\n",
       "      <th>11</th>\n",
       "      <td>cod_tlp</td>\n",
       "      <td>(Cumple, 0)</td>\n",
       "    </tr>\n",
       "    <tr>\n",
       "      <th>12</th>\n",
       "      <td>DIASMORA0_ESTADO1</td>\n",
       "      <td>(No cumple, 11.96)</td>\n",
       "    </tr>\n",
       "    <tr>\n",
       "      <th>13</th>\n",
       "      <td>DIASMORA30_ESTADO2</td>\n",
       "      <td>(Cumple, 1.85)</td>\n",
       "    </tr>\n",
       "    <tr>\n",
       "      <th>14</th>\n",
       "      <td>DIASMORA89_ESTADO5</td>\n",
       "      <td>(No cumple, 15.17)</td>\n",
       "    </tr>\n",
       "  </tbody>\n",
       "</table>\n",
       "</div>"
      ],
      "text/plain": [
       "                     Test                                          Resultado\n",
       "0                 Formato  [ALERTA (OPENOIBS): (int64, varchar), ALERTA (...\n",
       "1       duplicidad_id_mov                 (No cumple, 0.0003613309408407304)\n",
       "2   duplicidad_num_cuenta                 (No Cumple, 0.0003613309408407304)\n",
       "3          fechas_validas                     (No cumple, 8.963789581094584)\n",
       "4          fec_movimiento                     (No cumple, 6.115020310412184)\n",
       "5     exactitud_intereses                     (No cumple, 6.115020310412184)\n",
       "6             test_mtorev                     (No cumple, 87.31609158438559)\n",
       "7             test_estado                    (No Cumple, 28.577194380870274)\n",
       "8               cod_banco                                        (Cumple, 0)\n",
       "9              cod_divisa                     (No Cumple, 94.63535565443176)\n",
       "10           cod_producto                                        (Cumple, 0)\n",
       "11                cod_tlp                                        (Cumple, 0)\n",
       "12      DIASMORA0_ESTADO1                                 (No cumple, 11.96)\n",
       "13     DIASMORA30_ESTADO2                                     (Cumple, 1.85)\n",
       "14     DIASMORA89_ESTADO5                                 (No cumple, 15.17)"
      ]
     },
     "execution_count": 126,
     "metadata": {},
     "output_type": "execute_result"
    }
   ],
   "source": [
    "test_and_write(df2210, 'tests2210REV.csv')"
   ]
  }
 ],
 "metadata": {
  "kernelspec": {
   "display_name": "Python 3",
   "language": "python",
   "name": "python3"
  },
  "language_info": {
   "codemirror_mode": {
    "name": "ipython",
    "version": 3
   },
   "file_extension": ".py",
   "mimetype": "text/x-python",
   "name": "python",
   "nbconvert_exporter": "python",
   "pygments_lexer": "ipython3",
   "version": "3.8.10"
  },
  "orig_nbformat": 4,
  "vscode": {
   "interpreter": {
    "hash": "26a68ec743e2a712ee84f8a76f358e13885de212d4466056324832aa219765cf"
   }
  }
 },
 "nbformat": 4,
 "nbformat_minor": 2
}
