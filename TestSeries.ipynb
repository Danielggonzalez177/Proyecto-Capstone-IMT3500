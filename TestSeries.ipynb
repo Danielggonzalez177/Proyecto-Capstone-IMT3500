{
 "cells": [
  {
   "cell_type": "markdown",
   "metadata": {},
   "source": [
    "Primero cargamos todas las librerias que usaremos,en conjunto con los PATHS de las bases"
   ]
  },
  {
   "cell_type": "code",
   "execution_count": 1,
   "metadata": {},
   "outputs": [],
   "source": [
    "import numpy as np\n",
    "import random\n",
    "import pandas as pd\n",
    "import matplotlib.pyplot as plt\n",
    "from statsmodels.stats.stattools import durbin_watson\n",
    "import math\n",
    "from scipy.stats import norm\n",
    "#Cambiar el path *Importante\n",
    "PATH_2210 = \"E01_T_DEU_CONS_2210_REV.csv\"\n",
    "PATH_2211 = \"E01_T_DEU_CONS_2211_REV.csv\"\n",
    "PATH_2212 = \"E01_T_DEU_CONS_2212_REV.csv\"\n",
    "PATH_2301 = \"E01_T_DEU_CONS_2301_REV.csv\"\n",
    "PATH_2302 = \"E01_T_DEU_CONS_2302_REV.csv\"\n",
    "PATH_2303 = \"E01_T_DEU_CONS_2303_REV.csv\"\n",
    "Lista_Path = [PATH_2210,PATH_2211,PATH_2212,PATH_2301,PATH_2302,PATH_2303]"
   ]
  },
  {
   "cell_type": "code",
   "execution_count": 2,
   "metadata": {},
   "outputs": [
    {
     "data": {
      "text/plain": [
       "0                0\n",
       "1                1\n",
       "2                3\n",
       "3                4\n",
       "4                6\n",
       "            ...   \n",
       "1028140    1083121\n",
       "1028141    1083122\n",
       "1028142    1083123\n",
       "1028143    1083124\n",
       "1028144    1083125\n",
       "Name: RUT, Length: 1028145, dtype: int64"
      ]
     },
     "execution_count": 2,
     "metadata": {},
     "output_type": "execute_result"
    }
   ],
   "source": [
    "def RutComunes(lista):\n",
    "    dataframelist = []\n",
    "    for i in lista:\n",
    "        df = pd.read_csv(i, delimiter=\";\", usecols = ['RUT'])\n",
    "        dataframelist.append(df)\n",
    "\n",
    "    interseccion = np.array(dataframelist[0]['RUT'])\n",
    "\n",
    "    for df in dataframelist[1:]:\n",
    "        RutComunes = np.intersect1d(interseccion, df['RUT'])\n",
    "        \n",
    "    dfRutComunes = pd.DataFrame({'RUT': RutComunes})\n",
    "    lista_rut = dfRutComunes[\"RUT\"]\n",
    "    return lista_rut"
   ]
  },
  {
   "cell_type": "markdown",
   "metadata": {},
   "source": [
    "Generamos el Test de Durbin Watson y el de tamaño muestra"
   ]
  },
  {
   "cell_type": "code",
   "execution_count": 50,
   "metadata": {},
   "outputs": [],
   "source": [
    "def DataProm(dataframe):\n",
    "    cantidad_filas = dataframe.shape[0]\n",
    "    tamaño_muestra =calcular_tamano_muestra(cantidad_filas,0.05,0.5,0.05)\n",
    "    lista_dataframes =[]\n",
    "    for i in range (1000):\n",
    "        dataframe_muestra = dataframe.sample(tamaño_muestra)\n",
    "        lista_dataframes.append(dataframe_muestra)\n",
    "\n",
    "    #print(lista_dataframes[30])\n",
    "    num_columnas = lista_dataframes[0].shape[1]\n",
    "    a = 1\n",
    "    nuevas_fechas = {i: str(a + i) for i in range(num_columnas-1)}\n",
    "    lista_fechas = list(nuevas_fechas.values())\n",
    "    lista_durbinwatson = []\n",
    "    for j in lista_dataframes:\n",
    "        lista_durbinwatsonfecha = []\n",
    "        for fecha in lista_fechas:\n",
    "            if int(fecha) != len(lista_fechas):\n",
    "                dw_test = TestSeriesDW(j,int(fecha),int(fecha)+1)\n",
    "            lista_durbinwatsonfecha.append(dw_test)\n",
    "        lista_durbinwatson.append(lista_durbinwatsonfecha)\n",
    "    lista_final = []\n",
    "\n",
    "    for lista in lista_durbinwatson:\n",
    "        nueva_lista = lista[:-1]  # Eliminar el último elemento de la lista\n",
    "        lista_final.append(nueva_lista)\n",
    "    return lista_final\n",
    "\n",
    "\n",
    "\n",
    "def TestSeriesDW (dataframe,fecha_1,fecha_2):\n",
    "\n",
    "    df_fecha_1 = dataframe[str(fecha_1)]\n",
    "    df_fecha_2 = dataframe[str(fecha_2)]\n",
    "    dw_test = durbin_watson(df_fecha_2 - df_fecha_1)\n",
    "    return dw_test\n",
    "\n",
    "\n",
    "def calcular_tamano_muestra(N, alpha, p, d):\n",
    "    z = abs(norm.ppf(1 - alpha/2)) \n",
    "    numerator = (N * z**2 * p * (1 - p))\n",
    "    denominator = (d**2 * (N - 1) + z**2 * p * (1 - p))\n",
    "    n = numerator / denominator\n",
    "    muestra_tamaño = math.ceil(n)\n",
    "    return muestra_tamaño\n"
   ]
  },
  {
   "cell_type": "code",
   "execution_count": 56,
   "metadata": {},
   "outputs": [],
   "source": [
    "def Test(Variable,lista):\n",
    "    lista_rut=RutComunes(Lista_Path)\n",
    "    ###########################################################################\n",
    "    dataframelist = []\n",
    "    dataframelistna = []\n",
    "    for i in lista:\n",
    "        df1 = pd.read_csv(i, delimiter=\";\", usecols = ['RUT',Variable])\n",
    "        df2 = df1.loc[df1['RUT'].isin(lista_rut)].dropna()\n",
    "        dataframelist.append(df1)\n",
    "        dataframelistna.append(df2)\n",
    "    \n",
    "    \n",
    "    dataframes=[]\n",
    "    a=1\n",
    "    for i in dataframelistna:\n",
    "        tupla = (i,str(a))\n",
    "        dataframes.append(tupla)\n",
    "        a += 1\n",
    "    dftemporal = pd.DataFrame()\n",
    "   \n",
    "    \n",
    "    for df, nombre_df in dataframes:\n",
    "        dftemporal[nombre_df] = df[Variable]\n",
    "\n",
    "    dftemporal['RUT'] = dataframelist[0]['RUT'] \n",
    "    dftemporal = dftemporal.dropna()\n",
    "\n",
    "    \n",
    "    dataframeDW = DataProm(dftemporal)\n",
    "    Matrix = np.array(dataframeDW)\n",
    "    valor_minimo = 1.72789\n",
    "    valor_maximo = 1.80942\n",
    "    mayores = np.mean(Matrix >= valor_maximo) * 100\n",
    "    menores = np.mean(Matrix <= valor_minimo) * 100\n",
    "    media = np.mean((Matrix >= valor_minimo) & (Matrix <= valor_maximo)) * 100\n",
    "\n",
    "    print(\"Porcentaje de elementos mayores o iguales a\", valor_maximo, \":\", mayores)\n",
    "    print(\"Porcentaje de elementos menores o iguales a\", valor_minimo, \":\", menores)\n",
    "    print(\"Porcentaje de elementos entre\", valor_minimo, \"y\", valor_maximo, \":\", media)\n",
    "\n",
    "    NewMatrix =  np.abs(Matrix - 4)\n",
    "\n",
    "    may = np.mean(NewMatrix>= valor_maximo) * 100\n",
    "    men = np.mean(NewMatrix <= valor_minimo) * 100\n",
    "    med = np.mean((NewMatrix >= valor_minimo) & (NewMatrix <= valor_maximo)) * 100\n",
    "    print(\"Porcentaje de elementos mayores o iguales a\", valor_maximo, \":\", may)\n",
    "    print(\"Porcentaje de elementos menores o iguales a\", valor_minimo, \":\", men)\n",
    "    print(\"Porcentaje de elementos entre\", valor_minimo, \"y\", valor_maximo, \":\", med)"
   ]
  },
  {
   "cell_type": "markdown",
   "metadata": {},
   "source": [
    "Finalmente se llega a calcular Dw segun las fechas"
   ]
  },
  {
   "cell_type": "code",
   "execution_count": 57,
   "metadata": {},
   "outputs": [
    {
     "name": "stdout",
     "output_type": "stream",
     "text": [
      "Porcentaje de elementos mayores o iguales a 1.80942 : 96.96000000000001\n",
      "Porcentaje de elementos menores o iguales a 1.72789 : 0.27999999999999997\n",
      "Porcentaje de elementos entre 1.72789 y 1.80942 : 2.76\n",
      "Porcentaje de elementos mayores o iguales a 1.80942 : 97.58\n",
      "Porcentaje de elementos menores o iguales a 1.72789 : 0.2\n",
      "Porcentaje de elementos entre 1.72789 y 1.80942 : 2.22\n"
     ]
    }
   ],
   "source": [
    "Test(\"DIASMORA\",Lista_Path)"
   ]
  }
 ],
 "metadata": {
  "kernelspec": {
   "display_name": "Python 3",
   "language": "python",
   "name": "python3"
  },
  "language_info": {
   "codemirror_mode": {
    "name": "ipython",
    "version": 3
   },
   "file_extension": ".py",
   "mimetype": "text/x-python",
   "name": "python",
   "nbconvert_exporter": "python",
   "pygments_lexer": "ipython3",
   "version": "3.9.2"
  },
  "orig_nbformat": 4
 },
 "nbformat": 4,
 "nbformat_minor": 2
}
